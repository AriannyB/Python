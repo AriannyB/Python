{
 "cells": [
  {
   "attachments": {},
   "cell_type": "markdown",
   "metadata": {},
   "source": [
    "### Tuplas\n",
    "Las tuplas se utilizan para almacenar múltiples elementos en una sola variable. Son uno de los 4 tipos de datos en Python utilizados para almacenar colecciones de datos. \n",
    "- Es ordenada e inmutable, es decir, los elementos tienen un orden definido y ese orden no cambiará\n",
    "- No podemos cambiar, añadir o eliminar elementos una vez creada la tupla\n",
    "- Se escriben entre paréntesis `()`\n",
    "- Permiten valores duplicados\n",
    "- Los elementos están indexados, primer elemento tiene el índice `[0]` el segundo `[1]`, etc."
   ]
  },
  {
   "cell_type": "code",
   "execution_count": 1,
   "metadata": {},
   "outputs": [
    {
     "name": "stdout",
     "output_type": "stream",
     "text": [
      "('manzana', 'pera', 'uva')\n"
     ]
    }
   ],
   "source": [
    "unaTupla= ('manzana','pera','uva')\n",
    "print(unaTupla)"
   ]
  },
  {
   "attachments": {},
   "cell_type": "markdown",
   "metadata": {},
   "source": [
    "Como las tuplas están indexadas, pueden tener elementos con el mismo valor."
   ]
  },
  {
   "cell_type": "code",
   "execution_count": 2,
   "metadata": {},
   "outputs": [
    {
     "name": "stdout",
     "output_type": "stream",
     "text": [
      "('manzana', 'uva', 'limon', 'manzana')\n"
     ]
    }
   ],
   "source": [
    "unaTupla=('manzana','uva','limon','manzana')\n",
    "print(unaTupla)"
   ]
  },
  {
   "attachments": {},
   "cell_type": "markdown",
   "metadata": {},
   "source": [
    "Para saber cuántos items contiene una tupla, utilizamos la función `len()`"
   ]
  },
  {
   "cell_type": "code",
   "execution_count": 3,
   "metadata": {},
   "outputs": [
    {
     "name": "stdout",
     "output_type": "stream",
     "text": [
      "4\n"
     ]
    }
   ],
   "source": [
    "unaTupla=('manzana','uva','limon','manzana')\n",
    "print(len(unaTupla))"
   ]
  },
  {
   "attachments": {},
   "cell_type": "markdown",
   "metadata": {},
   "source": [
    "- Para crear una tupla con un solo elemento, se tiene que añadir una coma después del elemento."
   ]
  },
  {
   "cell_type": "code",
   "execution_count": 4,
   "metadata": {},
   "outputs": [
    {
     "name": "stdout",
     "output_type": "stream",
     "text": [
      "<class 'tuple'>\n"
     ]
    }
   ],
   "source": [
    "unaTupla= ('manzana',)\n",
    "print(type(unaTupla))"
   ]
  },
  {
   "attachments": {},
   "cell_type": "markdown",
   "metadata": {},
   "source": [
    "Las tuplas pueden ser cualquier tipo de dato."
   ]
  },
  {
   "cell_type": "code",
   "execution_count": null,
   "metadata": {},
   "outputs": [],
   "source": [
    "tupla1= ('manzana','pera','limon')\n",
    "tupla2=(1,56,67)\n",
    "tupla3=(True,False,False,True)"
   ]
  },
  {
   "attachments": {},
   "cell_type": "markdown",
   "metadata": {},
   "source": [
    "Pueden contener diferentes tipos de dato."
   ]
  },
  {
   "cell_type": "code",
   "execution_count": null,
   "metadata": {},
   "outputs": [],
   "source": [
    "unaTupla= ('Manzana',1,True)"
   ]
  },
  {
   "attachments": {},
   "cell_type": "markdown",
   "metadata": {},
   "source": [
    "Python define las tuplas como objetos con el tipo de dato `tuple`"
   ]
  },
  {
   "attachments": {},
   "cell_type": "markdown",
   "metadata": {},
   "source": [
    "También es posible utilizar el constructor `tuple()` para crear una tupla."
   ]
  },
  {
   "cell_type": "code",
   "execution_count": 7,
   "metadata": {},
   "outputs": [
    {
     "name": "stdout",
     "output_type": "stream",
     "text": [
      "<class 'tuple'>\n"
     ]
    }
   ],
   "source": [
    "unaTupla= tuple(('manzana','limon','pera','ciruela'))\n",
    "print(type(unaTupla))"
   ]
  },
  {
   "attachments": {},
   "cell_type": "markdown",
   "metadata": {},
   "source": [
    "### Acesso a elementos de una tupla\n",
    "- Podemos acceder a un elemento de una tupla haciendo referencia el número de índice entre corchetes `[]`"
   ]
  },
  {
   "cell_type": "code",
   "execution_count": 3,
   "metadata": {},
   "outputs": [
    {
     "name": "stdout",
     "output_type": "stream",
     "text": [
      "uva\n"
     ]
    }
   ],
   "source": [
    "unaTupla= ('manzana','pera','uva','ciruela')\n",
    "print(unaTupla[2]) #recordar que el índice del primer item es 0"
   ]
  },
  {
   "attachments": {},
   "cell_type": "markdown",
   "metadata": {},
   "source": [
    "La indexación negativa significa empezar por el final. -1 se refiere al último elemento, -2 al penultimo, etc."
   ]
  },
  {
   "cell_type": "code",
   "execution_count": 5,
   "metadata": {},
   "outputs": [
    {
     "name": "stdout",
     "output_type": "stream",
     "text": [
      "pera\n"
     ]
    }
   ],
   "source": [
    "unaTupla= ('manzana','pera','uva','limon')\n",
    "print(unaTupla[-3])"
   ]
  },
  {
   "attachments": {},
   "cell_type": "markdown",
   "metadata": {},
   "source": [
    "### Rango de índices\n",
    "- Podemos especificar un rango de indice especificando donde empieza y donde termina el rango.\n",
    "- Cuando se especifica un rango, el valor de retorno será una nueva tupla con los elementos especificados."
   ]
  },
  {
   "cell_type": "code",
   "execution_count": 7,
   "metadata": {},
   "outputs": [
    {
     "name": "stdout",
     "output_type": "stream",
     "text": [
      "('manzana', 'ciruela')\n"
     ]
    }
   ],
   "source": [
    "unaTupla=('pera','limon','manzana','ciruela','uva')\n",
    "print(unaTupla[2:4]) #primer rango inclusivo, último rango exclusivo."
   ]
  },
  {
   "attachments": {},
   "cell_type": "markdown",
   "metadata": {},
   "source": [
    "Al omitir el inicio, el rango comenzará en el primer elemento."
   ]
  },
  {
   "cell_type": "code",
   "execution_count": 8,
   "metadata": {},
   "outputs": [
    {
     "name": "stdout",
     "output_type": "stream",
     "text": [
      "('pera', 'limon', 'manzana')\n"
     ]
    }
   ],
   "source": [
    "unaTupla=('pera','limon','manzana','ciruela','uva')\n",
    "print(unaTupla[:3])"
   ]
  },
  {
   "attachments": {},
   "cell_type": "markdown",
   "metadata": {},
   "source": [
    "Al omitir el valor final, el rango llegará hasta el final de los elementos en la tupla."
   ]
  },
  {
   "cell_type": "code",
   "execution_count": 10,
   "metadata": {},
   "outputs": [
    {
     "name": "stdout",
     "output_type": "stream",
     "text": [
      "('ciruela', 'uva')\n"
     ]
    }
   ],
   "source": [
    "unaTupla= ('pera','limon','manzana','ciruela','uva')\n",
    "print(unaTupla[3:])"
   ]
  },
  {
   "attachments": {},
   "cell_type": "markdown",
   "metadata": {},
   "source": [
    "Rango de índices negativos\n",
    "- Especicamos indices negativos si queremos iniciar la búsqueda desde el final de la tupla"
   ]
  },
  {
   "cell_type": "code",
   "execution_count": 19,
   "metadata": {},
   "outputs": [
    {
     "name": "stdout",
     "output_type": "stream",
     "text": [
      "('limon', 'manzana', 'ciruela')\n"
     ]
    }
   ],
   "source": [
    "unaTupla= ('pera','limon','manzana','ciruela','uva')\n",
    "print(unaTupla[-4:-1])"
   ]
  },
  {
   "attachments": {},
   "cell_type": "markdown",
   "metadata": {},
   "source": [
    "Para comprobar la existencia de un elemento en una tupla, utilizamos `in`"
   ]
  },
  {
   "cell_type": "code",
   "execution_count": 21,
   "metadata": {},
   "outputs": [
    {
     "name": "stdout",
     "output_type": "stream",
     "text": [
      "Sí, manzana está\n"
     ]
    }
   ],
   "source": [
    "unaTupla=('manzana','uva','limon')\n",
    "if 'manzana' in unaTupla:\n",
    "    print('Sí, manzana está')"
   ]
  },
  {
   "attachments": {},
   "cell_type": "markdown",
   "metadata": {},
   "source": [
    "### Modificar los valores de las tuplas\n",
    "- Una vez creada una tupla, no podemos cambiar sus valores.\n",
    "- Pero, hay un solución. Convertimos la tupla en una lista, cambiar la lista y volver a convertir la lista en tupla."
   ]
  },
  {
   "cell_type": "code",
   "execution_count": 23,
   "metadata": {},
   "outputs": [
    {
     "name": "stdout",
     "output_type": "stream",
     "text": [
      "('melon', 'pera', 'uva', 'limon')\n"
     ]
    }
   ],
   "source": [
    "x= ('manzana','pera','uva','limon')\n",
    "y= list(x)\n",
    "y[0]= 'melon'\n",
    "x= tuple(y)\n",
    "print(x)"
   ]
  },
  {
   "attachments": {},
   "cell_type": "markdown",
   "metadata": {},
   "source": [
    "### Añadir elementos\n",
    "Como las tuplas son inmutables, no tienen un método incorporado `append()` pero hay otras formas de añadir elementos a una tupla.\n",
    "- 1. Convertir en una lista: Al igual que la solución anterior para cambiar una tupla, podemos convertirla en una lista, añadir elementos y convertirla de nuevo en tupla."
   ]
  },
  {
   "cell_type": "code",
   "execution_count": 25,
   "metadata": {},
   "outputs": [
    {
     "name": "stdout",
     "output_type": "stream",
     "text": [
      "('manzana', 'pera', 'limon', 'melon', 'banana')\n"
     ]
    }
   ],
   "source": [
    "unaTupla=('manzana','pera','limon','melon')\n",
    "x= list(unaTupla)\n",
    "x.append('banana')\n",
    "unaTupla= tuple(x)\n",
    "print(unaTupla)"
   ]
  },
  {
   "attachments": {},
   "cell_type": "markdown",
   "metadata": {},
   "source": [
    "- 2. Agrega una tupa a otra tupla. Si queremos añadir un elemento, o muchos, creamos una nueva tupla con el elemento que queremos añadir y lo añadimos a la tupla ya existente."
   ]
  },
  {
   "cell_type": "code",
   "execution_count": 27,
   "metadata": {},
   "outputs": [
    {
     "name": "stdout",
     "output_type": "stream",
     "text": [
      "('manzana', 'pera', 'limon', 'melon', 'sandia', 'granada', 'tomate')\n"
     ]
    }
   ],
   "source": [
    "unaTupla=('manzana','pera','limon','melon')\n",
    "otraTupla=('sandia','granada','tomate') #si añadimos un solo item, recordemos agregar la coma al final.\n",
    "\n",
    "unaTupla+= otraTupla\n",
    "print(unaTupla)\n"
   ]
  },
  {
   "attachments": {},
   "cell_type": "markdown",
   "metadata": {},
   "source": [
    "### Remover elementos.\n",
    "No podemos remover elementos en una tupla, sin embargo, podemos utilizar la misma solución para cambiar o añadir elementos en una tupla."
   ]
  },
  {
   "cell_type": "code",
   "execution_count": 33,
   "metadata": {},
   "outputs": [
    {
     "name": "stdout",
     "output_type": "stream",
     "text": [
      "('manzana', 'limon', 'melon')\n"
     ]
    }
   ],
   "source": [
    "unaTupla=('manzana','pera','limon','melon')\n",
    "y = list(unaTupla)\n",
    "y.remove('pera')\n",
    "unaTupla= tuple(y)\n",
    "print(unaTupla)"
   ]
  },
  {
   "attachments": {},
   "cell_type": "markdown",
   "metadata": {},
   "source": [
    "### Desempaquetando tuplas\n",
    "- Cuando creamos una tupla, normalmente le asignamos valores. Esto se demonina \"empaquetar\" una tupla."
   ]
  },
  {
   "cell_type": "code",
   "execution_count": 34,
   "metadata": {},
   "outputs": [],
   "source": [
    "unaTupla=('manzana','pera','limon','melon')"
   ]
  },
  {
   "attachments": {},
   "cell_type": "markdown",
   "metadata": {},
   "source": [
    "Podemos extraer los valores de nuevo en variables. Esto se llama \"desempaquetar\""
   ]
  },
  {
   "cell_type": "code",
   "execution_count": 35,
   "metadata": {},
   "outputs": [
    {
     "name": "stdout",
     "output_type": "stream",
     "text": [
      "manzana\n",
      "pera\n",
      "limon\n",
      "melon\n"
     ]
    }
   ],
   "source": [
    "frutas=('manzana','pera','limon','melon')\n",
    "(roja,verde,amarillo,rosado)= frutas\n",
    "\n",
    "print(roja)\n",
    "print(verde)\n",
    "print(amarillo)\n",
    "print(rosado)"
   ]
  },
  {
   "attachments": {},
   "cell_type": "markdown",
   "metadata": {},
   "source": [
    "El número de las viarables debe coincidir con el número de valores de la tupla, sino es así, debes utilizar asterisco para recoger los valores restantes de una lista."
   ]
  },
  {
   "cell_type": "code",
   "execution_count": 36,
   "metadata": {},
   "outputs": [
    {
     "name": "stdout",
     "output_type": "stream",
     "text": [
      "manzana\n",
      "pera\n",
      "limon\n",
      "['melon', 'ciruela']\n"
     ]
    }
   ],
   "source": [
    "frutas=('manzana','pera','limon','melon','ciruela')\n",
    "(roja,verde,amarillo,*rosado)= frutas\n",
    "print(roja)\n",
    "print(verde)\n",
    "print(amarillo)\n",
    "print(rosado)\n"
   ]
  },
  {
   "attachments": {},
   "cell_type": "markdown",
   "metadata": {},
   "source": [
    "Si el asterico se añade a un nombre de variable distinto del ultimo, Python asignará valores a la variable hasta que el número de valores restantes coincida con el numero de variables restantes."
   ]
  },
  {
   "cell_type": "code",
   "execution_count": 39,
   "metadata": {},
   "outputs": [
    {
     "name": "stdout",
     "output_type": "stream",
     "text": [
      "manzana\n",
      "['pera', 'limon', 'melon']\n",
      "ciruela\n"
     ]
    }
   ],
   "source": [
    "frutas=('manzana','pera','limon','melon','ciruela')\n",
    "(roja,*amarillo,rosado)= frutas\n",
    "print(roja)\n",
    "print(amarillo)\n",
    "print(rosado)\n"
   ]
  }
 ],
 "metadata": {
  "kernelspec": {
   "display_name": "Python 3",
   "language": "python",
   "name": "python3"
  },
  "language_info": {
   "codemirror_mode": {
    "name": "ipython",
    "version": 3
   },
   "file_extension": ".py",
   "mimetype": "text/x-python",
   "name": "python",
   "nbconvert_exporter": "python",
   "pygments_lexer": "ipython3",
   "version": "3.11.2"
  },
  "orig_nbformat": 4
 },
 "nbformat": 4,
 "nbformat_minor": 2
}
