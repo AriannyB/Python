{
 "cells": [
  {
   "cell_type": "code",
   "execution_count": 1,
   "metadata": {},
   "outputs": [
    {
     "name": "stdout",
     "output_type": "stream",
     "text": [
      "cinco es mayor a dos\n"
     ]
    }
   ],
   "source": [
    "if 5 > 2:\n",
    "    print ('cinco es mayor a dos')"
   ]
  },
  {
   "cell_type": "code",
   "execution_count": 2,
   "metadata": {},
   "outputs": [
    {
     "name": "stdout",
     "output_type": "stream",
     "text": [
      "<class 'int'>\n",
      "<class 'str'>\n"
     ]
    }
   ],
   "source": [
    "x= 5\n",
    "y= 'Ary'\n",
    "print(type(x))\n",
    "print(type(y))"
   ]
  },
  {
   "cell_type": "code",
   "execution_count": 3,
   "metadata": {},
   "outputs": [
    {
     "name": "stdout",
     "output_type": "stream",
     "text": [
      "5\n",
      "Ary\n"
     ]
    }
   ],
   "source": [
    "a= 5\n",
    "A= 'Ary'\n",
    "print(a)\n",
    "print(A)"
   ]
  },
  {
   "cell_type": "code",
   "execution_count": 4,
   "metadata": {},
   "outputs": [
    {
     "name": "stdout",
     "output_type": "stream",
     "text": [
      "naranja\n",
      "manzana\n",
      "pera\n"
     ]
    }
   ],
   "source": [
    "#crear variables en una sola línea\n",
    "x,y,z = 'naranja', 'manzana','pera'\n",
    "print(x)\n",
    "print(y)\n",
    "print(z)"
   ]
  },
  {
   "cell_type": "code",
   "execution_count": 5,
   "metadata": {},
   "outputs": [
    {
     "name": "stdout",
     "output_type": "stream",
     "text": [
      "Orange\n",
      "Orange\n",
      "Orange\n"
     ]
    }
   ],
   "source": [
    "x = y = z = \"Orange\"\n",
    "print(x)\n",
    "print(y)\n",
    "print(z)"
   ]
  },
  {
   "cell_type": "code",
   "execution_count": 10,
   "metadata": {},
   "outputs": [
    {
     "name": "stdout",
     "output_type": "stream",
     "text": [
      "manzana\n",
      "pera\n",
      "naranjas\n",
      "ciruelas\n"
     ]
    }
   ],
   "source": [
    "#desempaquetar\n",
    "frutas= ['manzana','pera','naranjas','ciruelas']\n",
    "x,y,z,m= frutas\n",
    "print(x)\n",
    "print(y)\n",
    "print(z)\n",
    "print(m)"
   ]
  },
  {
   "cell_type": "code",
   "execution_count": 18,
   "metadata": {},
   "outputs": [
    {
     "name": "stdout",
     "output_type": "stream",
     "text": [
      "Karaoto es un gordito hermoso\n",
      "Karaotoes un gordito hermoso\n"
     ]
    }
   ],
   "source": [
    "#imprimir multiples variables separadas por coma\n",
    "x= 'Karaoto'\n",
    "y='es un gordito'\n",
    "z='hermoso'\n",
    "print (x,y,z)\n",
    "#también puedo usarlo con el operador +\n",
    "x= 'Karaoto'\n",
    "y= 'es un gordito'\n",
    "z= ' hermoso'\n",
    "print (x+ y +z)\n",
    "#por qué con coma me deja un espacio entre gordito y hermoso y con + no me deja espacio?\n",
    "\n"
   ]
  },
  {
   "cell_type": "code",
   "execution_count": 19,
   "metadata": {},
   "outputs": [
    {
     "name": "stdout",
     "output_type": "stream",
     "text": [
      "6 Ary\n"
     ]
    }
   ],
   "source": [
    "#combinar tipos de variables como string y numero utilizando \",\" si se utiliza \"+\" dará error.\n",
    "x= 6\n",
    "y= 'Ary'\n",
    "print (x,y)"
   ]
  },
  {
   "cell_type": "code",
   "execution_count": 27,
   "metadata": {},
   "outputs": [
    {
     "name": "stdout",
     "output_type": "stream",
     "text": [
      "Quien es gordito? : Karaoto\n"
     ]
    }
   ],
   "source": [
    "#Las variables que se crean fuera de una función (como en todos los ejemplos anteriores) se conocen como variables globales.\n",
    "#Las variables globales pueden ser utilizadas por todo el mundo, tanto dentro de las funciones como fuera de ellas.\n",
    "#Crear una variable fuera de una función, y utilizarla dentro de la función\n",
    "\n",
    "x= 'Karaoto'\n",
    "\n",
    "def miFuncion():\n",
    "    print ('Quien es gordito? : '+ x)\n",
    "\n",
    "miFuncion()\n"
   ]
  },
  {
   "cell_type": "code",
   "execution_count": 32,
   "metadata": {},
   "outputs": [
    {
     "name": "stdout",
     "output_type": "stream",
     "text": [
      "Quien es gordita Ary\n",
      "Quien es gordita Karaoto\n"
     ]
    }
   ],
   "source": [
    "#Si creo una variable con el mismo nombre dentro de una función, esta variable será local y sólo podrá utilizarse dentro de la función.\n",
    "#La variable global con el mismo nombre permanecerá como estaba, global y con el valor original\n",
    "#Crear una variable dentro de una función, con el mismo nombre que la variable global\n",
    "\n",
    "x= 'Karaoto'\n",
    "def miFuncion():\n",
    "    x= 'Ary'\n",
    "    print('Quien es gordita '+ x)\n",
    "    \n",
    "miFuncion()\n",
    "\n",
    "print('Quien es gordita ' + x)"
   ]
  },
  {
   "cell_type": "code",
   "execution_count": 35,
   "metadata": {},
   "outputs": [
    {
     "name": "stdout",
     "output_type": "stream",
     "text": [
      "Quien es gordito? Karaoto\n"
     ]
    }
   ],
   "source": [
    "#Si utilizo la palabra clave global, la variable pertenece al ámbito global:\n",
    "def miFuncion():\n",
    "    global x\n",
    "    x= 'Karaoto'\n",
    "    \n",
    "miFuncion()\n",
    "print('Quien es gordito? ' + x)"
   ]
  }
 ],
 "metadata": {
  "kernelspec": {
   "display_name": "Python 3",
   "language": "python",
   "name": "python3"
  },
  "language_info": {
   "codemirror_mode": {
    "name": "ipython",
    "version": 3
   },
   "file_extension": ".py",
   "mimetype": "text/x-python",
   "name": "python",
   "nbconvert_exporter": "python",
   "pygments_lexer": "ipython3",
   "version": "3.11.2"
  },
  "orig_nbformat": 4
 },
 "nbformat": 4,
 "nbformat_minor": 2
}
