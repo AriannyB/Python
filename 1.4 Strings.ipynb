{
 "cells": [
  {
   "attachments": {},
   "cell_type": "markdown",
   "metadata": {},
   "source": [
    "### Strings"
   ]
  },
  {
   "attachments": {},
   "cell_type": "markdown",
   "metadata": {},
   "source": [
    "Podemos asignar una string a una variable utilizando comillas simples como comillas dobles:"
   ]
  },
  {
   "cell_type": "code",
   "execution_count": 4,
   "metadata": {},
   "outputs": [
    {
     "name": "stdout",
     "output_type": "stream",
     "text": [
      "Hola\n",
      "HOLA\n"
     ]
    }
   ],
   "source": [
    "a= 'Hola'\n",
    "print (a)\n",
    "A= \"HOLA\"\n",
    "print (A)"
   ]
  },
  {
   "cell_type": "code",
   "execution_count": 1,
   "metadata": {},
   "outputs": [
    {
     "name": "stdout",
     "output_type": "stream",
     "text": [
      "4.0\n"
     ]
    }
   ],
   "source": [
    "x= 8/2\n",
    "print(x)"
   ]
  },
  {
   "attachments": {},
   "cell_type": "markdown",
   "metadata": {},
   "source": [
    "- Podemos asignar strings a variables"
   ]
  },
  {
   "cell_type": "code",
   "execution_count": 1,
   "metadata": {},
   "outputs": [
    {
     "name": "stdout",
     "output_type": "stream",
     "text": [
      "hola\n"
     ]
    }
   ],
   "source": [
    "a= 'hola'\n",
    "print(a)"
   ]
  },
  {
   "attachments": {},
   "cell_type": "markdown",
   "metadata": {},
   "source": [
    "Se pueden utilizar corchetes `[]` para acceder a elementos de una string"
   ]
  },
  {
   "cell_type": "code",
   "execution_count": 5,
   "metadata": {},
   "outputs": [
    {
     "name": "stdout",
     "output_type": "stream",
     "text": [
      "o\n"
     ]
    }
   ],
   "source": [
    "a= 'Hola Mundo'\n",
    "print (a[1])"
   ]
  },
  {
   "attachments": {},
   "cell_type": "markdown",
   "metadata": {},
   "source": [
    "### Bucles a través de una cadena:\n",
    "- podemos recorrer los caracteres de una cadena con `for`:"
   ]
  },
  {
   "cell_type": "code",
   "execution_count": 6,
   "metadata": {},
   "outputs": [
    {
     "name": "stdout",
     "output_type": "stream",
     "text": [
      "k\n",
      "a\n",
      "r\n",
      "a\n",
      "o\n",
      "t\n",
      "o\n"
     ]
    }
   ],
   "source": [
    "for i in 'Karaoto':\n",
    "    print (i)"
   ]
  },
  {
   "attachments": {},
   "cell_type": "markdown",
   "metadata": {},
   "source": [
    "Para obteber la longitud de una cadena, se usa `len()`"
   ]
  },
  {
   "cell_type": "code",
   "execution_count": 7,
   "metadata": {},
   "outputs": [
    {
     "name": "stdout",
     "output_type": "stream",
     "text": [
      "12\n"
     ]
    }
   ],
   "source": [
    "a= 'Hola Karaoto'\n",
    "print(len(a))"
   ]
  },
  {
   "attachments": {},
   "cell_type": "markdown",
   "metadata": {},
   "source": [
    "- `in` para comprobar si existe una string dentro de otra string\n",
    "- Si la string está dentro de otra string , devuelve `True`\n",
    "- Sino, devuelve `False`"
   ]
  },
  {
   "cell_type": "code",
   "execution_count": 8,
   "metadata": {},
   "outputs": [
    {
     "name": "stdout",
     "output_type": "stream",
     "text": [
      "True\n"
     ]
    }
   ],
   "source": [
    "txt= 'Karaoto es muy gordito'\n",
    "print('Karaoto' in txt)"
   ]
  },
  {
   "attachments": {},
   "cell_type": "markdown",
   "metadata": {},
   "source": [
    "- `if` Imprime sólo si la string está presente en la string"
   ]
  },
  {
   "cell_type": "code",
   "execution_count": 1,
   "metadata": {},
   "outputs": [
    {
     "name": "stdout",
     "output_type": "stream",
     "text": [
      "Sí, está presente \n"
     ]
    }
   ],
   "source": [
    "txt2= 'Karaoto es el gato más bonito del mundo'\n",
    "if 'bonito' in txt2:\n",
    "    print('Sí, está presente ')"
   ]
  },
  {
   "attachments": {},
   "cell_type": "markdown",
   "metadata": {},
   "source": [
    "`not` comprueba si una estring NO está presente en una string\n",
    "- si NO está presente, devuelve `True`\n",
    "- si SÍ está presente, devuelve `False`"
   ]
  },
  {
   "cell_type": "code",
   "execution_count": 11,
   "metadata": {},
   "outputs": [
    {
     "data": {
      "text/plain": [
       "True"
      ]
     },
     "execution_count": 11,
     "metadata": {},
     "output_type": "execute_result"
    }
   ],
   "source": [
    "txt= 'Karaoto es el gato más lindo del mundo'\n",
    "'bonito' not in txt"
   ]
  },
  {
   "attachments": {},
   "cell_type": "markdown",
   "metadata": {},
   "source": [
    "Condicional `if not`"
   ]
  },
  {
   "cell_type": "code",
   "execution_count": 12,
   "metadata": {},
   "outputs": [],
   "source": [
    "txt= 'Karaoto está durmiendo'\n",
    "if not 'durmiendo' in txt:\n",
    "    print('durmiendo no está')"
   ]
  },
  {
   "attachments": {},
   "cell_type": "markdown",
   "metadata": {},
   "source": [
    "### Slicing\n",
    "Podemos devolver un rango de caracteres utilizando la sintaxis slice. Especificando el índice inicial y el indice final separado por dos puntos, así nos devuelve una parte de la candena.\n",
    "- El primer índice es inclusivo y el último es exclusivo\n",
    "- El primer caracter tiene como índice el 0"
   ]
  },
  {
   "cell_type": "code",
   "execution_count": 5,
   "metadata": {},
   "outputs": [
    {
     "name": "stdout",
     "output_type": "stream",
     "text": [
      "rao\n"
     ]
    }
   ],
   "source": [
    "b= 'Karaoto es un gato negro'\n",
    "print(b[2:5]) "
   ]
  },
  {
   "attachments": {},
   "cell_type": "markdown",
   "metadata": {},
   "source": [
    "- Al omitir el índice de inicio, el rango comenzará en el primer caracter."
   ]
  },
  {
   "cell_type": "code",
   "execution_count": 9,
   "metadata": {},
   "outputs": [
    {
     "name": "stdout",
     "output_type": "stream",
     "text": [
      "Karaoto\n"
     ]
    }
   ],
   "source": [
    "x= 'Karaoto es un gato negro'\n",
    "print (x[:7])"
   ]
  },
  {
   "attachments": {},
   "cell_type": "markdown",
   "metadata": {},
   "source": [
    "- Al omitir el índice final, el rango irá hasta el final."
   ]
  },
  {
   "cell_type": "code",
   "execution_count": 10,
   "metadata": {},
   "outputs": [
    {
     "name": "stdout",
     "output_type": "stream",
     "text": [
      "raoto es un gato negro\n"
     ]
    }
   ],
   "source": [
    "x= 'Karaoto es un gato negro'\n",
    "print(x[2:])"
   ]
  },
  {
   "attachments": {},
   "cell_type": "markdown",
   "metadata": {},
   "source": [
    "### Indexación negativa\n",
    "- Utilizamos índices negativos para iniciar el corte desde el final de la cadena."
   ]
  },
  {
   "cell_type": "code",
   "execution_count": 16,
   "metadata": {},
   "outputs": [
    {
     "name": "stdout",
     "output_type": "stream",
     "text": [
      "negr\n"
     ]
    }
   ],
   "source": [
    "x= 'Karaoto es un gato negro'\n",
    "print(x[-5:-1])"
   ]
  },
  {
   "attachments": {},
   "cell_type": "markdown",
   "metadata": {},
   "source": [
    "### Modificar strings.\n",
    "Python tiene un conjunto de métodos que podemos utilizar en las cadenas.\n",
    "- `upper()` devuelve la cadena en mayúscula\n"
   ]
  },
  {
   "cell_type": "code",
   "execution_count": 22,
   "metadata": {},
   "outputs": [
    {
     "name": "stdout",
     "output_type": "stream",
     "text": [
      "KARAOTO ES UN GATO NEGRO\n"
     ]
    }
   ],
   "source": [
    "x= 'Karaoto es un gato negro'\n",
    "print(x.upper())"
   ]
  },
  {
   "attachments": {},
   "cell_type": "markdown",
   "metadata": {},
   "source": [
    "- `lower()` devuelve la cadena en minúscula"
   ]
  },
  {
   "cell_type": "code",
   "execution_count": 21,
   "metadata": {},
   "outputs": [
    {
     "name": "stdout",
     "output_type": "stream",
     "text": [
      "karaoto es un gato negro\n"
     ]
    }
   ],
   "source": [
    "x= 'KARAOTO ES UN GATO NEGRO'\n",
    "print(x.lower())"
   ]
  },
  {
   "attachments": {},
   "cell_type": "markdown",
   "metadata": {},
   "source": [
    "- `strip()` elimina cualquier espacio en blanco del principio o del final."
   ]
  },
  {
   "cell_type": "code",
   "execution_count": 24,
   "metadata": {},
   "outputs": [
    {
     "name": "stdout",
     "output_type": "stream",
     "text": [
      "Karaoto es un gato negro\n"
     ]
    }
   ],
   "source": [
    "x= '   Karaoto es un gato negro   '\n",
    "print(x.strip())"
   ]
  },
  {
   "attachments": {},
   "cell_type": "markdown",
   "metadata": {},
   "source": [
    "- `replace()` reemplaza una string con otra string"
   ]
  },
  {
   "cell_type": "code",
   "execution_count": 25,
   "metadata": {},
   "outputs": [
    {
     "name": "stdout",
     "output_type": "stream",
     "text": [
      "Karaoto es un gato negro\n"
     ]
    }
   ],
   "source": [
    "x= 'Karaoto es un gato blanco'\n",
    "print(x.replace('blanco','negro'))"
   ]
  },
  {
   "attachments": {},
   "cell_type": "markdown",
   "metadata": {},
   "source": [
    "- `split()` devuelve una lista en la que el texto entre el separador especificado se convierte en los elementos de la lista."
   ]
  },
  {
   "cell_type": "code",
   "execution_count": 28,
   "metadata": {},
   "outputs": [
    {
     "name": "stdout",
     "output_type": "stream",
     "text": [
      "['Karaoto', ' es un gato', ' negro']\n"
     ]
    }
   ],
   "source": [
    "x= 'Karaoto, es un gato, negro'\n",
    "print(x.split(','))"
   ]
  },
  {
   "attachments": {},
   "cell_type": "markdown",
   "metadata": {},
   "source": [
    "### Concatenar strings\n",
    "Para concatenar o combinar dos strings, usamos el operador `+`"
   ]
  },
  {
   "cell_type": "code",
   "execution_count": 32,
   "metadata": {},
   "outputs": [
    {
     "name": "stdout",
     "output_type": "stream",
     "text": [
      "Karaoto es un gato muy negro\n"
     ]
    }
   ],
   "source": [
    "a= 'Karaoto es un gato'\n",
    "b= ' muy negro'\n",
    "c= a+b\n",
    "print(c)"
   ]
  },
  {
   "attachments": {},
   "cell_type": "markdown",
   "metadata": {},
   "source": [
    "### Formato de las strings\n",
    "Como vimos anteriormente, no podemos combinar strings y números.\n",
    "- El siguiente ejemplo dará error por esto mismo."
   ]
  },
  {
   "cell_type": "code",
   "execution_count": 37,
   "metadata": {},
   "outputs": [
    {
     "ename": "TypeError",
     "evalue": "can only concatenate str (not \"int\") to str",
     "output_type": "error",
     "traceback": [
      "\u001b[1;31m---------------------------------------------------------------------------\u001b[0m",
      "\u001b[1;31mTypeError\u001b[0m                                 Traceback (most recent call last)",
      "Cell \u001b[1;32mIn[37], line 2\u001b[0m\n\u001b[0;32m      1\u001b[0m edad\u001b[39m=\u001b[39m \u001b[39m32\u001b[39m\n\u001b[1;32m----> 2\u001b[0m txt\u001b[39m=\u001b[39m \u001b[39m'\u001b[39;49m\u001b[39mMi edad es de\u001b[39;49m\u001b[39m'\u001b[39;49m \u001b[39m+\u001b[39;49m edad\n\u001b[0;32m      3\u001b[0m \u001b[39mprint\u001b[39m(txt)\n",
      "\u001b[1;31mTypeError\u001b[0m: can only concatenate str (not \"int\") to str"
     ]
    }
   ],
   "source": [
    "edad= 32\n",
    "txt= 'Mi edad es de' + edad\n",
    "print(txt)\n"
   ]
  },
  {
   "attachments": {},
   "cell_type": "markdown",
   "metadata": {},
   "source": [
    "- `format()`nos permite combinar cadenas y números. Este método toma los argumentos pasados, les da formato y los coloca en la cadena donde están los marcadores de posición `{}`"
   ]
  },
  {
   "cell_type": "code",
   "execution_count": 41,
   "metadata": {},
   "outputs": [
    {
     "name": "stdout",
     "output_type": "stream",
     "text": [
      "Mi edad es de 32 años \n"
     ]
    }
   ],
   "source": [
    "edad= 32\n",
    "txt= 'Mi edad es de {} años '\n",
    "print(txt.format(edad))"
   ]
  },
  {
   "attachments": {},
   "cell_type": "markdown",
   "metadata": {},
   "source": [
    "El método `format()` tiene un número ilimitado de argumentos que se colocan en los respectivos marcadores de posición."
   ]
  },
  {
   "cell_type": "code",
   "execution_count": 44,
   "metadata": {},
   "outputs": [
    {
     "name": "stdout",
     "output_type": "stream",
     "text": [
      "Hola, me llamo Ary y tengo 32 años y 1 gato, aunque me gustaría tener 5 gatos\n"
     ]
    }
   ],
   "source": [
    "gatos= 1\n",
    "años= 32\n",
    "masGatos= 5\n",
    "txt= 'Hola, me llamo Ary y tengo {} años y {} gato, aunque me gustaría tener {} gatos'\n",
    "print(txt.format(años,gatos,masGatos))"
   ]
  },
  {
   "attachments": {},
   "cell_type": "markdown",
   "metadata": {},
   "source": [
    "### Scape characters\n",
    "Para poder utilizar caracteres reservados en una string, podemos utilizar un caracter de escape \n",
    "- `\\` usamos barra invertida seguida de carácter que deseamos insertar.\n",
    "- Un ejemplo de carácter reservado es una comilla doble dentro de una string"
   ]
  },
  {
   "cell_type": "code",
   "execution_count": 49,
   "metadata": {},
   "outputs": [
    {
     "name": "stdout",
     "output_type": "stream",
     "text": [
      "A Karaoto le dicen \"Karochi\"\n"
     ]
    }
   ],
   "source": [
    "txt= 'A Karaoto le dicen \\\"Karochi\\\"'\n",
    "print(txt)"
   ]
  },
  {
   "attachments": {},
   "cell_type": "markdown",
   "metadata": {},
   "source": [
    "### Metodos de cadenas\n",
    "* `capitalize()` convierte el primer caracter en mayuscula\n",
    "* `casefold()` convierte la cadena en minúscula\n",
    "* `center()` centra la cadena\n",
    "* `count()` devuelve el número de veces que aparece un valor especificado en la cadena\n",
    "* `endswith()` devuelve true si la cadena termina con un valor especifico\n",
    "* `find()` busca en la cadena un valor especificado y devuelve el número de posición en la que lo encontró\n",
    "- Y muchos más :') \n",
    "\n"
   ]
  }
 ],
 "metadata": {
  "kernelspec": {
   "display_name": "Python 3",
   "language": "python",
   "name": "python3"
  },
  "language_info": {
   "codemirror_mode": {
    "name": "ipython",
    "version": 3
   },
   "file_extension": ".py",
   "mimetype": "text/x-python",
   "name": "python",
   "nbconvert_exporter": "python",
   "pygments_lexer": "ipython3",
   "version": "3.11.2"
  },
  "orig_nbformat": 4
 },
 "nbformat": 4,
 "nbformat_minor": 2
}
