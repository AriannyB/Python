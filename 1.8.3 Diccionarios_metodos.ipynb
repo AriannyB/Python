{
 "cells": [
  {
   "attachments": {},
   "cell_type": "markdown",
   "metadata": {},
   "source": [
    "### Métodos de diccionarios"
   ]
  },
  {
   "attachments": {},
   "cell_type": "markdown",
   "metadata": {},
   "source": [
    "- `clear()` remueve todos los elementos del diccionario\n",
    "- `copy()` devuelve una copia del diccionario\n",
    "- `fromkeys()` devuelve un diccionario con la llave y el valor especificado\n",
    "- `get()` devuelve el valor de una llave especifica\n",
    "- `items()` devuelve una lista que contiene una tipla por cada llave:valor\n",
    "- `keys()` devuelve una lista que contiene las llaves del diccionario\n",
    "- `pop()` remueve un elemento de una llave especifica\n",
    "- `popitem()` remueve el último elemento llave:valor añadido en el diccionario\n",
    "- `setdefault()` devuelve el valor de la clave especificada. Si la clave no existe, inserta la clave con el valor especificado.\n",
    "- `update()` actualiza el diccionario con un llave:valor especifico.\n",
    "- `values()` devuelve una lista con todos los valores del diccionario"
   ]
  }
 ],
 "metadata": {
  "kernelspec": {
   "display_name": "Python 3",
   "language": "python",
   "name": "python3"
  },
  "language_info": {
   "name": "python",
   "version": "3.11.2"
  },
  "orig_nbformat": 4
 },
 "nbformat": 4,
 "nbformat_minor": 2
}
