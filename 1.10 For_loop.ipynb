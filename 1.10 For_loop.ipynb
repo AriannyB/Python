{
 "cells": [
  {
   "attachments": {},
   "cell_type": "markdown",
   "metadata": {},
   "source": [
    "### `for` loop\n",
    "El blucle `for` se utilza para iterar sobre una secuencia. Pueden ser tuplas, listas, diccionarios, sets o cadenas.\n",
    "Podemos ejecutar un conjunto de sentencias, una por cada elemento de una lista, diccionarios etc \n"
   ]
  },
  {
   "attachments": {},
   "cell_type": "markdown",
   "metadata": {},
   "source": [
    "- Imprime cada fruta de la lista frutas."
   ]
  },
  {
   "cell_type": "code",
   "execution_count": 1,
   "metadata": {},
   "outputs": [
    {
     "name": "stdout",
     "output_type": "stream",
     "text": [
      "banana\n",
      "manzana\n",
      "pera\n",
      "limon\n"
     ]
    }
   ],
   "source": [
    "frutas= ['banana','manzana','pera','limon']\n",
    "for i in frutas:\n",
    "    print(i)"
   ]
  },
  {
   "attachments": {},
   "cell_type": "markdown",
   "metadata": {},
   "source": [
    "El bucle `for` no requiere que se establezca previamente una variable de indexacion"
   ]
  },
  {
   "attachments": {},
   "cell_type": "markdown",
   "metadata": {},
   "source": [
    "### Recorrer una cadena\n",
    "Aunque las cadenas son objetos iterables, contienen una secuencia de caracteres."
   ]
  },
  {
   "cell_type": "code",
   "execution_count": 2,
   "metadata": {},
   "outputs": [
    {
     "name": "stdout",
     "output_type": "stream",
     "text": [
      "m\n",
      "a\n",
      "n\n",
      "z\n",
      "a\n",
      "n\n",
      "a\n"
     ]
    }
   ],
   "source": [
    "for i in 'manzana':\n",
    "    print(i)"
   ]
  },
  {
   "attachments": {},
   "cell_type": "markdown",
   "metadata": {},
   "source": [
    "### Sentencia `break`\n",
    "Con la sentencia `break` podemos tener un loop antes de que haya recorrido todos los elementos.\n",
    "- Salir del loop cuando `i` es `'manzana'`"
   ]
  },
  {
   "cell_type": "code",
   "execution_count": 6,
   "metadata": {},
   "outputs": [
    {
     "name": "stdout",
     "output_type": "stream",
     "text": [
      "banana\n",
      "manzana\n"
     ]
    }
   ],
   "source": [
    "frutas= ['banana','manzana','pera','limon']\n",
    "for i in frutas:\n",
    "    print(i)\n",
    "    if i == 'manzana':\n",
    "        break"
   ]
  },
  {
   "attachments": {},
   "cell_type": "markdown",
   "metadata": {},
   "source": [
    "- Salir del loop cuando `i` es `'manzana'` , pero esta vez `break` viene antes del `print()`"
   ]
  },
  {
   "cell_type": "code",
   "execution_count": 8,
   "metadata": {},
   "outputs": [
    {
     "name": "stdout",
     "output_type": "stream",
     "text": [
      "banana\n",
      "pera\n"
     ]
    }
   ],
   "source": [
    "frutas= ['banana','pera','manzana','limon']\n",
    "for i in frutas:\n",
    "    if i == 'manzana':\n",
    "        break\n",
    "    print(i)"
   ]
  },
  {
   "attachments": {},
   "cell_type": "markdown",
   "metadata": {},
   "source": [
    "### `continue`\n",
    "Con la sentencia `continue` podemos detener la iteracion actual del bucle y continuar con la siguiente.\n",
    "- no imprimir '`manzana`'"
   ]
  },
  {
   "cell_type": "code",
   "execution_count": 9,
   "metadata": {},
   "outputs": [
    {
     "name": "stdout",
     "output_type": "stream",
     "text": [
      "banana\n",
      "pera\n",
      "limon\n"
     ]
    }
   ],
   "source": [
    "frutas= ['banana','pera','manzana','limon']\n",
    "for i in frutas:\n",
    "    if i == 'manzana':\n",
    "        continue\n",
    "    print(i)"
   ]
  },
  {
   "attachments": {},
   "cell_type": "markdown",
   "metadata": {},
   "source": [
    "### `range()`\n",
    "Para recorrer un conjunto de código un número determinado de veces, podemos usar la función `range()`\n",
    "Esto devuelve una secuencia de números, empezando en 0 por defecto e incremente en 1 por defecto, terminando en un número especificado."
   ]
  },
  {
   "cell_type": "code",
   "execution_count": 12,
   "metadata": {},
   "outputs": [
    {
     "name": "stdout",
     "output_type": "stream",
     "text": [
      "0\n",
      "1\n",
      "2\n",
      "3\n",
      "4\n",
      "5\n",
      "6\n",
      "7\n"
     ]
    }
   ],
   "source": [
    "for i in range(8):\n",
    "    print(i) #tener en cuenta que los valores de range no es de 0 a 6 sino de 0 a 5"
   ]
  },
  {
   "attachments": {},
   "cell_type": "markdown",
   "metadata": {},
   "source": [
    "- La funcion `range()` toma por defecto 0 como valor inicial, sin embargo es posible especificar el valor inicial añadiendo un parametro: `range(2,4)`, que significa valores de 2 a 9 (pero sin incluir el 9)"
   ]
  },
  {
   "cell_type": "code",
   "execution_count": 14,
   "metadata": {},
   "outputs": [
    {
     "name": "stdout",
     "output_type": "stream",
     "text": [
      "2\n",
      "3\n",
      "4\n",
      "5\n",
      "6\n",
      "7\n",
      "8\n"
     ]
    }
   ],
   "source": [
    "for i in range(2,9):\n",
    "    print(i)"
   ]
  },
  {
   "attachments": {},
   "cell_type": "markdown",
   "metadata": {},
   "source": [
    "- `range()` incrementa por defecto la secuencia en 1, sin embargo es posible especificar el valor de incremento añadiendo un tercer parámetro `range(2,30,3):`"
   ]
  },
  {
   "cell_type": "code",
   "execution_count": 16,
   "metadata": {},
   "outputs": [
    {
     "name": "stdout",
     "output_type": "stream",
     "text": [
      "2\n",
      "5\n",
      "8\n",
      "11\n",
      "14\n",
      "17\n",
      "20\n",
      "23\n",
      "26\n",
      "29\n"
     ]
    }
   ],
   "source": [
    "for i in range(2,30,3): #empieza en dos, hasta 29 y el tercer parámetro es el número de veces que incrementa.\n",
    "    print(i)"
   ]
  },
  {
   "attachments": {},
   "cell_type": "markdown",
   "metadata": {},
   "source": [
    "### `else` en el bucle `for`\n",
    "La palabra clave `else` en un bucle `for` especifica un bloque de código que se ejecutará cuando finalice el bucle.\n",
    "- Imprimir todos los números de 0 al 5 e imprimir un mensaje cuando el bucle haya terminado."
   ]
  },
  {
   "cell_type": "code",
   "execution_count": 17,
   "metadata": {},
   "outputs": [
    {
     "name": "stdout",
     "output_type": "stream",
     "text": [
      "0\n",
      "1\n",
      "2\n",
      "3\n",
      "4\n",
      "5\n",
      "finalizó\n"
     ]
    }
   ],
   "source": [
    "for i in range(6):\n",
    "    print(i)\n",
    "else:\n",
    "    print('finalizó')"
   ]
  },
  {
   "attachments": {},
   "cell_type": "markdown",
   "metadata": {},
   "source": [
    "El bloque `else` no se ejecutará si el bucle se detiene mediante una sentencia `break`\n",
    "- Rompe el loop cuando `i` sea `3`, a continuación, veremos qué pasa con el bloque `else`"
   ]
  },
  {
   "cell_type": "code",
   "execution_count": 19,
   "metadata": {},
   "outputs": [
    {
     "name": "stdout",
     "output_type": "stream",
     "text": [
      "0\n",
      "1\n",
      "2\n"
     ]
    }
   ],
   "source": [
    "for i in range(6):\n",
    "    if i == 3: break\n",
    "    print(i)\n",
    "else:\n",
    "    print('finalizó')"
   ]
  },
  {
   "attachments": {},
   "cell_type": "markdown",
   "metadata": {},
   "source": [
    "### Bluces anidados\n",
    "un bucle anidado es un bluce dentro de otro bucle. El bucle 'interior' se ejecutará una vez por cada iteracion del bucle 'exterior'.\n",
    "- imprime un adjetivo por cada fruta."
   ]
  },
  {
   "cell_type": "code",
   "execution_count": 20,
   "metadata": {},
   "outputs": [
    {
     "name": "stdout",
     "output_type": "stream",
     "text": [
      "roja manzana\n",
      "roja limon\n",
      "roja uva\n",
      "verde manzana\n",
      "verde limon\n",
      "verde uva\n",
      "morada manzana\n",
      "morada limon\n",
      "morada uva\n"
     ]
    }
   ],
   "source": [
    "adjetivos= ['roja','verde','morada']\n",
    "frutas=['manzana','limon','uva']\n",
    "for i in adjetivos:\n",
    "    for x in frutas:\n",
    "        print(i,x)"
   ]
  },
  {
   "attachments": {},
   "cell_type": "markdown",
   "metadata": {},
   "source": [
    "### `pass`\n",
    "Los bucles `for` no pueden estar vacíos, pero si por alguna razón tenemos un bucle `for` sin contenido, con la sentencia `pass` evitaremos un error en el código."
   ]
  },
  {
   "cell_type": "code",
   "execution_count": 21,
   "metadata": {},
   "outputs": [],
   "source": [
    "for i in [0,1,2]:\n",
    "    pass"
   ]
  }
 ],
 "metadata": {
  "kernelspec": {
   "display_name": "Python 3",
   "language": "python",
   "name": "python3"
  },
  "language_info": {
   "codemirror_mode": {
    "name": "ipython",
    "version": 3
   },
   "file_extension": ".py",
   "mimetype": "text/x-python",
   "name": "python",
   "nbconvert_exporter": "python",
   "pygments_lexer": "ipython3",
   "version": "3.11.2"
  },
  "orig_nbformat": 4
 },
 "nbformat": 4,
 "nbformat_minor": 2
}
