{
 "cells": [
  {
   "attachments": {},
   "cell_type": "markdown",
   "metadata": {},
   "source": [
    "-Strings\n",
    "Podemos asignar una string a una variable utilizando comillas simples como comillas dobles:\n",
    "a= hello\n",
    "print (a)\n",
    "A= \"hello\"\n",
    "print (A)"
   ]
  },
  {
   "cell_type": "code",
   "execution_count": 13,
   "metadata": {},
   "outputs": [
    {
     "name": "stdout",
     "output_type": "stream",
     "text": [
      "o\n",
      "k\n",
      "a\n",
      "r\n",
      "a\n",
      "o\n",
      "t\n",
      "o\n",
      "12\n",
      "True\n",
      "Sí, \"gordito\" está presente \n"
     ]
    }
   ],
   "source": [
    "#Se pueden utilizar corchetes [] para acceder a elementos de una string\n",
    "a= 'Hola Mundo'\n",
    "print (a[1])\n",
    "\n",
    "#bucle a través de una cadena: podemos recorrer los caracteres de una cadena con for\n",
    "for i in 'karaoto':\n",
    "    print (i)\n",
    "    \n",
    "#para obtener la longitud de una cadena, usa len()\n",
    "a= 'Hola Karaoto'\n",
    "print(len(a))\n",
    "\n",
    "#comprueba si 'karaoto' está en el siguiente texto:\n",
    "txt= 'Karaoto es muy gordito'\n",
    "print('Karaoto' in txt)\n",
    "\n",
    "#if como declaracion. Imprime 'Karaoto' solo si está presente en la string\n",
    "txt2= 'Karaoto es lo mas gordito del mundo'\n",
    "if 'gordito' in txt2:\n",
    "    print('Sí, \"gordito\" está presente ')\n",
    "    \n",
    "#comprueba si una string NO está presente en una string\n",
    "txt3= 'Karaoto es un bebe negrito'\n",
    "'negrito' not in txt3\n",
    "\n"
   ]
  },
  {
   "cell_type": "code",
   "execution_count": 19,
   "metadata": {},
   "outputs": [
    {
     "name": "stdout",
     "output_type": "stream",
     "text": [
      "no, 'destapado' NO está presente\n"
     ]
    }
   ],
   "source": [
    "#con condición if not \n",
    "txt4= \"Karaoto está durmiendo tapadito\"\n",
    "if 'destapado' not in txt4:\n",
    "    print(\"no, 'destapado' NO está presente\")\n",
    "    "
   ]
  },
  {
   "cell_type": "code",
   "execution_count": 22,
   "metadata": {},
   "outputs": [
    {
     "name": "stdout",
     "output_type": "stream",
     "text": [
      "rao\n",
      "t\n",
      "no sé qué string inventar \n",
      "rob\n",
      "KARAOTO GORDITO BEBE\n",
      "karaotito gordito chiki\n",
      "ya no sé qué string inventar\n",
      "string, lorgo, poro, probor\n",
      "['string', ' larga', ' para', ' probar']\n",
      "holis ke tal\n",
      "string sin espacio\n"
     ]
    }
   ],
   "source": [
    "#devolver rango de caracteres, especificando el indice inicial y el indice final seperados por dos puntos.\n",
    "b= 'Karaoto gordito bebe'\n",
    "print (b[2:5])\n",
    "#imprime posición desde la 0 a la declarada\n",
    "x= 'Karaotito gordito chiki'\n",
    "print (b[5])\n",
    "#imprime posición desde la indicada hasta la final\n",
    "z= ' ya no sé qué string inventar '\n",
    "print(z[4:])\n",
    "y= 'string, larga, para, probar'\n",
    "print (y[-5:-2])\n",
    "#devuelve la string en máyuscula upper()\n",
    "print(b.upper())\n",
    "#minúscula lower()\n",
    "print(x.lower())\n",
    "#elimina espacios en blanco al principio y al final strip()\n",
    "print(z.strip())\n",
    "#reemplaza una string con otra string\n",
    "print(y.replace('a','o'))\n",
    "#divide la cadena en subcadenas si encuentra separador split()\n",
    "print(y.split(','))\n",
    "#para concatenar, combinar strings se usa el operador '+'\n",
    "a= 'holis'\n",
    "b= ' ke tal'\n",
    "c= a+b\n",
    "print (c)\n",
    "#para agregar espacio entre las strings ' '\n",
    "m= 'string'\n",
    "n= 'sin espacio'\n",
    "p= m + ' '+ n\n",
    "print (p)\n",
    "\n",
    "\n"
   ]
  },
  {
   "cell_type": "code",
   "execution_count": 28,
   "metadata": {},
   "outputs": [
    {
     "name": "stdout",
     "output_type": "stream",
     "text": [
      "Hola, me llamo Ary y tengo 31 años\n",
      "Hola, tengo 31 años con 100 problemas y me gustaría tener 5 gatos\n"
     ]
    }
   ],
   "source": [
    "#no podemos combinar strings y números de esta manera:\n",
    "#edad_error= 31\n",
    "#txt_error='Hola, me llamo Ary y tengo 31 años' + edad_error\n",
    "#print(txt) #esto dará error\n",
    "\n",
    "#para poder combinar strings y números con el método format()\n",
    "#este método toma el argumento, le da el formato y lo coloca en la string donde estén las {}\n",
    "edad= 31\n",
    "txt= 'Hola, me llamo Ary y tengo {} años'\n",
    "\n",
    "print(txt.format(edad))\n",
    "#El método format() toma un número ilimitado de argumentos, que se colocan en los respectivos marcadores de posición:\n",
    "gatos= 5\n",
    "problemas= 100\n",
    "años= 31\n",
    "txt2= 'Hola, tengo {} años con {} problemas y me gustaría tener {} gatos'\n",
    "print(txt2.format(años,problemas,gatos))\n",
    "\n",
    "\n",
    "\n"
   ]
  },
  {
   "cell_type": "code",
   "execution_count": 47,
   "metadata": {},
   "outputs": [
    {
     "name": "stdout",
     "output_type": "stream",
     "text": [
      "!hola!mundo!\n"
     ]
    }
   ],
   "source": []
  },
  {
   "attachments": {},
   "cell_type": "markdown",
   "metadata": {},
   "source": [
    "-Metodos de cadenas\n",
    "* capitalize() convierte el primer caracter en mayuscula\n",
    "* casefold() convierte la cadena en minúscula\n",
    "* center() centra la cadena\n",
    "* count() devuelve el número de veces que aparece un valor especificado en la cadena\n",
    "* endswith() devuelve true si la cadena termina con un valor especifico\n",
    "* find() busca en la cadena un valor especificado y devuelve el número de posición en la que lo encontró\n",
    "\n"
   ]
  }
 ],
 "metadata": {
  "kernelspec": {
   "display_name": "Python 3",
   "language": "python",
   "name": "python3"
  },
  "language_info": {
   "codemirror_mode": {
    "name": "ipython",
    "version": 3
   },
   "file_extension": ".py",
   "mimetype": "text/x-python",
   "name": "python",
   "nbconvert_exporter": "python",
   "pygments_lexer": "ipython3",
   "version": "3.11.2"
  },
  "orig_nbformat": 4
 },
 "nbformat": 4,
 "nbformat_minor": 2
}
