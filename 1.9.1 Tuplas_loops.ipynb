{
 "cells": [
  {
   "attachments": {},
   "cell_type": "markdown",
   "metadata": {},
   "source": [
    "### Loop en tuplas\n",
    "Bucle `for`\n",
    "- Podemos recorrer los elementos de la tupla con `for`"
   ]
  },
  {
   "cell_type": "code",
   "execution_count": 2,
   "metadata": {},
   "outputs": [
    {
     "name": "stdout",
     "output_type": "stream",
     "text": [
      "manzana\n",
      "pera\n",
      "ciruela\n",
      "uva\n"
     ]
    }
   ],
   "source": [
    "frutas= ('manzana','pera','ciruela','uva')\n",
    "for i in frutas:\n",
    "    print(i)"
   ]
  },
  {
   "attachments": {},
   "cell_type": "markdown",
   "metadata": {},
   "source": [
    "También podemos recorrer los elementos de la tupla por el índice. \n",
    "- Utilizamos funciones como `range()` y `len()`"
   ]
  },
  {
   "cell_type": "code",
   "execution_count": 4,
   "metadata": {},
   "outputs": [
    {
     "name": "stdout",
     "output_type": "stream",
     "text": [
      "manzana\n",
      "pera\n",
      "ciruela\n",
      "uva\n"
     ]
    }
   ],
   "source": [
    "frutas= ('manzana','pera','ciruela','uva')\n",
    "for i in range(len(frutas)):\n",
    "    print(frutas[i])"
   ]
  },
  {
   "attachments": {},
   "cell_type": "markdown",
   "metadata": {},
   "source": [
    "### Bucle `While`\n",
    "- Utilizamos la funcion `len()` para determinar la longitud de la tupla. Comenzamos en 0 y realizamos un bucle a través de los elementos de la tupla haciendo referencia a su índice. \n",
    "- Recordemos incrementar el índice a 1 después de cada iteracion."
   ]
  },
  {
   "cell_type": "code",
   "execution_count": 5,
   "metadata": {},
   "outputs": [
    {
     "name": "stdout",
     "output_type": "stream",
     "text": [
      "manzana\n",
      "pera\n",
      "ciruela\n",
      "uva\n"
     ]
    }
   ],
   "source": [
    "frutas= ('manzana','pera','ciruela','uva')\n",
    "i= 0\n",
    "while i < len(frutas):\n",
    "    print(frutas[i])\n",
    "    i= i + 1"
   ]
  },
  {
   "attachments": {},
   "cell_type": "markdown",
   "metadata": {},
   "source": [
    "### Unir Tuplas\n",
    "Podemos unir dos o más tuplas con el operador `+`"
   ]
  },
  {
   "cell_type": "code",
   "execution_count": 6,
   "metadata": {},
   "outputs": [
    {
     "name": "stdout",
     "output_type": "stream",
     "text": [
      "('manzana', 'pera', 'limon', 'melon', 'uva', 'ciruela')\n"
     ]
    }
   ],
   "source": [
    "tupla1=('manzana','pera','limon')\n",
    "tupla2=('melon','uva','ciruela')\n",
    "\n",
    "tupla3= tupla1+tupla2\n",
    "print(tupla3)"
   ]
  },
  {
   "attachments": {},
   "cell_type": "markdown",
   "metadata": {},
   "source": [
    "También podemos multiplicar el contenido de las tuplas determinadas veces utilizando el operador `*`"
   ]
  },
  {
   "cell_type": "code",
   "execution_count": 7,
   "metadata": {},
   "outputs": [
    {
     "name": "stdout",
     "output_type": "stream",
     "text": [
      "('manzana', 'pera', 'ciruela', 'manzana', 'pera', 'ciruela')\n"
     ]
    }
   ],
   "source": [
    "frutas= ('manzana','pera','ciruela')\n",
    "tupla1= frutas * 2\n",
    "print(tupla1)"
   ]
  },
  {
   "attachments": {},
   "cell_type": "markdown",
   "metadata": {},
   "source": [
    "### Métodos de tupla\n",
    "- `count()` devuelve el numero de veces que un valor especifico aparece en una tupla\n",
    "- `index()` busca en la tupla un valor especifico y devuelve la posición en la que se encuentra.\n"
   ]
  }
 ],
 "metadata": {
  "kernelspec": {
   "display_name": "Python 3",
   "language": "python",
   "name": "python3"
  },
  "language_info": {
   "codemirror_mode": {
    "name": "ipython",
    "version": 3
   },
   "file_extension": ".py",
   "mimetype": "text/x-python",
   "name": "python",
   "nbconvert_exporter": "python",
   "pygments_lexer": "ipython3",
   "version": "3.11.2"
  },
  "orig_nbformat": 4
 },
 "nbformat": 4,
 "nbformat_minor": 2
}
