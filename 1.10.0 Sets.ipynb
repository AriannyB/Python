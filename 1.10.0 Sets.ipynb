{
 "cells": [
  {
   "attachments": {},
   "cell_type": "markdown",
   "metadata": {},
   "source": [
    "### Sets\n",
    "Los conjutos (sets) se utilizan para almacenar múltiples elementos en una sola variable. \n",
    "- Es una colección no ordenada, no modificable y no indexada.\n",
    "- los elementos de un set no pueden ser modificables pero podemos remover o agregar nuevos elementos.\n",
    "- No pueden tener dos elementos con el mismo valor"
   ]
  },
  {
   "cell_type": "code",
   "execution_count": null,
   "metadata": {},
   "outputs": [],
   "source": [
    "unSet= {'manzana','ciruela','uva'}"
   ]
  },
  {
   "attachments": {},
   "cell_type": "markdown",
   "metadata": {},
   "source": [
    "Los valores duplicados serán ignorados"
   ]
  },
  {
   "cell_type": "code",
   "execution_count": 3,
   "metadata": {},
   "outputs": [
    {
     "name": "stdout",
     "output_type": "stream",
     "text": [
      "{'uva', 'manzana', 'ciruela'}\n"
     ]
    }
   ],
   "source": [
    "unSet= {'manzana','ciruela','uva','manzana'}\n",
    "print(unSet)"
   ]
  },
  {
   "attachments": {},
   "cell_type": "markdown",
   "metadata": {},
   "source": [
    "Los valores `True` y `1` en los sets se consideran como un mismo valor y serán tratados como duplicados."
   ]
  },
  {
   "cell_type": "code",
   "execution_count": 5,
   "metadata": {},
   "outputs": [
    {
     "name": "stdout",
     "output_type": "stream",
     "text": [
      "{True, 2, 'manzana', 'pera'}\n"
     ]
    }
   ],
   "source": [
    "unSet= {'manzana','pera',True,1,2}\n",
    "print(unSet)"
   ]
  },
  {
   "attachments": {},
   "cell_type": "markdown",
   "metadata": {},
   "source": [
    "- Para saber cuántos elementos tiene un set utilizamos la función `len()`"
   ]
  },
  {
   "cell_type": "code",
   "execution_count": 6,
   "metadata": {},
   "outputs": [
    {
     "name": "stdout",
     "output_type": "stream",
     "text": [
      "4\n"
     ]
    }
   ],
   "source": [
    "unSet= {'manzana','pera',True,1,2}\n",
    "print(len(unSet))"
   ]
  },
  {
   "attachments": {},
   "cell_type": "markdown",
   "metadata": {},
   "source": [
    "Un set puede ser de cualquier tipo."
   ]
  },
  {
   "cell_type": "code",
   "execution_count": 7,
   "metadata": {},
   "outputs": [],
   "source": [
    "set1= {'manzana','pera','uva'}\n",
    "set2= {1,4,6,2,5}\n",
    "set3= {True,False,False}"
   ]
  },
  {
   "attachments": {},
   "cell_type": "markdown",
   "metadata": {},
   "source": [
    "Pueden contener distintos tipos de datos."
   ]
  },
  {
   "cell_type": "code",
   "execution_count": null,
   "metadata": {},
   "outputs": [],
   "source": [
    "set1={'manzana',2,True}"
   ]
  },
  {
   "attachments": {},
   "cell_type": "markdown",
   "metadata": {},
   "source": [
    "Python define a los sets como objeto de tipo 'set'"
   ]
  },
  {
   "cell_type": "code",
   "execution_count": 10,
   "metadata": {},
   "outputs": [
    {
     "name": "stdout",
     "output_type": "stream",
     "text": [
      "<class 'set'>\n"
     ]
    }
   ],
   "source": [
    "set1= {'manzana','pera','uva'}\n",
    "print(type(set1))"
   ]
  },
  {
   "attachments": {},
   "cell_type": "markdown",
   "metadata": {},
   "source": [
    "También es posible utilizar el constructor `set()` para crear un set."
   ]
  },
  {
   "cell_type": "code",
   "execution_count": 11,
   "metadata": {},
   "outputs": [
    {
     "name": "stdout",
     "output_type": "stream",
     "text": [
      "{'uva', 'manzana', 'pera'}\n"
     ]
    }
   ],
   "source": [
    "mySet= set(('manzana','pera','uva'))\n",
    "print(mySet)"
   ]
  },
  {
   "attachments": {},
   "cell_type": "markdown",
   "metadata": {},
   "source": [
    "### Acceso a los items de un set.\n",
    "- No podemos acceder a los items de un set refiriendonos por el índice o la clave\n",
    "- Podemos recorrer los elementos del conjunto mediante un bucle `for` para ver el contenido del set."
   ]
  },
  {
   "cell_type": "code",
   "execution_count": 5,
   "metadata": {},
   "outputs": [
    {
     "name": "stdout",
     "output_type": "stream",
     "text": [
      "uva\n",
      "ciruela\n",
      "manzana\n"
     ]
    }
   ],
   "source": [
    "unSet= {'manzana','ciruela','uva'}\n",
    "for i in unSet:\n",
    "    print(i)"
   ]
  },
  {
   "attachments": {},
   "cell_type": "markdown",
   "metadata": {},
   "source": [
    "- También podemos preguntar con `in` si un valor especifico está presente en el set. "
   ]
  },
  {
   "cell_type": "code",
   "execution_count": 4,
   "metadata": {},
   "outputs": [
    {
     "data": {
      "text/plain": [
       "True"
      ]
     },
     "execution_count": 4,
     "metadata": {},
     "output_type": "execute_result"
    }
   ],
   "source": [
    "unSet= {'manzana','ciruela','uva'}\n",
    "'manzana' in unSet"
   ]
  },
  {
   "attachments": {},
   "cell_type": "markdown",
   "metadata": {},
   "source": [
    "### Agregar elementos a un set\n",
    "Para agregar un elemento a un set, usamos el método `add()`"
   ]
  },
  {
   "cell_type": "code",
   "execution_count": 6,
   "metadata": {},
   "outputs": [
    {
     "name": "stdout",
     "output_type": "stream",
     "text": [
      "{'uva', 'melon', 'ciruela', 'manzana'}\n"
     ]
    }
   ],
   "source": [
    "unSet= {'manzana','ciruela','uva'}\n",
    "unSet.add('melon')\n",
    "print(unSet)"
   ]
  },
  {
   "attachments": {},
   "cell_type": "markdown",
   "metadata": {},
   "source": [
    "Para agregar elementos desde un set a otro set, usamos el método `update()`"
   ]
  },
  {
   "cell_type": "code",
   "execution_count": 8,
   "metadata": {},
   "outputs": [
    {
     "name": "stdout",
     "output_type": "stream",
     "text": [
      "{'ciruela', 'granada', 'palta', 'sandia', 'limon', 'pera', 'uva', 'manzana', 'tomate'}\n"
     ]
    }
   ],
   "source": [
    "frutas= {'manzana','pera','uva','limon','ciruela'}\n",
    "frutas2= {'sandia','tomate','palta','granada'}\n",
    "\n",
    "frutas.update(frutas2)\n",
    "print(frutas)"
   ]
  },
  {
   "attachments": {},
   "cell_type": "markdown",
   "metadata": {},
   "source": [
    "Podemos añadir cualquier iterable. No tiene que ser un set, pueden ser listas, diccionarios, tuplas etc."
   ]
  },
  {
   "cell_type": "code",
   "execution_count": 9,
   "metadata": {},
   "outputs": [
    {
     "name": "stdout",
     "output_type": "stream",
     "text": [
      "{'manza', 'pera', 'melon', 'uva'}\n"
     ]
    }
   ],
   "source": [
    "unSet= {'manza','pera'}\n",
    "unaLista= ['melon','uva']\n",
    "\n",
    "unSet.update(unaLista)\n",
    "print(unSet)"
   ]
  },
  {
   "attachments": {},
   "cell_type": "markdown",
   "metadata": {},
   "source": [
    "Para remover un elemento en un set, usamos el método `remove()` o `discard()`"
   ]
  },
  {
   "cell_type": "code",
   "execution_count": 10,
   "metadata": {},
   "outputs": [
    {
     "name": "stdout",
     "output_type": "stream",
     "text": [
      "{'limon', 'ciruela', 'uva', 'manzana'}\n"
     ]
    }
   ],
   "source": [
    "frutas= {'manzana','pera','uva','limon','ciruela'}\n",
    "frutas.remove('pera')\n",
    "print(frutas)"
   ]
  },
  {
   "attachments": {},
   "cell_type": "markdown",
   "metadata": {},
   "source": [
    "Para vaciar un set, usamos el método `clear()`"
   ]
  },
  {
   "cell_type": "code",
   "execution_count": 13,
   "metadata": {},
   "outputs": [
    {
     "name": "stdout",
     "output_type": "stream",
     "text": [
      "set()\n"
     ]
    }
   ],
   "source": [
    "frutas= {'manzana','pera','uva','limon','ciruela'}\n",
    "frutas.clear()\n",
    "print(frutas)"
   ]
  },
  {
   "attachments": {},
   "cell_type": "markdown",
   "metadata": {},
   "source": [
    "La keyword `del` eliminará el set por completo."
   ]
  },
  {
   "cell_type": "code",
   "execution_count": 14,
   "metadata": {},
   "outputs": [
    {
     "ename": "NameError",
     "evalue": "name 'frutas' is not defined",
     "output_type": "error",
     "traceback": [
      "\u001b[1;31m---------------------------------------------------------------------------\u001b[0m",
      "\u001b[1;31mNameError\u001b[0m                                 Traceback (most recent call last)",
      "Cell \u001b[1;32mIn[14], line 3\u001b[0m\n\u001b[0;32m      1\u001b[0m frutas\u001b[39m=\u001b[39m {\u001b[39m'\u001b[39m\u001b[39mmanzana\u001b[39m\u001b[39m'\u001b[39m,\u001b[39m'\u001b[39m\u001b[39mpera\u001b[39m\u001b[39m'\u001b[39m,\u001b[39m'\u001b[39m\u001b[39muva\u001b[39m\u001b[39m'\u001b[39m,\u001b[39m'\u001b[39m\u001b[39mlimon\u001b[39m\u001b[39m'\u001b[39m,\u001b[39m'\u001b[39m\u001b[39mciruela\u001b[39m\u001b[39m'\u001b[39m}\n\u001b[0;32m      2\u001b[0m \u001b[39mdel\u001b[39;00m frutas\n\u001b[1;32m----> 3\u001b[0m \u001b[39mprint\u001b[39m(frutas)\n",
      "\u001b[1;31mNameError\u001b[0m: name 'frutas' is not defined"
     ]
    }
   ],
   "source": [
    "frutas= {'manzana','pera','uva','limon','ciruela'}\n",
    "del frutas\n",
    "print(frutas)"
   ]
  }
 ],
 "metadata": {
  "kernelspec": {
   "display_name": "Python 3",
   "language": "python",
   "name": "python3"
  },
  "language_info": {
   "codemirror_mode": {
    "name": "ipython",
    "version": 3
   },
   "file_extension": ".py",
   "mimetype": "text/x-python",
   "name": "python",
   "nbconvert_exporter": "python",
   "pygments_lexer": "ipython3",
   "version": "3.11.2"
  },
  "orig_nbformat": 4
 },
 "nbformat": 4,
 "nbformat_minor": 2
}
