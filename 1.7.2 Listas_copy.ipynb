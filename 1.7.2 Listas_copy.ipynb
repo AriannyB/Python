{
 "cells": [
  {
   "attachments": {},
   "cell_type": "markdown",
   "metadata": {},
   "source": [
    "### Copiar listas"
   ]
  },
  {
   "attachments": {},
   "cell_type": "markdown",
   "metadata": {},
   "source": [
    "No podemos simplemente copiar una lista de otra `list2 = lista1` porque `lista=2` va a referenciar a `lista1` y cualquier cambio que hagamos en `lista1` automaticamente se hará también en `lista2`\n",
    "Hay maneras de coopiar una lista, una manera es usar el método `copy()`"
   ]
  },
  {
   "cell_type": "code",
   "execution_count": 1,
   "metadata": {},
   "outputs": [
    {
     "name": "stdout",
     "output_type": "stream",
     "text": [
      "['manzana', 'pera', 'uva', 'melon']\n"
     ]
    }
   ],
   "source": [
    "frutas= ['manzana','pera','uva','melon']\n",
    "copiaFrutas= frutas.copy()\n",
    "print(copiaFrutas)"
   ]
  },
  {
   "attachments": {},
   "cell_type": "markdown",
   "metadata": {},
   "source": [
    "- otra manera de hacer una copia de una lista es con el método `list()`"
   ]
  },
  {
   "cell_type": "code",
   "execution_count": 2,
   "metadata": {},
   "outputs": [
    {
     "name": "stdout",
     "output_type": "stream",
     "text": [
      "['manzana', 'pera', 'uva', 'melon']\n"
     ]
    }
   ],
   "source": [
    "frutas= ['manzana','pera','uva','melon']\n",
    "listaFrutas= list(frutas)\n",
    "print(listaFrutas)"
   ]
  },
  {
   "attachments": {},
   "cell_type": "markdown",
   "metadata": {},
   "source": [
    "### Unir listas\n",
    "Podemos unir o concatenar dos o mas listas en Python."
   ]
  },
  {
   "attachments": {},
   "cell_type": "markdown",
   "metadata": {},
   "source": [
    "- Una de las formas mas sencillas es usando el operador `+`"
   ]
  },
  {
   "cell_type": "code",
   "execution_count": 1,
   "metadata": {},
   "outputs": [
    {
     "name": "stdout",
     "output_type": "stream",
     "text": [
      "['manzana', 'pera', 'uva', 'limon', 'vaso', 'plato', 'tenedor', 'cuchara']\n"
     ]
    }
   ],
   "source": [
    "lista1=['manzana','pera','uva','limon']\n",
    "lista2=['vaso','plato','tenedor','cuchara']\n",
    "\n",
    "lista3= lista1+lista2\n",
    "print(lista3)"
   ]
  },
  {
   "attachments": {},
   "cell_type": "markdown",
   "metadata": {},
   "source": [
    "- La otra forma de unir dos listas es añadiendo todos los elementos de `lista1` a `lista2`, uno a uno."
   ]
  },
  {
   "cell_type": "code",
   "execution_count": 5,
   "metadata": {},
   "outputs": [
    {
     "name": "stdout",
     "output_type": "stream",
     "text": [
      "['a', 'b', 'd', 'c', 1, 2, 3, 4]\n"
     ]
    }
   ],
   "source": [
    "lista1=['a','b','d','c']\n",
    "lista2=[1,2,3,4]\n",
    "for i in lista2:\n",
    "    lista1.append(i)\n",
    "print(lista1)\n",
    "\n"
   ]
  },
  {
   "attachments": {},
   "cell_type": "markdown",
   "metadata": {},
   "source": [
    "- Podemos utilizar el método `extend()`. Lo que hace es añadir elementos de una lista a otra lista"
   ]
  },
  {
   "cell_type": "code",
   "execution_count": 6,
   "metadata": {},
   "outputs": [
    {
     "name": "stdout",
     "output_type": "stream",
     "text": [
      "['a', 'b', 'd', 'c', 1, 2, 3, 4]\n"
     ]
    }
   ],
   "source": [
    "lista1=['a','b','d','c']\n",
    "lista2=[1,2,3,4]\n",
    "lista1.extend(lista2)\n",
    "print(lista1)"
   ]
  }
 ],
 "metadata": {
  "kernelspec": {
   "display_name": "Python 3",
   "language": "python",
   "name": "python3"
  },
  "language_info": {
   "codemirror_mode": {
    "name": "ipython",
    "version": 3
   },
   "file_extension": ".py",
   "mimetype": "text/x-python",
   "name": "python",
   "nbconvert_exporter": "python",
   "pygments_lexer": "ipython3",
   "version": "3.11.2"
  },
  "orig_nbformat": 4
 },
 "nbformat": 4,
 "nbformat_minor": 2
}
