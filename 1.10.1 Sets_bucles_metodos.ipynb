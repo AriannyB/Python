{
 "cells": [
  {
   "attachments": {},
   "cell_type": "markdown",
   "metadata": {},
   "source": [
    "### Bucles en sets.\n",
    "Podemos recorrer los elementos de un set con `for`"
   ]
  },
  {
   "cell_type": "code",
   "execution_count": 1,
   "metadata": {},
   "outputs": [
    {
     "name": "stdout",
     "output_type": "stream",
     "text": [
      "pera\n",
      "limon\n",
      "ciruela\n",
      "uva\n",
      "manzana\n"
     ]
    }
   ],
   "source": [
    "frutas= {'manzana','pera','uva','limon','ciruela'}\n",
    "for i in frutas:\n",
    "    print(i)"
   ]
  },
  {
   "attachments": {},
   "cell_type": "markdown",
   "metadata": {},
   "source": [
    "### Uniendo sets.\n",
    "Existen varias formas de unir dos o más conjuntos.\n",
    "- Podemos utilizar el método `union()` que devuelve un nuevo conjunto que contiene todos los elementos de ambos conjuntos.\n",
    "- O el método `update()` que inserta todos los elementos de un conjunto en otro."
   ]
  },
  {
   "attachments": {},
   "cell_type": "markdown",
   "metadata": {},
   "source": [
    "`union()`"
   ]
  },
  {
   "cell_type": "code",
   "execution_count": 2,
   "metadata": {},
   "outputs": [
    {
     "name": "stdout",
     "output_type": "stream",
     "text": [
      "{'a', 'f', 'b', 'c', 'e', 'g'}\n"
     ]
    }
   ],
   "source": [
    "set1= {'a','b','c'}\n",
    "set2= {'e','f','g'}\n",
    "\n",
    "set3= set1.union(set2)\n",
    "print(set3)"
   ]
  },
  {
   "attachments": {},
   "cell_type": "markdown",
   "metadata": {},
   "source": [
    "`update()`"
   ]
  },
  {
   "cell_type": "code",
   "execution_count": 4,
   "metadata": {},
   "outputs": [
    {
     "name": "stdout",
     "output_type": "stream",
     "text": [
      "{'a', 'f', 'b', 'c', 'e', 'g'}\n"
     ]
    }
   ],
   "source": [
    "set1= {'a','b','c'}\n",
    "set2= {'e','f','g'}\n",
    "\n",
    "set1.update(set2)\n",
    "print(set1)"
   ]
  },
  {
   "attachments": {},
   "cell_type": "markdown",
   "metadata": {},
   "source": [
    "- Para mantener SÓLO los duplicados, el método `intersection_update()` mantendrá sólo los elementos que estén presentes en ambos conjuntos."
   ]
  },
  {
   "cell_type": "code",
   "execution_count": 5,
   "metadata": {},
   "outputs": [
    {
     "name": "stdout",
     "output_type": "stream",
     "text": [
      "{'limon', 'uva'}\n"
     ]
    }
   ],
   "source": [
    "x= {'manzana','uva','limon','pera'}\n",
    "y= {'uva','sandia','tomate','limon'}\n",
    "\n",
    "x.intersection_update(y)\n",
    "print(x)"
   ]
  },
  {
   "attachments": {},
   "cell_type": "markdown",
   "metadata": {},
   "source": [
    "- El método `intersection()` devolverá un nuevo set que contiene sólo los items duplicados que están presentes en ambos conjuntos."
   ]
  },
  {
   "cell_type": "code",
   "execution_count": 7,
   "metadata": {},
   "outputs": [
    {
     "name": "stdout",
     "output_type": "stream",
     "text": [
      "{'limon', 'uva'}\n"
     ]
    }
   ],
   "source": [
    "x= {'manzana','uva','limon','pera'}\n",
    "y= {'uva','sandia','tomate','limon'}\n",
    "\n",
    "z= x.intersection(y)\n",
    "print(z)"
   ]
  },
  {
   "attachments": {},
   "cell_type": "markdown",
   "metadata": {},
   "source": [
    "- Método `symmetric_difference_update()` para mantener todos los elementos pero NO los duplicados."
   ]
  },
  {
   "cell_type": "code",
   "execution_count": 8,
   "metadata": {},
   "outputs": [
    {
     "name": "stdout",
     "output_type": "stream",
     "text": [
      "{'tomate', 'pera', 'manzana', 'sandia'}\n"
     ]
    }
   ],
   "source": [
    "x= {'manzana','uva','limon','pera'}\n",
    "y= {'uva','sandia','tomate','limon'}\n",
    "\n",
    "x.symmetric_difference_update(y)\n",
    "print(x)"
   ]
  },
  {
   "attachments": {},
   "cell_type": "markdown",
   "metadata": {},
   "source": [
    "- Método `symmetric_difference()` devolverá un nuevo set que contiene sólo los elementos que no están presente en ambos sets."
   ]
  },
  {
   "cell_type": "code",
   "execution_count": 9,
   "metadata": {},
   "outputs": [
    {
     "name": "stdout",
     "output_type": "stream",
     "text": [
      "{'tomate', 'pera', 'manzana', 'sandia'}\n"
     ]
    }
   ],
   "source": [
    "x= {'manzana','uva','limon','pera'}\n",
    "y= {'uva','sandia','tomate','limon'}\n",
    "\n",
    "z= x.symmetric_difference(y)\n",
    "print(z)"
   ]
  }
 ],
 "metadata": {
  "kernelspec": {
   "display_name": "Python 3",
   "language": "python",
   "name": "python3"
  },
  "language_info": {
   "codemirror_mode": {
    "name": "ipython",
    "version": 3
   },
   "file_extension": ".py",
   "mimetype": "text/x-python",
   "name": "python",
   "nbconvert_exporter": "python",
   "pygments_lexer": "ipython3",
   "version": "3.11.2"
  },
  "orig_nbformat": 4
 },
 "nbformat": 4,
 "nbformat_minor": 2
}
