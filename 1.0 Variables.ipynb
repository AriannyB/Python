{
 "cells": [
  {
   "attachments": {},
   "cell_type": "markdown",
   "metadata": {},
   "source": [
    "### Variables\n",
    "- Las variables son contenedores donde guardamos valores.\n",
    "- Creamos variables en el momento en el que le asignamos un valor por primera vez\n",
    "- en Python no necesitamos declarar el tipo de dato que vamos a guardar en nuestra variable\n",
    "- Incluso puede cambiar su tipo después de que la asignamos"
   ]
  },
  {
   "cell_type": "code",
   "execution_count": 1,
   "metadata": {},
   "outputs": [],
   "source": [
    "x= 5\n",
    "y= 'Gato'"
   ]
  },
  {
   "attachments": {},
   "cell_type": "markdown",
   "metadata": {},
   "source": [
    "- Si queremos especificar el tipo de dato de nuestra variable, lo hacemos así:"
   ]
  },
  {
   "cell_type": "code",
   "execution_count": 6,
   "metadata": {},
   "outputs": [],
   "source": [
    "x= int (5)\n",
    "y= str ('Ary')\n",
    "z= float (2.3)"
   ]
  },
  {
   "attachments": {},
   "cell_type": "markdown",
   "metadata": {},
   "source": [
    "- `type()`, funcion para saber el tipo de dato de una variable."
   ]
  },
  {
   "cell_type": "code",
   "execution_count": 5,
   "metadata": {},
   "outputs": [
    {
     "name": "stdout",
     "output_type": "stream",
     "text": [
      "<class 'int'>\n",
      "<class 'str'>\n",
      "<class 'float'>\n"
     ]
    }
   ],
   "source": [
    "x= int (5)\n",
    "y= str ('Ary')\n",
    "z= float (2.3)\n",
    "print(type(x))\n",
    "print(type(y))\n",
    "print(type(z))"
   ]
  },
  {
   "attachments": {},
   "cell_type": "markdown",
   "metadata": {},
   "source": [
    "- En Python podemos declarar variables usando comillas dobles `\"` o comillas simples `'`"
   ]
  },
  {
   "cell_type": "code",
   "execution_count": 7,
   "metadata": {},
   "outputs": [],
   "source": [
    "x= 'hola'\n",
    "# es lo mismo que\n",
    "z= \"Hola\""
   ]
  },
  {
   "attachments": {},
   "cell_type": "markdown",
   "metadata": {},
   "source": [
    "- Los nombres de las variables son sensibles a las mayúsculas y minúsculas (Case-sensitive)"
   ]
  },
  {
   "cell_type": "code",
   "execution_count": 8,
   "metadata": {},
   "outputs": [
    {
     "name": "stdout",
     "output_type": "stream",
     "text": [
      "5\n",
      "Hola\n"
     ]
    }
   ],
   "source": [
    "a= 5\n",
    "A= 'Hola'\n",
    "print(a)\n",
    "print(A)"
   ]
  },
  {
   "attachments": {},
   "cell_type": "markdown",
   "metadata": {},
   "source": [
    "### Reglas para crear variables\n",
    "- Debe empezar por una letra o guíon bajo\n",
    "- No puede empezar con un número\n",
    "- Deben contener sólo caracteres alfanumericos y guiones bajos (A-z,0-9 y _)\n",
    "- Se distinguen entre mayúsculas y minúsculas (edad,Age y AGE son tres variables distintas)\n",
    "- No puede ser ninguna palabra reservada de Python"
   ]
  },
  {
   "attachments": {},
   "cell_type": "markdown",
   "metadata": {},
   "source": [
    "Las variables con más de un nombre pueden ser dificiles de leer.\n",
    "- Hay varias maneras que podemos usar para crear variables"
   ]
  },
  {
   "attachments": {},
   "cell_type": "markdown",
   "metadata": {},
   "source": [
    "Camel Case"
   ]
  },
  {
   "cell_type": "code",
   "execution_count": 10,
   "metadata": {},
   "outputs": [],
   "source": [
    "nombreDeVariable= 'gatito'"
   ]
  },
  {
   "attachments": {},
   "cell_type": "markdown",
   "metadata": {},
   "source": [
    "Pascal Case"
   ]
  },
  {
   "cell_type": "code",
   "execution_count": 1,
   "metadata": {},
   "outputs": [],
   "source": [
    "NombreVariable= 'gatito'"
   ]
  },
  {
   "attachments": {},
   "cell_type": "markdown",
   "metadata": {},
   "source": [
    "Snake Case"
   ]
  },
  {
   "cell_type": "code",
   "execution_count": 11,
   "metadata": {},
   "outputs": [],
   "source": [
    "nombre_de_variable= 'gatito'"
   ]
  },
  {
   "attachments": {},
   "cell_type": "markdown",
   "metadata": {},
   "source": [
    "- Python permite asignar valores a variables en múltiples líneas\n",
    "- Asegurense de que la cantidad de valores coincide con la cantidad de variables"
   ]
  },
  {
   "cell_type": "code",
   "execution_count": 4,
   "metadata": {},
   "outputs": [
    {
     "name": "stdout",
     "output_type": "stream",
     "text": [
      "naranja\n",
      "manzana\n",
      "pera\n"
     ]
    }
   ],
   "source": [
    "x,y,z = 'naranja', 'manzana','pera'\n",
    "print(x)\n",
    "print(y)\n",
    "print(z)"
   ]
  },
  {
   "attachments": {},
   "cell_type": "markdown",
   "metadata": {},
   "source": [
    "- Podemos asignar el mismo valor a múltiples variables"
   ]
  },
  {
   "cell_type": "code",
   "execution_count": 2,
   "metadata": {},
   "outputs": [
    {
     "name": "stdout",
     "output_type": "stream",
     "text": [
      "Naranja\n",
      "Naranja\n",
      "Naranja\n"
     ]
    }
   ],
   "source": [
    "x = y = z = \"Naranja\"\n",
    "print(x)\n",
    "print(y)\n",
    "print(z)"
   ]
  },
  {
   "attachments": {},
   "cell_type": "markdown",
   "metadata": {},
   "source": [
    "- Si tienes una colección de valores en una lista, puedes extraer los valores y asignarlos a variables\n",
    "- Esto se llama **desempaquetar**"
   ]
  },
  {
   "cell_type": "code",
   "execution_count": 3,
   "metadata": {},
   "outputs": [
    {
     "name": "stdout",
     "output_type": "stream",
     "text": [
      "manzana\n",
      "pera\n",
      "naranja\n",
      "ciruela\n"
     ]
    }
   ],
   "source": [
    "frutas= ['manzana','pera','naranja','ciruela']\n",
    "x,y,z,m= frutas\n",
    "print(x)\n",
    "print(y)\n",
    "print(z)\n",
    "print(m)"
   ]
  },
  {
   "attachments": {},
   "cell_type": "markdown",
   "metadata": {},
   "source": [
    "### Output variables\n",
    "- la función `print()` se usa a menudo para dar salida a variables"
   ]
  },
  {
   "cell_type": "code",
   "execution_count": 12,
   "metadata": {},
   "outputs": [
    {
     "name": "stdout",
     "output_type": "stream",
     "text": [
      "los gatitos negros son geniales\n"
     ]
    }
   ],
   "source": [
    "x= 'los gatitos negros son geniales'\n",
    "print(x)"
   ]
  },
  {
   "attachments": {},
   "cell_type": "markdown",
   "metadata": {},
   "source": [
    "- Con la función `print()` podemos imprimir multiples variables separadas por coma"
   ]
  },
  {
   "cell_type": "code",
   "execution_count": 14,
   "metadata": {},
   "outputs": [
    {
     "name": "stdout",
     "output_type": "stream",
     "text": [
      "Karaoto es un gato negrito\n"
     ]
    }
   ],
   "source": [
    "x= 'Karaoto'\n",
    "y= 'es un gatito'\n",
    "z= 'negro'\n",
    "print(x,y,z)"
   ]
  },
  {
   "attachments": {},
   "cell_type": "markdown",
   "metadata": {},
   "source": [
    "También podemos usar esta función con el operador `+` para imprimir múltiples variables"
   ]
  },
  {
   "cell_type": "code",
   "execution_count": 17,
   "metadata": {},
   "outputs": [
    {
     "name": "stdout",
     "output_type": "stream",
     "text": [
      "Karaoto es un gatito negro\n"
     ]
    }
   ],
   "source": [
    "x= 'Karaoto'\n",
    "y= ' es un gatito'\n",
    "z= ' negro'\n",
    "print(x+y+z)"
   ]
  },
  {
   "attachments": {},
   "cell_type": "markdown",
   "metadata": {},
   "source": [
    "- Para numeros el caracter `+` trabaja como operador de suma"
   ]
  },
  {
   "cell_type": "code",
   "execution_count": 18,
   "metadata": {},
   "outputs": [
    {
     "name": "stdout",
     "output_type": "stream",
     "text": [
      "25\n"
     ]
    }
   ],
   "source": [
    "x= 5\n",
    "y= 20\n",
    "print (x+y)"
   ]
  },
  {
   "attachments": {},
   "cell_type": "markdown",
   "metadata": {},
   "source": [
    "- En la función `print()` cuando tratamos de combinar numeros y strings con el operador `+`, nos dará error\n",
    "- No podemos sumar un entero con una string"
   ]
  },
  {
   "cell_type": "code",
   "execution_count": 20,
   "metadata": {},
   "outputs": [
    {
     "ename": "TypeError",
     "evalue": "unsupported operand type(s) for +: 'int' and 'str'",
     "output_type": "error",
     "traceback": [
      "\u001b[1;31m---------------------------------------------------------------------------\u001b[0m",
      "\u001b[1;31mTypeError\u001b[0m                                 Traceback (most recent call last)",
      "Cell \u001b[1;32mIn[20], line 3\u001b[0m\n\u001b[0;32m      1\u001b[0m x\u001b[39m=\u001b[39m \u001b[39m5\u001b[39m\n\u001b[0;32m      2\u001b[0m y\u001b[39m=\u001b[39m \u001b[39m'\u001b[39m\u001b[39mKaraoto\u001b[39m\u001b[39m'\u001b[39m\n\u001b[1;32m----> 3\u001b[0m \u001b[39mprint\u001b[39m(x\u001b[39m+\u001b[39;49my)\n",
      "\u001b[1;31mTypeError\u001b[0m: unsupported operand type(s) for +: 'int' and 'str'"
     ]
    }
   ],
   "source": [
    "x= 5\n",
    "y= 'Karaoto'\n",
    "print(x+y) #esto dará error"
   ]
  },
  {
   "attachments": {},
   "cell_type": "markdown",
   "metadata": {},
   "source": [
    "- La mejor manera de imprimir variables con la función print es separar las variables con comas\n",
    "- Incluso si son de distintos tipos de datos"
   ]
  },
  {
   "cell_type": "code",
   "execution_count": 21,
   "metadata": {},
   "outputs": [
    {
     "name": "stdout",
     "output_type": "stream",
     "text": [
      "5 Karaoto\n"
     ]
    }
   ],
   "source": [
    "x= 5\n",
    "y= 'Karaoto'\n",
    "print(x,y)"
   ]
  },
  {
   "attachments": {},
   "cell_type": "markdown",
   "metadata": {},
   "source": [
    "### Variables globales\n",
    "- las variables que se crean fuera de una función (como en todos los ejemplos anteriores) se conocen como variables Globales\n",
    "- Pueden ser utilizadas por todo el mundo, tanto dentro de una función como fuera de ella."
   ]
  },
  {
   "cell_type": "code",
   "execution_count": 26,
   "metadata": {},
   "outputs": [
    {
     "name": "stdout",
     "output_type": "stream",
     "text": [
      "mi gato se llama Karaoto\n"
     ]
    }
   ],
   "source": [
    "x= 'Karaoto'\n",
    "def miFuncion():\n",
    "    print('mi gato se llama ' + x)\n",
    "    \n",
    "miFuncion()"
   ]
  },
  {
   "attachments": {},
   "cell_type": "markdown",
   "metadata": {},
   "source": [
    "- Si creamos variables con el mismo nombre dentro de una función, esta variable será local y podremos utilizarla\n",
    "solo dentro de la función\n",
    "- La variable global con el mismo nombre permanecerá como estaba, global y con el valor original"
   ]
  },
  {
   "cell_type": "code",
   "execution_count": 4,
   "metadata": {},
   "outputs": [
    {
     "name": "stdout",
     "output_type": "stream",
     "text": [
      "mi gato se llama Marcela\n",
      "mi gato se llama Karaoto\n"
     ]
    }
   ],
   "source": [
    "x= 'Karaoto'\n",
    "\n",
    "def miFuncion():\n",
    "    x= 'Marcela'\n",
    "    print('mi gato se llama '+ x)\n",
    "    \n",
    "miFuncion()\n",
    "print('mi gato se llama '+ x)"
   ]
  },
  {
   "attachments": {},
   "cell_type": "markdown",
   "metadata": {},
   "source": [
    "Normalmente cuando creamos una variable dentro de una funcion, esa variable es local y puede utilizarse solo dentro de esa funcion.\n",
    "- Para crear una variable global dentro de una funcion, utilizamos la keyword `global`\n",
    "- Si utilizamos la keyword `global` la variable pertenecerá a ámbito global"
   ]
  },
  {
   "cell_type": "code",
   "execution_count": 2,
   "metadata": {},
   "outputs": [
    {
     "name": "stdout",
     "output_type": "stream",
     "text": [
      "Mi gato se llama Karaoto\n"
     ]
    }
   ],
   "source": [
    "def xfuncion():\n",
    "    global x\n",
    "    x= 'Karaoto'\n",
    "    \n",
    "xfuncion()\n",
    "print('Mi gato se llama '+ x)"
   ]
  },
  {
   "attachments": {},
   "cell_type": "markdown",
   "metadata": {},
   "source": [
    "- Podemos utilizar `global` si queremos modificar una variable global dentro de una función"
   ]
  },
  {
   "cell_type": "code",
   "execution_count": 6,
   "metadata": {},
   "outputs": [
    {
     "name": "stdout",
     "output_type": "stream",
     "text": [
      "Mi gato se llama Karaoto\n"
     ]
    }
   ],
   "source": [
    "x= 'Marcela'\n",
    "def yFuncion():\n",
    "    global x\n",
    "    x= 'Karaoto' #acá modificamos el valor de la variable\n",
    "yFuncion()\n",
    "print('Mi gato se llama ' + x)"
   ]
  }
 ],
 "metadata": {
  "kernelspec": {
   "display_name": "Python 3",
   "language": "python",
   "name": "python3"
  },
  "language_info": {
   "codemirror_mode": {
    "name": "ipython",
    "version": 3
   },
   "file_extension": ".py",
   "mimetype": "text/x-python",
   "name": "python",
   "nbconvert_exporter": "python",
   "pygments_lexer": "ipython3",
   "version": "3.11.2"
  },
  "orig_nbformat": 4
 },
 "nbformat": 4,
 "nbformat_minor": 2
}
