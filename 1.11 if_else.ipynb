{
 "cells": [
  {
   "attachments": {},
   "cell_type": "markdown",
   "metadata": {},
   "source": [
    "### Condicionales y sentencias `if` y `else`\n",
    "Python admite las condiciones lógicas en matemáticas.\n",
    "- igual: `a == b`\n",
    "- no igual: `a! = b`\n",
    "- menor que: `a < b`\n",
    "- menor o igual que: `a <= b`\n",
    "- mayor que: `a > b`\n",
    "- mayor o igual que: `a >= b`\n",
    "- Estas condiciones pueden utilizarse de varias formas, sobre todo en sentencias `if` y bucles.\n",
    "\n"
   ]
  },
  {
   "attachments": {},
   "cell_type": "markdown",
   "metadata": {},
   "source": [
    "### `if` "
   ]
  },
  {
   "cell_type": "code",
   "execution_count": 1,
   "metadata": {},
   "outputs": [
    {
     "name": "stdout",
     "output_type": "stream",
     "text": [
      "b es mayor que a\n"
     ]
    }
   ],
   "source": [
    "a= 33\n",
    "b= 222\n",
    "if b > a:\n",
    "    print('b es mayor que a')"
   ]
  },
  {
   "attachments": {},
   "cell_type": "markdown",
   "metadata": {},
   "source": [
    "En este ejemplo utilizamos dos variables, `a` y `b`, que se usan como parte de la sentencia `if` para comprobar que si `b` es mayor a `a`. Como `b` es 222 y `a` es 33, sabemos que 222 es mayor que 33 por lo que imprimimos 'b es mayor a a'"
   ]
  },
  {
   "attachments": {},
   "cell_type": "markdown",
   "metadata": {},
   "source": [
    "### Sangría (identation)\n",
    "Python utiliza la sangría (espacio en blanco al principio de una línea) para definir el ámbito del código. "
   ]
  },
  {
   "cell_type": "code",
   "execution_count": 2,
   "metadata": {},
   "outputs": [
    {
     "ename": "IndentationError",
     "evalue": "expected an indented block after 'if' statement on line 3 (893540456.py, line 4)",
     "output_type": "error",
     "traceback": [
      "\u001b[1;36m  Cell \u001b[1;32mIn[2], line 4\u001b[1;36m\u001b[0m\n\u001b[1;33m    print('b es mayor que a') #esto dará error\u001b[0m\n\u001b[1;37m    ^\u001b[0m\n\u001b[1;31mIndentationError\u001b[0m\u001b[1;31m:\u001b[0m expected an indented block after 'if' statement on line 3\n"
     ]
    }
   ],
   "source": [
    "a= 33\n",
    "b= 222\n",
    "if b > a:\n",
    "print('b es mayor que a') #esto dará error"
   ]
  },
  {
   "attachments": {},
   "cell_type": "markdown",
   "metadata": {},
   "source": [
    "### `elif` \n",
    "Esta palabra clave es una forma de decir \"si las condiciones anteriores no son True, entonces prueba esta condicion\""
   ]
  },
  {
   "cell_type": "code",
   "execution_count": 3,
   "metadata": {},
   "outputs": [
    {
     "name": "stdout",
     "output_type": "stream",
     "text": [
      "a y b son iguales\n"
     ]
    }
   ],
   "source": [
    "a= 33\n",
    "b= 33\n",
    "if a > b:\n",
    "    print('a es myor a b')\n",
    "elif a == b:\n",
    "    print('a y b son iguales')"
   ]
  },
  {
   "attachments": {},
   "cell_type": "markdown",
   "metadata": {},
   "source": [
    "- En este ejemplo a es igual a b, por lo que la primera condición no es verdadera, pero la condición `elif` es verdadera, por lo que imprimimos 'a y b son iguales'"
   ]
  },
  {
   "attachments": {},
   "cell_type": "markdown",
   "metadata": {},
   "source": [
    "### `else`\n",
    "la palabra clave `else` toma cualquier condicion que no sea capturada por las condiciones anteriores."
   ]
  },
  {
   "cell_type": "code",
   "execution_count": 4,
   "metadata": {},
   "outputs": [
    {
     "name": "stdout",
     "output_type": "stream",
     "text": [
      "a es mayor a b\n"
     ]
    }
   ],
   "source": [
    "a= 200\n",
    "b= 33\n",
    "if b > a:\n",
    "    print('b es mayor a a')\n",
    "elif a == b:\n",
    "    print('a y b son iguales')\n",
    "else:\n",
    "    print('a es mayor a b')"
   ]
  },
  {
   "attachments": {},
   "cell_type": "markdown",
   "metadata": {},
   "source": [
    "- En este ejemplo a es mayor a b, por lo que la primera condicion no es verdadera, la segunda condicion `elif` tampoco es verdadera. Por lo tanto pasa directamente a la condición `else` e imprime 'a es mayor a b' ya que es la unica verdadera."
   ]
  },
  {
   "attachments": {},
   "cell_type": "markdown",
   "metadata": {},
   "source": [
    "También podemos tener un `else` sin el `elif`"
   ]
  },
  {
   "cell_type": "code",
   "execution_count": 5,
   "metadata": {},
   "outputs": [
    {
     "name": "stdout",
     "output_type": "stream",
     "text": [
      "a es mayor a b\n"
     ]
    }
   ],
   "source": [
    "a= 200\n",
    "b= 33\n",
    "if b > a:\n",
    "    print('b es mayor a a')\n",
    "else:\n",
    "    print('a es mayor a b')"
   ]
  },
  {
   "attachments": {},
   "cell_type": "markdown",
   "metadata": {},
   "source": [
    "### `if` abreviado.\n",
    "Si solo tenemos que ejecutar una sentencia, podemos hacerlo en la misma línea que `if`"
   ]
  },
  {
   "cell_type": "code",
   "execution_count": 6,
   "metadata": {},
   "outputs": [
    {
     "name": "stdout",
     "output_type": "stream",
     "text": [
      "a es mayor a b\n"
     ]
    }
   ],
   "source": [
    "a= 200\n",
    "b= 1\n",
    "if a > b: print('a es mayor a b')"
   ]
  },
  {
   "attachments": {},
   "cell_type": "markdown",
   "metadata": {},
   "source": [
    "### `if` y `else` abreviado.\n",
    "Si solo tenemos que ejecutar una sentencia, una para `if` y otra para `else`, podemos hacerlo en la misma línea."
   ]
  },
  {
   "cell_type": "code",
   "execution_count": 7,
   "metadata": {},
   "outputs": [
    {
     "name": "stdout",
     "output_type": "stream",
     "text": [
      "b\n"
     ]
    }
   ],
   "source": [
    "a= 2\n",
    "b= 30\n",
    "print ('A')if a > b else print('B')"
   ]
  },
  {
   "attachments": {},
   "cell_type": "markdown",
   "metadata": {},
   "source": [
    "Esta técnica se conoce como Operadores Ternarios o Expresiones Condicionales."
   ]
  },
  {
   "attachments": {},
   "cell_type": "markdown",
   "metadata": {},
   "source": [
    "También podemos tener varias sentencias `else` en la misma línea.\n",
    "- Declaracion `if` `else` de una línea, con 3 condiciones:"
   ]
  },
  {
   "cell_type": "code",
   "execution_count": 8,
   "metadata": {},
   "outputs": [
    {
     "name": "stdout",
     "output_type": "stream",
     "text": [
      "B\n"
     ]
    }
   ],
   "source": [
    "a= 330\n",
    "b= 330\n",
    "\n",
    "print('A') if a > b else print('B') if a == b else print('B')"
   ]
  },
  {
   "attachments": {},
   "cell_type": "markdown",
   "metadata": {},
   "source": [
    "### `and`\n",
    "La palabra clave `and` es un operador logico y se usar para combinar sentencias condicionales"
   ]
  },
  {
   "attachments": {},
   "cell_type": "markdown",
   "metadata": {},
   "source": [
    "- Aca comprobamos si 'a' es mayor que 'b' y si 'c' es mayor a 'a'"
   ]
  },
  {
   "cell_type": "code",
   "execution_count": 9,
   "metadata": {},
   "outputs": [
    {
     "name": "stdout",
     "output_type": "stream",
     "text": [
      "ambas condiciones son verdaderas\n"
     ]
    }
   ],
   "source": [
    "a= 200\n",
    "b= 33\n",
    "c= 500\n",
    "\n",
    "if a > b and c > a:\n",
    "    print('ambas condiciones son verdaderas')"
   ]
  },
  {
   "attachments": {},
   "cell_type": "markdown",
   "metadata": {},
   "source": [
    "### `or`\n",
    "La palabra clave `or` es otro operador logico y también se usar para combinar sentencias condicionales."
   ]
  },
  {
   "attachments": {},
   "cell_type": "markdown",
   "metadata": {},
   "source": [
    "- Acá comprobamos si 'a' es mayor a 'b' o si 'a' es mayor a 'c'"
   ]
  },
  {
   "cell_type": "code",
   "execution_count": 10,
   "metadata": {},
   "outputs": [
    {
     "name": "stdout",
     "output_type": "stream",
     "text": [
      "una de las condiciones es verdadera\n"
     ]
    }
   ],
   "source": [
    "a= 200\n",
    "b= 33\n",
    "c= 500\n",
    "\n",
    "if a > b or b > c:\n",
    "    print('una de las condiciones es verdadera')"
   ]
  },
  {
   "attachments": {},
   "cell_type": "markdown",
   "metadata": {},
   "source": [
    "### `not`\n",
    "La palabra clave `or` también es un operador logico, y se usa para revertir el resultado de una sentencia condicional\n",
    "- acá comprobamos si 'a' NO es mayor que 'b'"
   ]
  },
  {
   "cell_type": "code",
   "execution_count": 12,
   "metadata": {},
   "outputs": [
    {
     "name": "stdout",
     "output_type": "stream",
     "text": [
      "a no es mayor que b\n"
     ]
    }
   ],
   "source": [
    "a= 33\n",
    "b= 200\n",
    "\n",
    "if not a > b:\n",
    "    print('a no es mayor que b')"
   ]
  },
  {
   "attachments": {},
   "cell_type": "markdown",
   "metadata": {},
   "source": [
    "### Sentencias `if` anidadas\n",
    "Podemos tener sentencias `if` dentro de otros `if`."
   ]
  },
  {
   "cell_type": "code",
   "execution_count": 15,
   "metadata": {},
   "outputs": [
    {
     "name": "stdout",
     "output_type": "stream",
     "text": [
      "mayor a 10\n",
      "también es mayor a 20\n"
     ]
    }
   ],
   "source": [
    "x= 41\n",
    "\n",
    "if x > 10:\n",
    "    print('mayor a 10')\n",
    "if x > 20:\n",
    "    print('también es mayor a 20')\n",
    "else:\n",
    "    print('menor a 20')"
   ]
  },
  {
   "attachments": {},
   "cell_type": "markdown",
   "metadata": {},
   "source": [
    "### Sentencia `pass`\n",
    "las sentencias `if` no pueden estar vacías, pero si por alguna razon tenemos una sentencia `if` sin contenido, podemos usar la sentencia `pass` para evitar un error en el código."
   ]
  },
  {
   "cell_type": "code",
   "execution_count": 16,
   "metadata": {},
   "outputs": [],
   "source": [
    "a= 33\n",
    "b= 200\n",
    "\n",
    "if b > a:\n",
    "    pass"
   ]
  }
 ],
 "metadata": {
  "kernelspec": {
   "display_name": "Python 3",
   "language": "python",
   "name": "python3"
  },
  "language_info": {
   "codemirror_mode": {
    "name": "ipython",
    "version": 3
   },
   "file_extension": ".py",
   "mimetype": "text/x-python",
   "name": "python",
   "nbconvert_exporter": "python",
   "pygments_lexer": "ipython3",
   "version": "3.11.2"
  },
  "orig_nbformat": 4
 },
 "nbformat": 4,
 "nbformat_minor": 2
}
