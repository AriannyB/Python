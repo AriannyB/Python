{
 "cells": [
  {
   "attachments": {},
   "cell_type": "markdown",
   "metadata": {},
   "source": [
    "### Números en Python\n",
    "- Hay tres tipos de números en Python:\n",
    "- `int`\n",
    "- `float`\n",
    "- `complex`"
   ]
  },
  {
   "attachments": {},
   "cell_type": "markdown",
   "metadata": {},
   "source": [
    "- Las variables de tipo númerico se crean cuando se les asigna un valor\n",
    "- Para verificar el tipo de dato de la variable: `type()`"
   ]
  },
  {
   "attachments": {},
   "cell_type": "markdown",
   "metadata": {},
   "source": [
    "- `int` es todo un número entero, positivo o negativo, sin decimales y de longitud ilimitada"
   ]
  },
  {
   "cell_type": "code",
   "execution_count": 3,
   "metadata": {},
   "outputs": [
    {
     "name": "stdout",
     "output_type": "stream",
     "text": [
      "<class 'int'>\n"
     ]
    }
   ],
   "source": [
    "x= 1\n",
    "print(type(x))"
   ]
  },
  {
   "attachments": {},
   "cell_type": "markdown",
   "metadata": {},
   "source": [
    "- `float` es un número flotante, positivo o negativo que contiene uno o más decimales\n",
    "- también pueden ser números ciéntificos, con una `'e'` para indicar la potencia de 10"
   ]
  },
  {
   "cell_type": "code",
   "execution_count": 7,
   "metadata": {},
   "outputs": [
    {
     "name": "stdout",
     "output_type": "stream",
     "text": [
      "<class 'float'>\n",
      "<class 'float'>\n"
     ]
    }
   ],
   "source": [
    "y= 3.4\n",
    "x= 35e3\n",
    "\n",
    "print(type(y))\n",
    "print(type(x))"
   ]
  },
  {
   "attachments": {},
   "cell_type": "markdown",
   "metadata": {},
   "source": [
    "- `complex` son numeros complejos, se escriben con una `'j'` como su parte imaginaria."
   ]
  },
  {
   "cell_type": "code",
   "execution_count": 5,
   "metadata": {},
   "outputs": [
    {
     "name": "stdout",
     "output_type": "stream",
     "text": [
      "<class 'complex'>\n"
     ]
    }
   ],
   "source": [
    "z= 1j\n",
    "print(type(z))"
   ]
  },
  {
   "attachments": {},
   "cell_type": "markdown",
   "metadata": {},
   "source": [
    "### Type conversion\n",
    "- Podemos convertir un tipo de dato a otro tipo de dato con los métodos:\n",
    "- `int()`\n",
    "- `float()`\n",
    "- `and()`\n",
    "- `complex()`"
   ]
  },
  {
   "cell_type": "code",
   "execution_count": 14,
   "metadata": {},
   "outputs": [
    {
     "name": "stdout",
     "output_type": "stream",
     "text": [
      "<class 'float'>\n",
      "<class 'int'>\n"
     ]
    }
   ],
   "source": [
    "x= 4\n",
    "y= 2.8\n",
    "z= 1j\n",
    "# convertimos un int en un float, para ello, lo asignamos a otra variable\n",
    "a= float(x)\n",
    "print(type(a))\n",
    "# convertimos un float a un int\n",
    "b= int(y)\n",
    "print(type(b))\n",
    "# convertimos un entero en un complex\n",
    "c= complex()"
   ]
  },
  {
   "attachments": {},
   "cell_type": "markdown",
   "metadata": {},
   "source": [
    "**No podemos convertir numeros complejos a otro tipo de número**"
   ]
  },
  {
   "attachments": {},
   "cell_type": "markdown",
   "metadata": {},
   "source": [
    "### Numero random\n",
    "- Python no tiene una funcion `random()` para números aleatorios.\n",
    "- Sí tiene un módulo incorporado llamado `random` que se puede utilizar para números aleatorios."
   ]
  },
  {
   "cell_type": "code",
   "execution_count": 26,
   "metadata": {},
   "outputs": [
    {
     "name": "stdout",
     "output_type": "stream",
     "text": [
      "5\n"
     ]
    }
   ],
   "source": [
    "#importamos el módulo random e imprime un número aleatorio entre el 1 al 9\n",
    "import random\n",
    "print(random.randrange(1,10))"
   ]
  }
 ],
 "metadata": {
  "kernelspec": {
   "display_name": "Python 3",
   "language": "python",
   "name": "python3"
  },
  "language_info": {
   "codemirror_mode": {
    "name": "ipython",
    "version": 3
   },
   "file_extension": ".py",
   "mimetype": "text/x-python",
   "name": "python",
   "nbconvert_exporter": "python",
   "pygments_lexer": "ipython3",
   "version": "3.11.2"
  },
  "orig_nbformat": 4
 },
 "nbformat": 4,
 "nbformat_minor": 2
}
