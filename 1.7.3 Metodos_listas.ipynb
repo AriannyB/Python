{
 "cells": [
  {
   "attachments": {},
   "cell_type": "markdown",
   "metadata": {},
   "source": [
    "### Métodos de listas.\n",
    "- `append()`\n",
    "agrega elementos al final de la lista\n",
    "- `clear()`\n",
    "remueve todos los elementos de la lista\n",
    "- `copy()` devuelve una copia de una lista\n",
    "- `count()` devuelve el número de elementos con un valor específico\n",
    "- `extend()` agrega elemenentos de una lista, o algún iterable al final de la lista especificada\n",
    "- `index()` devuelve el índice del primer elemento con el valor especifico.\n",
    "- `insert()` agrega un elemento en la posición especificada.\n",
    "- `pop()` elimina un elemento en la posición especificada\n",
    "- `remove()` elimina un elemento con el valor especifico\n",
    "- `reverse()` invierte el orden de una lista\n",
    "- `sort()` ordena la lista."
   ]
  }
 ],
 "metadata": {
  "kernelspec": {
   "display_name": "Python 3",
   "language": "python",
   "name": "python3"
  },
  "language_info": {
   "codemirror_mode": {
    "name": "ipython",
    "version": 3
   },
   "file_extension": ".py",
   "mimetype": "text/x-python",
   "name": "python",
   "nbconvert_exporter": "python",
   "pygments_lexer": "ipython3",
   "version": "3.11.2"
  },
  "orig_nbformat": 4
 },
 "nbformat": 4,
 "nbformat_minor": 2
}
