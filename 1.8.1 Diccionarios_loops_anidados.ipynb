{
 "cells": [
  {
   "attachments": {},
   "cell_type": "markdown",
   "metadata": {},
   "source": [
    "### Loop en diccionarios.\n",
    "- Podemos recorrer un diccionario utilizando el bucle `for`\n",
    "- Cuando se realiza un bucle en un diccionario, el valor de retorno son las claves del diccionario.\n",
    "- También existen metodos para devolver los valores.\n"
   ]
  },
  {
   "cell_type": "code",
   "execution_count": 1,
   "metadata": {},
   "outputs": [
    {
     "name": "stdout",
     "output_type": "stream",
     "text": [
      "nombre\n",
      "edad\n",
      "color\n",
      "pais\n"
     ]
    }
   ],
   "source": [
    "unDiccionario= {\n",
    "    'nombre': 'Arianny',\n",
    "    'edad' : '31',\n",
    "    'color': 'Azul',\n",
    "    'pais':'Argentina'\n",
    "} \n",
    "\n",
    "for i in unDiccionario:\n",
    "    print(i)"
   ]
  },
  {
   "attachments": {},
   "cell_type": "markdown",
   "metadata": {},
   "source": [
    "Imprime todos los valores del diccionario, uno por uno."
   ]
  },
  {
   "cell_type": "code",
   "execution_count": 2,
   "metadata": {},
   "outputs": [
    {
     "name": "stdout",
     "output_type": "stream",
     "text": [
      "Arianny\n",
      "31\n",
      "Azul\n",
      "Argentina\n"
     ]
    }
   ],
   "source": [
    "unDiccionario= {\n",
    "    'nombre': 'Arianny',\n",
    "    'edad' : '31',\n",
    "    'color': 'Azul',\n",
    "    'pais':'Argentina'\n",
    "} \n",
    "for i in unDiccionario:\n",
    "    print(unDiccionario[i])"
   ]
  },
  {
   "attachments": {},
   "cell_type": "markdown",
   "metadata": {},
   "source": [
    "Podemos utilizar también el método `values()` que devolverá los valores del diccionario."
   ]
  },
  {
   "cell_type": "code",
   "execution_count": 5,
   "metadata": {},
   "outputs": [
    {
     "name": "stdout",
     "output_type": "stream",
     "text": [
      "Arianny\n",
      "31\n",
      "Azul\n",
      "Argentina\n"
     ]
    }
   ],
   "source": [
    "unDiccionario= {\n",
    "    'nombre': 'Arianny',\n",
    "    'edad' : '31',\n",
    "    'color': 'Azul',\n",
    "    'pais':'Argentina'\n",
    "}\n",
    "for i in unDiccionario.values():\n",
    "    print(i)"
   ]
  },
  {
   "attachments": {},
   "cell_type": "markdown",
   "metadata": {},
   "source": [
    "El método `keys()` devolverá las llaves del diccionario."
   ]
  },
  {
   "cell_type": "code",
   "execution_count": 2,
   "metadata": {},
   "outputs": [
    {
     "name": "stdout",
     "output_type": "stream",
     "text": [
      "nombre\n",
      "edad\n",
      "color\n",
      "pais\n"
     ]
    }
   ],
   "source": [
    "unDiccionario= {\n",
    "    'nombre': 'Arianny',\n",
    "    'edad' : '31',\n",
    "    'color': 'Azul',\n",
    "    'pais':'Argentina'\n",
    "}\n",
    "for i in unDiccionario.keys():\n",
    "    print(i)"
   ]
  },
  {
   "attachments": {},
   "cell_type": "markdown",
   "metadata": {},
   "source": [
    "Método `items()` para recorrer en bucle tanto las claves como los valores"
   ]
  },
  {
   "cell_type": "code",
   "execution_count": 9,
   "metadata": {},
   "outputs": [
    {
     "name": "stdout",
     "output_type": "stream",
     "text": [
      "nombre Arianny\n",
      "edad 31\n",
      "color Azul\n",
      "pais Argentina\n"
     ]
    }
   ],
   "source": [
    "unDiccionario= {\n",
    "    'nombre': 'Arianny',\n",
    "    'edad' : '31',\n",
    "    'color': 'Azul',\n",
    "    'pais':'Argentina'\n",
    "}\n",
    "for k,v in unDiccionario.items():\n",
    "    print(k,v)"
   ]
  },
  {
   "attachments": {},
   "cell_type": "markdown",
   "metadata": {},
   "source": [
    "### Copiar diccionarios.\n",
    "No podemos realizar una copia de un diccionario simplemente escribiendo `dict2=dict1`, porque `dict2` sera solo una referencia a `dict1` y los cambios que hagamos en `dict1` automáticamente se harán en `dict2`\n",
    "- Hay formas de hacer una copia.\n",
    "- Método `copy()`"
   ]
  },
  {
   "cell_type": "code",
   "execution_count": 10,
   "metadata": {},
   "outputs": [
    {
     "name": "stdout",
     "output_type": "stream",
     "text": [
      "{'nombre': 'Arianny', 'edad': '31', 'color': 'Azul', 'pais': 'Argentina'}\n"
     ]
    }
   ],
   "source": [
    "unDiccionario= {\n",
    "    'nombre': 'Arianny',\n",
    "    'edad' : '31',\n",
    "    'color': 'Azul',\n",
    "    'pais':'Argentina'\n",
    "}\n",
    "copiaDiccionario= unDiccionario.copy()\n",
    "print(copiaDiccionario)"
   ]
  },
  {
   "attachments": {},
   "cell_type": "markdown",
   "metadata": {},
   "source": [
    "- Otra forma de hacer una copia de un diccionario es usar la función incorporada `dict()`"
   ]
  },
  {
   "cell_type": "code",
   "execution_count": 11,
   "metadata": {},
   "outputs": [
    {
     "name": "stdout",
     "output_type": "stream",
     "text": [
      "{'nombre': 'Arianny', 'edad': '31', 'color': 'Azul', 'pais': 'Argentina'}\n"
     ]
    }
   ],
   "source": [
    "unDiccionario= {\n",
    "    'nombre': 'Arianny',\n",
    "    'edad' : '31',\n",
    "    'color': 'Azul',\n",
    "    'pais':'Argentina'\n",
    "}\n",
    "otroDiccionario= dict(unDiccionario)\n",
    "print(otroDiccionario)"
   ]
  },
  {
   "attachments": {},
   "cell_type": "markdown",
   "metadata": {},
   "source": [
    "### Diccionarios anidados\n",
    "Un diccionario puede contener diccionarios. A esto se le llama diccionarios anidados.\n",
    "- Creamos un diccionarios que contiene tres diccionarios."
   ]
  },
  {
   "cell_type": "code",
   "execution_count": 23,
   "metadata": {},
   "outputs": [
    {
     "name": "stdout",
     "output_type": "stream",
     "text": [
      "{'gato1': {'nombre': 'Karaoto', 'edad': 2, 'color': 'negro'}, 'gato2': {'nombre': 'Pluton', 'edad': 9, 'color': 'gris'}, 'gato3': {'nombre': 'Ciruela', 'edad': 6, 'color': 'negro'}}\n"
     ]
    }
   ],
   "source": [
    "misGatos= {\n",
    "    'gato1':{\n",
    "        'nombre': 'Karaoto',\n",
    "        'edad': 2,\n",
    "        'color': 'negro'\n",
    "        },\n",
    "    'gato2':{\n",
    "        'nombre':'Pluton',\n",
    "        'edad': 9,\n",
    "        'color': 'gris'\n",
    "    },\n",
    "    'gato3':{\n",
    "        'nombre':'Ciruela',\n",
    "        'edad': 6,\n",
    "        'color': 'negro'\n",
    "    }\n",
    "    }\n",
    "print (misGatos)"
   ]
  },
  {
   "attachments": {},
   "cell_type": "markdown",
   "metadata": {},
   "source": [
    "Si deseamos añadir tres diccionarios en un nuevo diccionario:\n",
    "- creamos tres diccionarios y después un diccionario que contenga los otros 3 diccionarios."
   ]
  },
  {
   "cell_type": "code",
   "execution_count": 23,
   "metadata": {},
   "outputs": [
    {
     "name": "stdout",
     "output_type": "stream",
     "text": [
      "{'gato1': {'nombre': 'Karaoto', 'color': 'negro', 'edad': 2}, 'gato2': {'nombre': 'Pluton', 'color': 'gris', 'edad': 9}, 'gato3': {'nombre': 'Ciruela', 'color': 'negro', 'edad': 6}}\n"
     ]
    }
   ],
   "source": [
    "gato1={\n",
    "    'nombre':'Karaoto',\n",
    "    'color':'negro',\n",
    "    'edad': 2\n",
    "}\n",
    "gato2={\n",
    "    'nombre':'Pluton',\n",
    "    'color': 'gris',\n",
    "    'edad':9\n",
    "}\n",
    "\n",
    "gato3={\n",
    "    'nombre': 'Ciruela',\n",
    "    'color':'negro',\n",
    "    'edad':6\n",
    "}\n",
    "\n",
    "misGatos={\n",
    "    'gato1': gato1,\n",
    "    'gato2': gato2,\n",
    "    'gato3': gato3\n",
    "}\n",
    "print(misGatos)\n",
    "\n"
   ]
  },
  {
   "attachments": {},
   "cell_type": "markdown",
   "metadata": {},
   "source": [
    "### Acceder a elementos en diccionarios anidados\n",
    "Para acceder a los elementos de un diccionario anidado se utiliza el nombre de los diccionarios, empezando por el diccionario externo.\n"
   ]
  },
  {
   "cell_type": "code",
   "execution_count": 27,
   "metadata": {},
   "outputs": [
    {
     "name": "stdout",
     "output_type": "stream",
     "text": [
      "negro\n"
     ]
    }
   ],
   "source": [
    "gato1={\n",
    "    'nombre':'Karaoto',\n",
    "    'color':'negro',\n",
    "    'edad': 2\n",
    "}\n",
    "gato2={\n",
    "    'nombre':'Pluton',\n",
    "    'color': 'gris',\n",
    "    'edad':9\n",
    "}\n",
    "\n",
    "gato3={\n",
    "    'nombre': 'Ciruela',\n",
    "    'color':'negro',\n",
    "    'edad':6\n",
    "}\n",
    "\n",
    "misGatos={\n",
    "    'gato1': gato1,\n",
    "    'gato2': gato2,\n",
    "    'gato3': gato3\n",
    "}\n",
    "\n",
    "print(misGatos['gato1']['color'])"
   ]
  }
 ],
 "metadata": {
  "kernelspec": {
   "display_name": "Python 3",
   "language": "python",
   "name": "python3"
  },
  "language_info": {
   "codemirror_mode": {
    "name": "ipython",
    "version": 3
   },
   "file_extension": ".py",
   "mimetype": "text/x-python",
   "name": "python",
   "nbconvert_exporter": "python",
   "pygments_lexer": "ipython3",
   "version": "3.11.2"
  },
  "orig_nbformat": 4
 },
 "nbformat": 4,
 "nbformat_minor": 2
}
