{
 "cells": [
  {
   "attachments": {},
   "cell_type": "markdown",
   "metadata": {},
   "source": [
    "* python es un lenguaje de programación \n",
    "* por un lado tenés funciones y por otro datos\n",
    "* las funciones hacen cosas con los datos\n",
    "* hay muchos tipos de datos\n",
    "* python también tiene objetos y variables que se usan para referenciar datos y funciones \n"
   ]
  },
  {
   "cell_type": "code",
   "execution_count": 21,
   "metadata": {},
   "outputs": [
    {
     "name": "stdout",
     "output_type": "stream",
     "text": [
      "hola\n",
      "4\n",
      "3.3\n",
      "4\n",
      "1\n",
      "2\n",
      "3\n",
      "4\n",
      "5\n",
      "vnzla\n",
      "nombre\n",
      "animal\n",
      "pais\n",
      "edad\n",
      "Ary\n",
      "karaoto\n",
      "vnzla\n",
      "31\n",
      "('nombre', 'Ary')\n",
      "('animal', 'karaoto')\n",
      "('pais', 'vnzla')\n",
      "('edad', 31)\n",
      "animal\n"
     ]
    }
   ],
   "source": [
    "#string\n",
    "string= 'hola'\n",
    "print(string)\n",
    "#entero\n",
    "entero= 4\n",
    "print(entero)\n",
    "#float\n",
    "flotante= 3.3\n",
    "print(flotante)\n",
    "\n",
    "#lista\n",
    "lista= [1,2,3,4,5]\n",
    "print(lista[3])\n",
    "\n",
    "for i in lista:\n",
    "    print(i)\n",
    "\n",
    "#diccionario\n",
    "lista= ['Ary','Karaoto','Vzla','31']\n",
    "diccionario= {'nombre'}\n",
    "\n",
    "print(diccionario['pais'])\n",
    "for i in diccionario:\n",
    "    print(i)\n",
    "for i in diccionario.values():\n",
    "    print(i)\n",
    "for i in diccionario.items():\n",
    "    print(i)\n",
    "    \n",
    "for clave,valor in diccionario.items():\n",
    "    if valor == 'karaoto':\n",
    "        print(clave)\n",
    "\n",
    "\n"
   ]
  },
  {
   "attachments": {},
   "cell_type": "markdown",
   "metadata": {},
   "source": [
    "```\n",
    "== igual\n",
    "!= no igual\n",
    "> mayor\n",
    "< menor\n",
    ">= mayor o igual\n",
    "<= menor o igual\n",
    "```"
   ]
  }
 ],
 "metadata": {
  "kernelspec": {
   "display_name": "Python 3",
   "language": "python",
   "name": "python3"
  },
  "language_info": {
   "codemirror_mode": {
    "name": "ipython",
    "version": 3
   },
   "file_extension": ".py",
   "mimetype": "text/x-python",
   "name": "python",
   "nbconvert_exporter": "python",
   "pygments_lexer": "ipython3",
   "version": "3.11.2"
  },
  "orig_nbformat": 4
 },
 "nbformat": 4,
 "nbformat_minor": 2
}
