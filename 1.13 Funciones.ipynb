{
 "cells": [
  {
   "attachments": {},
   "cell_type": "markdown",
   "metadata": {},
   "source": [
    "### Funciones\n",
    "Una función es un bloque de código que se ejecuta sólo cuando se le llama.\n",
    "A una función se le pueden pasar datos, denominados parámetros.\n",
    "Una función puede devolver datos como resultado."
   ]
  },
  {
   "attachments": {},
   "cell_type": "markdown",
   "metadata": {},
   "source": [
    "Para definir una función, usamos la palabra clave `def`"
   ]
  },
  {
   "cell_type": "code",
   "execution_count": 3,
   "metadata": {},
   "outputs": [],
   "source": [
    "def miFuncion():\n",
    "    print('hola')"
   ]
  },
  {
   "attachments": {},
   "cell_type": "markdown",
   "metadata": {},
   "source": [
    "Para llamar a una función, usamos el nombre de la función seguido de los paréntesis `()`"
   ]
  },
  {
   "cell_type": "code",
   "execution_count": 4,
   "metadata": {},
   "outputs": [
    {
     "name": "stdout",
     "output_type": "stream",
     "text": [
      "hola\n"
     ]
    }
   ],
   "source": [
    "def miFuncion():\n",
    "    print('hola')\n",
    "miFuncion()"
   ]
  },
  {
   "attachments": {},
   "cell_type": "markdown",
   "metadata": {},
   "source": [
    "### Argumentos\n",
    "- Se puede introducir información en las funciones como argumentos.\n",
    "- Los argumentos se especifican después del nombre de la función, dentro de los paréntesis.\n",
    "- Podemos añadir los argumentos que deseemos siempre y cuando los separemos por comas."
   ]
  },
  {
   "cell_type": "code",
   "execution_count": 7,
   "metadata": {},
   "outputs": [
    {
     "name": "stdout",
     "output_type": "stream",
     "text": [
      "Arianny es mi nombre\n",
      "Karaoto es mi nombre\n"
     ]
    }
   ],
   "source": [
    "def una_funcion(pnombre):\n",
    "    print(pnombre + ' es mi nombre')\n",
    "    \n",
    "una_funcion('Arianny')\n",
    "una_funcion('Karaoto')"
   ]
  },
  {
   "attachments": {},
   "cell_type": "markdown",
   "metadata": {},
   "source": [
    "- Los argumentos a menudo se abrevian args.\n",
    "- Los términos parámetro y argumento pueden utilizarse para lo mismo: información que le pasamos a una función.\n",
    "- Un parámetro es la variable que aparece entre paréntesis en la definición de la función.\n",
    "<!-- - Un argumento es el valor que se le envpia a la función cuando se llama. -->"
   ]
  },
  {
   "cell_type": "code",
   "execution_count": 8,
   "metadata": {},
   "outputs": [
    {
     "name": "stdout",
     "output_type": "stream",
     "text": [
      "Arianny Briceño\n"
     ]
    }
   ],
   "source": [
    "def persona(nombre,apellido):\n",
    "    print(nombre +' '+ apellido)\n",
    "persona('Arianny','Briceño')"
   ]
  },
  {
   "attachments": {},
   "cell_type": "markdown",
   "metadata": {},
   "source": [
    "- Esta función espera dos argumentos. Si le damos 1 o 3 argumentos, nos dará un error."
   ]
  },
  {
   "cell_type": "code",
   "execution_count": 9,
   "metadata": {},
   "outputs": [
    {
     "ename": "TypeError",
     "evalue": "persona() takes 2 positional arguments but 3 were given",
     "output_type": "error",
     "traceback": [
      "\u001b[1;31m---------------------------------------------------------------------------\u001b[0m",
      "\u001b[1;31mTypeError\u001b[0m                                 Traceback (most recent call last)",
      "Cell \u001b[1;32mIn[9], line 4\u001b[0m\n\u001b[0;32m      1\u001b[0m \u001b[39mdef\u001b[39;00m \u001b[39mpersona\u001b[39m(nombre,apellido):\n\u001b[0;32m      2\u001b[0m     \u001b[39mprint\u001b[39m(nombre\u001b[39m+\u001b[39m \u001b[39m'\u001b[39m\u001b[39m \u001b[39m\u001b[39m'\u001b[39m \u001b[39m+\u001b[39m apellido)\n\u001b[1;32m----> 4\u001b[0m persona(\u001b[39m'\u001b[39;49m\u001b[39mAry\u001b[39;49m\u001b[39m'\u001b[39;49m,\u001b[39m'\u001b[39;49m\u001b[39mBriceño\u001b[39;49m\u001b[39m'\u001b[39;49m,\u001b[39m'\u001b[39;49m\u001b[39m31\u001b[39;49m\u001b[39m'\u001b[39;49m)\n",
      "\u001b[1;31mTypeError\u001b[0m: persona() takes 2 positional arguments but 3 were given"
     ]
    }
   ],
   "source": [
    "def persona(nombre,apellido):\n",
    "    print(nombre+ ' ' + apellido)\n",
    "    \n",
    "persona('Ary','Briceño','31') #esto dará error."
   ]
  },
  {
   "attachments": {},
   "cell_type": "markdown",
   "metadata": {},
   "source": [
    "### Argumentos arbitrarios, *args\n",
    "Sino sabemos cuántos argumentos le vamos a pasar a nuestra función, añadimos un `*` antes del nombre del parámetro en la definición de la función. \n",
    "Así, la función recibirá una tupla de argumentos y podrá acceder a los elementos."
   ]
  },
  {
   "cell_type": "code",
   "execution_count": 9,
   "metadata": {},
   "outputs": [
    {
     "name": "stdout",
     "output_type": "stream",
     "text": [
      "mi gato más pequeño es Ciruela\n",
      "<class 'function'>\n"
     ]
    }
   ],
   "source": [
    "def miFuncion(*gatos):\n",
    "    print('mi gato más pequeño es ' + gatos[2])\n",
    "miFuncion('Karaoto','Pluton','Ciruela')\n"
   ]
  },
  {
   "attachments": {},
   "cell_type": "markdown",
   "metadata": {},
   "source": [
    "- También podemos enviar argumentos con la sintaxis clave = valor, de esta forma, el orden de los argumentos no importa."
   ]
  },
  {
   "cell_type": "code",
   "execution_count": 13,
   "metadata": {},
   "outputs": [
    {
     "name": "stdout",
     "output_type": "stream",
     "text": [
      "mi gato mas pequeño es Karato\n"
     ]
    }
   ],
   "source": [
    "def miFuncion(gato1,gato2,gato3):\n",
    "    print('mi gato mas pequeño es ' + gato2)\n",
    "    \n",
    "miFuncion(gato1='Ciruela',gato2='Karato',gato3='Pluton')"
   ]
  },
  {
   "attachments": {},
   "cell_type": "markdown",
   "metadata": {},
   "source": [
    "**la frase keyword arguments se abrevia \"kwards\" en las documentaciones de Python**"
   ]
  },
  {
   "attachments": {},
   "cell_type": "markdown",
   "metadata": {},
   "source": [
    "### Argumentos de palabra clave arbitrarios, **kwards\n",
    "Sino sabemos cuántos argumentos de palabra clave vamos a pasar a nuestra función, añadimos dos `**` antes del nombre del parámetro en la definición de la función. La función recibirá un diccionario de argumentos y podrá acceder a los elementos."
   ]
  },
  {
   "cell_type": "code",
   "execution_count": 15,
   "metadata": {},
   "outputs": [
    {
     "name": "stdout",
     "output_type": "stream",
     "text": [
      "el nombre de mi gato es Karaoto\n"
     ]
    }
   ],
   "source": [
    "def miFuncion(**gatos):\n",
    "    print('el nombre de mi gato es ' + gatos['nombre'])\n",
    "    \n",
    "miFuncion(color='negro',nombre='Karaoto')"
   ]
  },
  {
   "attachments": {},
   "cell_type": "markdown",
   "metadata": {},
   "source": [
    "Si llamamos a la función sin argumentos, utiliza el valor por defecto."
   ]
  },
  {
   "cell_type": "code",
   "execution_count": 20,
   "metadata": {},
   "outputs": [
    {
     "name": "stdout",
     "output_type": "stream",
     "text": [
      "yo soy de Arg\n",
      "yo soy de Venezuela\n"
     ]
    }
   ],
   "source": [
    "def miFuncion(pais='Arg'):\n",
    "    print('yo soy de ' + pais)\n",
    "    \n",
    "miFuncion()\n",
    "miFuncion('Venezuela')"
   ]
  },
  {
   "attachments": {},
   "cell_type": "markdown",
   "metadata": {},
   "source": [
    "### Pasar una lista como argumento.\n",
    "Podemos pasar cualquier tipo de dato como argumento a una funcion y será tratado como el mismo tipo de dato dentgro de la funcion. \n",
    "- Por ejemplo: si enviamos una lista como argumentos, seguirá siendo una lista cuando llegue a la funcion."
   ]
  },
  {
   "cell_type": "code",
   "execution_count": 31,
   "metadata": {},
   "outputs": [
    {
     "name": "stdout",
     "output_type": "stream",
     "text": [
      "manzana\n",
      "uva\n",
      "limon\n"
     ]
    }
   ],
   "source": [
    "def miFuncion(comida):\n",
    "    for i in comida:\n",
    "        print(i)\n",
    "        \n",
    "        \n",
    "frutas=['manzana','uva','limon']\n",
    "miFuncion(frutas)"
   ]
  },
  {
   "attachments": {},
   "cell_type": "markdown",
   "metadata": {},
   "source": [
    "### Valores de retorno.\n",
    "Para que una funcion devuelva un valor, utilizamos  `return`"
   ]
  },
  {
   "cell_type": "code",
   "execution_count": 32,
   "metadata": {},
   "outputs": [
    {
     "name": "stdout",
     "output_type": "stream",
     "text": [
      "15\n"
     ]
    }
   ],
   "source": [
    "def miFuncion(x):\n",
    "    return 5 * x\n",
    "\n",
    "print(miFuncion(3))"
   ]
  },
  {
   "attachments": {},
   "cell_type": "markdown",
   "metadata": {},
   "source": [
    "La definiciones de una funcion no pueden estar vacías. Si por alguna razón tenemos una definición sin contenido, con `pass` podemos evitar errores."
   ]
  },
  {
   "cell_type": "code",
   "execution_count": 36,
   "metadata": {},
   "outputs": [],
   "source": [
    "def miFuncion():\n",
    "    pass"
   ]
  },
  {
   "attachments": {},
   "cell_type": "markdown",
   "metadata": {},
   "source": [
    "### Recursion\n",
    "La recursión de funciones es cuando una función definida puede llamarse a sí misma. Con esto podemos hacer un bucle a través de los datos para llegar a un resultado. Hay que tener cuidado con la recursividad porque podemos hacer alguna que nunca termine o una que utilice cantidades excesivas de memoria o potencia de procesador. La recursividad puede ser un método de programación muy eficiente.\n",
    "- En este ejemplo, `tri_recursion` es una funcion que hemos definido para que se llame a si misma. Utilizamos la variabe `k` como dato, que decrementa `(-1)` cada vez que recurrimos. La recursión termina cuando la condición no es mayor a `0` (es decir, cuando es 0)"
   ]
  },
  {
   "cell_type": "code",
   "execution_count": 44,
   "metadata": {},
   "outputs": [
    {
     "name": "stdout",
     "output_type": "stream",
     "text": [
      "\n",
      "\n",
      "Recursion resultados ejemplos\n",
      "1\n",
      "3\n",
      "6\n",
      "10\n",
      "15\n",
      "21\n"
     ]
    },
    {
     "data": {
      "text/plain": [
       "21"
      ]
     },
     "execution_count": 44,
     "metadata": {},
     "output_type": "execute_result"
    }
   ],
   "source": [
    "def tri_recursion(k):\n",
    "    if (k > 0):\n",
    "        resultado= k + tri_recursion (k - 1)\n",
    "        print(resultado)\n",
    "    else:\n",
    "        resultado= 0\n",
    "    return resultado\n",
    "print('\\n\\nRecursion resultados ejemplos')\n",
    "tri_recursion(6)"
   ]
  }
 ],
 "metadata": {
  "kernelspec": {
   "display_name": "Python 3",
   "language": "python",
   "name": "python3"
  },
  "language_info": {
   "codemirror_mode": {
    "name": "ipython",
    "version": 3
   },
   "file_extension": ".py",
   "mimetype": "text/x-python",
   "name": "python",
   "nbconvert_exporter": "python",
   "pygments_lexer": "ipython3",
   "version": "3.11.2"
  },
  "orig_nbformat": 4
 },
 "nbformat": 4,
 "nbformat_minor": 2
}
