{
 "cells": [
  {
   "attachments": {},
   "cell_type": "markdown",
   "metadata": {},
   "source": [
    "#### Booleanos\n",
    "En programación a menudo necesitamos saber si una expresión es `True` o `False`"
   ]
  },
  {
   "cell_type": "code",
   "execution_count": 1,
   "metadata": {},
   "outputs": [
    {
     "name": "stdout",
     "output_type": "stream",
     "text": [
      "True\n",
      "False\n",
      "False\n",
      "False\n"
     ]
    }
   ],
   "source": [
    "print(10>9) \n",
    "print(9>10)\n",
    "print(10==9) \n",
    "print(10<9)\n"
   ]
  },
  {
   "attachments": {},
   "cell_type": "markdown",
   "metadata": {},
   "source": [
    "- Cuando ejecutamos una condición con una sentencia `if`, Python devuele `True` o `False`"
   ]
  },
  {
   "cell_type": "code",
   "execution_count": 2,
   "metadata": {},
   "outputs": [
    {
     "name": "stdout",
     "output_type": "stream",
     "text": [
      "b es mayor a x\n"
     ]
    }
   ],
   "source": [
    "b= 200\n",
    "x= 33\n",
    "if b>x:\n",
    "    print('b es mayor a x')\n",
    "else:\n",
    "    print('b no es mayor a x')"
   ]
  },
  {
   "attachments": {},
   "cell_type": "markdown",
   "metadata": {},
   "source": [
    "La función `bool()` evalúa cualquier valor y devuelve si es `True` o `False`\n"
   ]
  },
  {
   "cell_type": "code",
   "execution_count": 3,
   "metadata": {},
   "outputs": [
    {
     "name": "stdout",
     "output_type": "stream",
     "text": [
      "True\n",
      "True\n"
     ]
    }
   ],
   "source": [
    "print(bool('hola'))\n",
    "print(bool(2))"
   ]
  },
  {
   "attachments": {},
   "cell_type": "markdown",
   "metadata": {},
   "source": [
    "- Evalúa  variables"
   ]
  },
  {
   "cell_type": "code",
   "execution_count": 4,
   "metadata": {},
   "outputs": [
    {
     "name": "stdout",
     "output_type": "stream",
     "text": [
      "True\n",
      "True\n"
     ]
    }
   ],
   "source": [
    "x= 'hola'\n",
    "y= 33\n",
    "print(bool(x))\n",
    "print(bool(y))"
   ]
  },
  {
   "attachments": {},
   "cell_type": "markdown",
   "metadata": {},
   "source": [
    "- Devuelve valor booleano de un tipo de dato\n",
    "- Casi cualquier valor se evalúa como `True` si tiene algún tipo de contenido\n",
    "- Cualquier cadena es `True`, excepto las cadenas vacías, las vacías, son `False`\n",
    "- Cualquier numero es `True`, excepto 0, los 0 son `False`\n",
    "- Cualquier lista, tupla, conjunto y diccionario es `True`, excepto los vacíos que son `False`"
   ]
  },
  {
   "cell_type": "code",
   "execution_count": 7,
   "metadata": {},
   "outputs": [
    {
     "name": "stdout",
     "output_type": "stream",
     "text": [
      "True\n",
      "True\n",
      "False\n",
      "False\n",
      "True\n",
      "False\n"
     ]
    }
   ],
   "source": [
    "print(bool('ola'))\n",
    "print(bool(15))\n",
    "lista= []\n",
    "diccionario= {}\n",
    "print(bool(lista))\n",
    "print(bool(diccionario))\n",
    "print(bool(True))\n",
    "print(bool(None))"
   ]
  },
  {
   "attachments": {},
   "cell_type": "markdown",
   "metadata": {},
   "source": [
    "- Se pueden crear funciones que devuelvan un valor booleano"
   ]
  },
  {
   "cell_type": "code",
   "execution_count": 44,
   "metadata": {},
   "outputs": [
    {
     "name": "stdout",
     "output_type": "stream",
     "text": [
      "True\n"
     ]
    }
   ],
   "source": [
    "def miFuncion():\n",
    "  return True\n",
    "\n",
    "print(miFuncion())"
   ]
  },
  {
   "attachments": {},
   "cell_type": "markdown",
   "metadata": {},
   "source": [
    "- Imprime 'sí' si la funcion devuelve `True`, sino, imprime 'no'"
   ]
  },
  {
   "cell_type": "code",
   "execution_count": 45,
   "metadata": {},
   "outputs": [
    {
     "name": "stdout",
     "output_type": "stream",
     "text": [
      "Sí\n"
     ]
    }
   ],
   "source": [
    "def otraFuncion():\n",
    "    return True\n",
    "\n",
    "if otraFuncion():\n",
    "    print('Sí')\n",
    "else:\n",
    "    print('No')"
   ]
  },
  {
   "attachments": {},
   "cell_type": "markdown",
   "metadata": {},
   "source": [
    "Hay varias funciones incorporadas que devuelven valores booleano\n",
    "- `isistance()` se puede utilizar para evaluar si un objeto es un determinado tipo de dato."
   ]
  },
  {
   "cell_type": "code",
   "execution_count": 9,
   "metadata": {},
   "outputs": [
    {
     "name": "stdout",
     "output_type": "stream",
     "text": [
      "False\n"
     ]
    },
    {
     "data": {
      "text/plain": [
       "True"
      ]
     },
     "execution_count": 9,
     "metadata": {},
     "output_type": "execute_result"
    }
   ],
   "source": [
    "x= 300\n",
    "print(isinstance(x,int)) \n",
    "\n",
    "isinstance('hola soy una string',str) #todos los tipos de datos, son clases en Python\n"
   ]
  }
 ],
 "metadata": {
  "kernelspec": {
   "display_name": "Python 3",
   "language": "python",
   "name": "python3"
  },
  "language_info": {
   "codemirror_mode": {
    "name": "ipython",
    "version": 3
   },
   "file_extension": ".py",
   "mimetype": "text/x-python",
   "name": "python",
   "nbconvert_exporter": "python",
   "pygments_lexer": "ipython3",
   "version": "3.11.2"
  },
  "orig_nbformat": 4
 },
 "nbformat": 4,
 "nbformat_minor": 2
}
