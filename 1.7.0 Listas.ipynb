{
 "cells": [
  {
   "attachments": {},
   "cell_type": "markdown",
   "metadata": {},
   "source": [
    "### Listas\n",
    "Las listas se utilizan para almacenar múltiples elementos en una sola variable\n",
    "- Las listas son uno de los 4 tipos de datos utilizados para almacenar colecciones de datos. Los otros 3 son: \n",
    "- **Tuplas**\n",
    "- **Sets**\n",
    "- **Diccionarios**\n",
    "- Los elementos de la lista están ordenados, son modificables y permiten valores duplicados.\n",
    "- Los elementos de la lista están indexados, el primer elemento tiene índice [0], el segundo elemento tiene índice [1]\n",
    "- Las listas están ordenadas, es decir, tienen un orden definido y no cambiará\n",
    "- Si se añaden nuevos elementos a una lista, estos se colocarán al final\n",
    "- hay algunos métodos que sí cambian el orden pero por lo general no se usa\n"
   ]
  },
  {
   "cell_type": "code",
   "execution_count": 1,
   "metadata": {},
   "outputs": [
    {
     "name": "stdout",
     "output_type": "stream",
     "text": [
      "['vasos', 'platos', 'cubiertos']\n"
     ]
    }
   ],
   "source": [
    "miLista=['vasos','platos','cubiertos']\n",
    "\n",
    "print(miLista)"
   ]
  },
  {
   "attachments": {},
   "cell_type": "markdown",
   "metadata": {},
   "source": [
    "- `len()` imprime la cantidad de elementos una lista."
   ]
  },
  {
   "cell_type": "code",
   "execution_count": 2,
   "metadata": {},
   "outputs": [
    {
     "name": "stdout",
     "output_type": "stream",
     "text": [
      "3\n"
     ]
    }
   ],
   "source": [
    "miLista=['vasos','platos','cubiertos']\n",
    "print(len(miLista))"
   ]
  },
  {
   "attachments": {},
   "cell_type": "markdown",
   "metadata": {},
   "source": [
    "- Los elementos de una lista pueden ser de cualquier tipo de dato, como strings, int, boolean etc."
   ]
  },
  {
   "cell_type": "code",
   "execution_count": 4,
   "metadata": {},
   "outputs": [
    {
     "name": "stdout",
     "output_type": "stream",
     "text": [
      "['vasos', 'platos', 'cubiertos']\n",
      "[1, 2, 3, 4]\n",
      "[True, False, True]\n"
     ]
    }
   ],
   "source": [
    "lista1= ['vasos','platos','cubiertos']\n",
    "lista2= [1,2,3,4]\n",
    "lista3=[True,False,True]\n",
    "print(lista1)\n",
    "print(lista2)\n",
    "print(lista3)"
   ]
  },
  {
   "attachments": {},
   "cell_type": "markdown",
   "metadata": {},
   "source": [
    "- Una lista con strings, int y booleanos"
   ]
  },
  {
   "cell_type": "code",
   "execution_count": 5,
   "metadata": {},
   "outputs": [
    {
     "name": "stdout",
     "output_type": "stream",
     "text": [
      "['hola', 2, True]\n"
     ]
    }
   ],
   "source": [
    "lista1= ['hola',2,True]\n",
    "print(lista1)"
   ]
  },
  {
   "attachments": {},
   "cell_type": "markdown",
   "metadata": {},
   "source": [
    "- Desde la perspectiva de Python, las listas están definidas como objetos con el tipo de dato `list`"
   ]
  },
  {
   "cell_type": "code",
   "execution_count": 6,
   "metadata": {},
   "outputs": [
    {
     "name": "stdout",
     "output_type": "stream",
     "text": [
      "<class 'list'>\n"
     ]
    }
   ],
   "source": [
    "lista= ['hola',2,True]\n",
    "print(type(lista1))"
   ]
  },
  {
   "attachments": {},
   "cell_type": "markdown",
   "metadata": {},
   "source": [
    "- Podemos utilizar el constructor `list()` para crear una nueva lista"
   ]
  },
  {
   "cell_type": "code",
   "execution_count": 11,
   "metadata": {},
   "outputs": [
    {
     "name": "stdout",
     "output_type": "stream",
     "text": [
      "['uno', 'dos', 'tres']\n"
     ]
    }
   ],
   "source": [
    "miLista= list(('uno','dos','tres'))\n",
    "\n",
    "print(miLista) #se crea (instancia) una lista a partir de una tupla, en este caso."
   ]
  },
  {
   "attachments": {},
   "cell_type": "markdown",
   "metadata": {},
   "source": [
    "### Colecciones en Python (Arrays)\n",
    "- Existen cuatro tipo de datos de coleccion:\n",
    "- **Listas**\n",
    "- **Tuplas** colección ordenada e inmutable. Permite elementos duplicados.\n",
    "- **Sets/conjuntos** no ordenada, no modificable y no indexada. No admite elementos duplicados.\n",
    "- **Diccionarios** Es una colección ordenada y modificable. No admite elementos duplicados."
   ]
  },
  {
   "attachments": {},
   "cell_type": "markdown",
   "metadata": {},
   "source": [
    "### Acceso a items\n",
    "Podemos acceder a los elementos de una lista por el índice del elemento."
   ]
  },
  {
   "cell_type": "code",
   "execution_count": 49,
   "metadata": {},
   "outputs": [
    {
     "name": "stdout",
     "output_type": "stream",
     "text": [
      "can\n",
      "['felino', 'can', 'ave']\n",
      "['felino', 'can', 'ave', 'pez', 'reptil', 'vacuno', 'simio']\n",
      "['felino', 'pez', 'simio']\n"
     ]
    }
   ],
   "source": [
    "miLista=['felino','can','ave','pez','reptil','vacuno','simio']\n",
    "print(miLista[1])       # El primer elemento es el 0\n",
    "print(miLista[0:3])     # El inicio es inclusivo, el final exclusivo\n",
    "print(miLista[0:999])   # El final puede pasarse (no hay índices hasta el 999 pero no importa)\n",
    "print(miLista[0:7:3])   # El último slice indica step"
   ]
  },
  {
   "attachments": {},
   "cell_type": "markdown",
   "metadata": {},
   "source": [
    "### Indexación negativa\n",
    " Significa empezar por el final, -1 se refiere al último elemento, -2 penultimo, etc."
   ]
  },
  {
   "cell_type": "code",
   "execution_count": 13,
   "metadata": {},
   "outputs": [
    {
     "name": "stdout",
     "output_type": "stream",
     "text": [
      "pera\n"
     ]
    }
   ],
   "source": [
    "miLista=['manzana','pera','cereza']\n",
    "print(miLista[-2])"
   ]
  },
  {
   "attachments": {},
   "cell_type": "markdown",
   "metadata": {},
   "source": [
    "### Rango de índices\n",
    "Podemos especificar un rango de índices especificando donde empieza y donde termina el rango.\n",
    "- Al especificarlo, el valor de retorno será una lista con los elementos especificados."
   ]
  },
  {
   "cell_type": "code",
   "execution_count": 3,
   "metadata": {},
   "outputs": [
    {
     "name": "stdout",
     "output_type": "stream",
     "text": [
      "['ciruela', 'mango', 'kiwi']\n",
      "['cherry', 'orange', 'kiwi']\n"
     ]
    }
   ],
   "source": [
    "miLista= ['manzana','pera','ciruela','mango','kiwi','melon']\n",
    "print(miLista[2:5]) # El inicio es inclusivo, el final exclusivo\n",
    "\n",
    "fruits= [\"apple\", \"banana\", \"cherry\", \"orange\", \"kiwi\", \"melon\", \"mango\"]\n",
    "print(fruits[2:5])"
   ]
  },
  {
   "attachments": {},
   "cell_type": "markdown",
   "metadata": {},
   "source": [
    "- Al omitir el valor de inicio, el rango comenzará en el primer elemento:"
   ]
  },
  {
   "cell_type": "code",
   "execution_count": 1,
   "metadata": {},
   "outputs": [
    {
     "name": "stdout",
     "output_type": "stream",
     "text": [
      "['manzana', 'pera', 'mango']\n"
     ]
    }
   ],
   "source": [
    "miLista= ['manzana','pera','mango','piña','melon','kiwi']\n",
    "print(miLista[:3]) #el final es exclusivo, es decir, el elemento en el índice '3' no está incluído."
   ]
  },
  {
   "attachments": {},
   "cell_type": "markdown",
   "metadata": {},
   "source": [
    "- Al omitir el valor final, el rango llegará hasta el final de la lista"
   ]
  },
  {
   "cell_type": "code",
   "execution_count": 2,
   "metadata": {},
   "outputs": [
    {
     "name": "stdout",
     "output_type": "stream",
     "text": [
      "['piña', 'melon', 'kiwi']\n"
     ]
    }
   ],
   "source": [
    "miLista= ['manzana','pera','mango','piña','melon','kiwi']\n",
    "print(miLista[3:]) #el inicio es inclusivo."
   ]
  },
  {
   "attachments": {},
   "cell_type": "markdown",
   "metadata": {},
   "source": [
    "### Índices de rangos negativos\n",
    "- Si queremos iniciar una búsqueda desde el final de la lista:"
   ]
  },
  {
   "cell_type": "code",
   "execution_count": 1,
   "metadata": {},
   "outputs": [
    {
     "name": "stdout",
     "output_type": "stream",
     "text": [
      "['kiwi', 'melon', 'banana']\n"
     ]
    }
   ],
   "source": [
    "miLista= ['manzana','pera','mango','piña','kiwi','melon','banana','uvas']\n",
    "print(miLista[-4:-1]) #la indexación negativa significa empezar por el final de la lista\n",
    "                      #el último elemento de la lista es el índice -1\n",
    "                      #inicio inclusivo, final exclusivo"
   ]
  },
  {
   "attachments": {},
   "cell_type": "markdown",
   "metadata": {},
   "source": [
    "`in` evalúa si un item está en la lista"
   ]
  },
  {
   "cell_type": "code",
   "execution_count": 18,
   "metadata": {},
   "outputs": [
    {
     "name": "stdout",
     "output_type": "stream",
     "text": [
      "sí, melon está en la lista\n"
     ]
    }
   ],
   "source": [
    "miLista= ['manzana','pera','mango','piña','mkiwi','melon','banana','uvas']\n",
    "if 'melon' in miLista:\n",
    "    print('sí, melon está en la lista')"
   ]
  },
  {
   "attachments": {},
   "cell_type": "markdown",
   "metadata": {},
   "source": [
    "- Para cambiar el valor de un elemento en una lista, lo hacemos con el número de índice del elemento:"
   ]
  },
  {
   "cell_type": "code",
   "execution_count": 19,
   "metadata": {},
   "outputs": [
    {
     "name": "stdout",
     "output_type": "stream",
     "text": [
      "['manzana', 'pera', 'granada', 'piña', 'mkiwi', 'melon', 'banana', 'uvas']\n"
     ]
    }
   ],
   "source": [
    "miLista= ['manzana','pera','mango','piña','mkiwi','melon','banana','uvas']\n",
    "miLista[2]= 'granada'\n",
    "print(miLista)"
   ]
  },
  {
   "attachments": {},
   "cell_type": "markdown",
   "metadata": {},
   "source": [
    "### Cambiar rangos de valores en los elementos\n",
    "Primero se define una lista con los nuevos valores y referenciamos los rangos de índices donde queremos\n",
    "insertar los nuevos valores\n"
   ]
  },
  {
   "cell_type": "code",
   "execution_count": 20,
   "metadata": {},
   "outputs": [
    {
     "name": "stdout",
     "output_type": "stream",
     "text": [
      "['manzana', 'pera', 'Papaya', 'limon', 'melon', 'banana', 'uvas']\n"
     ]
    }
   ],
   "source": [
    "miLista= ['manzana','pera','mango','piña','kiwi','melon','banana','uvas']\n",
    "miLista[2:5]= ['Papaya','limon']\n",
    "print(miLista)"
   ]
  },
  {
   "attachments": {},
   "cell_type": "markdown",
   "metadata": {},
   "source": [
    "Si insertamos más de un elemento de los que sustitiye, los nuevos se insertarán donde hayamos especificado y los\n",
    "restantes se desplazarán."
   ]
  },
  {
   "cell_type": "code",
   "execution_count": 27,
   "metadata": {},
   "outputs": [
    {
     "name": "stdout",
     "output_type": "stream",
     "text": [
      "['manzana', 'fruta1', 'fruta2', 'uva']\n"
     ]
    }
   ],
   "source": [
    "miLista= ['manzana','pera','uva']\n",
    "miLista[1:2]= ['fruta1','fruta2'] #cambia el segundo valor sustituyendolo por dos nuevos valores\n",
    "print(miLista)\n",
    "#la longitud de la lista cambiará cuando el número de elementos insertados no coincida con los elementos sustituidos."
   ]
  },
  {
   "attachments": {},
   "cell_type": "markdown",
   "metadata": {},
   "source": [
    "### Insertar elementos\n",
    "Para insertar elementos nuevos en una lista sin remplazar alguno de los existentes, podemos usar el método\n",
    "**insert()**"
   ]
  },
  {
   "cell_type": "code",
   "execution_count": 29,
   "metadata": {},
   "outputs": [
    {
     "name": "stdout",
     "output_type": "stream",
     "text": [
      "['manzana', 'kiwi', 'melon', 'limon', 'uva']\n"
     ]
    }
   ],
   "source": [
    "#insertar 'melon' como tercer elemento:\n",
    "miLista= ['manzana','kiwi','limon','uva']\n",
    "miLista.insert(2,'melon')\n",
    "print(miLista)"
   ]
  },
  {
   "attachments": {},
   "cell_type": "markdown",
   "metadata": {},
   "source": [
    "### Agregar items\n",
    "`append()` para agregar un elemento al final de la lista"
   ]
  },
  {
   "cell_type": "code",
   "execution_count": 31,
   "metadata": {},
   "outputs": [
    {
     "name": "stdout",
     "output_type": "stream",
     "text": [
      "['manzana', 'kiwi', 'limon', 'uva', 'naranja']\n"
     ]
    }
   ],
   "source": [
    "miLista= ['manzana','kiwi','limon','uva']\n",
    "miLista.append('naranja')\n",
    "print(miLista)"
   ]
  },
  {
   "attachments": {},
   "cell_type": "markdown",
   "metadata": {},
   "source": [
    " `insert()` para insertar un elemento en un índice específico"
   ]
  },
  {
   "cell_type": "code",
   "execution_count": 32,
   "metadata": {},
   "outputs": [
    {
     "name": "stdout",
     "output_type": "stream",
     "text": [
      "['manzana', 'kiwi', 'naranja', 'limon', 'uva']\n"
     ]
    }
   ],
   "source": [
    "miLista= ['manzana','kiwi','limon','uva']\n",
    "miLista.insert(2,'naranja')\n",
    "print(miLista)"
   ]
  },
  {
   "attachments": {},
   "cell_type": "markdown",
   "metadata": {},
   "source": [
    " `extend()` para extender los elementos de una lista desde otra lista"
   ]
  },
  {
   "cell_type": "code",
   "execution_count": 33,
   "metadata": {},
   "outputs": [
    {
     "name": "stdout",
     "output_type": "stream",
     "text": [
      "['manzana', 'kiwi', 'limon', 'uva', 'naranja', 'pera', 'papaya']\n"
     ]
    }
   ],
   "source": [
    "lista1= ['manzana','kiwi','limon','uva']\n",
    "lista2= ['naranja','pera','papaya']\n",
    "lista1.extend(lista2)\n",
    "print(lista1)"
   ]
  },
  {
   "attachments": {},
   "cell_type": "markdown",
   "metadata": {},
   "source": [
    "- el método `extend()` puede añadir cualquier objeto iterable (tuplas,sets,diccionarios,etc.)"
   ]
  },
  {
   "cell_type": "code",
   "execution_count": 34,
   "metadata": {},
   "outputs": [
    {
     "name": "stdout",
     "output_type": "stream",
     "text": [
      "['manzana', 'kiwi', 'limon', 'uva', 'naranja', 'pera', 'papaya']\n"
     ]
    }
   ],
   "source": [
    "lista1= ['manzana','kiwi','limon','uva']\n",
    "tupla1= ('naranja','pera','papaya')\n",
    "lista1.extend(tupla1)\n",
    "print(lista1)"
   ]
  },
  {
   "attachments": {},
   "cell_type": "markdown",
   "metadata": {},
   "source": [
    "`remove()` para remover un elemento espécifico"
   ]
  },
  {
   "cell_type": "code",
   "execution_count": 35,
   "metadata": {},
   "outputs": [
    {
     "name": "stdout",
     "output_type": "stream",
     "text": [
      "['manzana', 'limon', 'uva']\n"
     ]
    }
   ],
   "source": [
    "lista1= ['manzana','kiwi','limon','uva']\n",
    "lista1.remove('kiwi')\n",
    "print(lista1)"
   ]
  },
  {
   "attachments": {},
   "cell_type": "markdown",
   "metadata": {},
   "source": [
    "`pop()` para remover un índice específico "
   ]
  },
  {
   "cell_type": "code",
   "execution_count": 36,
   "metadata": {},
   "outputs": [
    {
     "name": "stdout",
     "output_type": "stream",
     "text": [
      "['manzana', 'kiwi', 'uva']\n"
     ]
    }
   ],
   "source": [
    "lista1= ['manzana','kiwi','limon','uva']\n",
    "lista1.pop(2)\n",
    "print(lista1)"
   ]
  },
  {
   "attachments": {},
   "cell_type": "markdown",
   "metadata": {},
   "source": [
    "- Para remover el último item:"
   ]
  },
  {
   "cell_type": "code",
   "execution_count": 38,
   "metadata": {},
   "outputs": [
    {
     "name": "stdout",
     "output_type": "stream",
     "text": [
      "['manzana', 'kiwi', 'limon']\n"
     ]
    }
   ],
   "source": [
    "lista1= ['manzana','kiwi','limon','uva']\n",
    "lista1.pop() #acá no índicamos el índice\n",
    "print(lista1)"
   ]
  },
  {
   "attachments": {},
   "cell_type": "markdown",
   "metadata": {},
   "source": [
    "- `del` también remueve el índice especificado"
   ]
  },
  {
   "cell_type": "code",
   "execution_count": 39,
   "metadata": {},
   "outputs": [
    {
     "name": "stdout",
     "output_type": "stream",
     "text": [
      "['manzana', 'limon', 'uva']\n"
     ]
    }
   ],
   "source": [
    "lista1= ['manzana','kiwi','limon','uva']\n",
    "del lista1 [1]\n",
    "print(lista1)"
   ]
  },
  {
   "attachments": {},
   "cell_type": "markdown",
   "metadata": {},
   "source": [
    "- `del` también elimina por completo la lista"
   ]
  },
  {
   "cell_type": "code",
   "execution_count": 42,
   "metadata": {},
   "outputs": [
    {
     "ename": "NameError",
     "evalue": "name 'lista1' is not defined",
     "output_type": "error",
     "traceback": [
      "\u001b[1;31m---------------------------------------------------------------------------\u001b[0m",
      "\u001b[1;31mNameError\u001b[0m                                 Traceback (most recent call last)",
      "Cell \u001b[1;32mIn[42], line 3\u001b[0m\n\u001b[0;32m      1\u001b[0m lista1\u001b[39m=\u001b[39m[\u001b[39m'\u001b[39m\u001b[39mmanzana\u001b[39m\u001b[39m'\u001b[39m,\u001b[39m'\u001b[39m\u001b[39mkiwi\u001b[39m\u001b[39m'\u001b[39m,\u001b[39m'\u001b[39m\u001b[39mlimon\u001b[39m\u001b[39m'\u001b[39m,\u001b[39m'\u001b[39m\u001b[39muva\u001b[39m\u001b[39m'\u001b[39m]\n\u001b[0;32m      2\u001b[0m \u001b[39mdel\u001b[39;00m lista1\n\u001b[1;32m----> 3\u001b[0m \u001b[39mprint\u001b[39m(lista1) \u001b[39m# esto dará error porque efectivamente borramos 'lista1' por lo tanto, el error será 'lista1 is not defined'\u001b[39;00m\n",
      "\u001b[1;31mNameError\u001b[0m: name 'lista1' is not defined"
     ]
    }
   ],
   "source": [
    "lista1=['manzana','kiwi','limon','uva']\n",
    "del lista1\n",
    "print(lista1) # esto dará error porque efectivamente borramos 'lista1' por lo tanto, el error será 'lista1 is not defined'\n"
   ]
  },
  {
   "attachments": {},
   "cell_type": "markdown",
   "metadata": {},
   "source": [
    "`clear()` método para vaciar una lista\n",
    "- La lista permanecerá pero no tendrá contenido, o sea, estará vacía."
   ]
  },
  {
   "cell_type": "code",
   "execution_count": 43,
   "metadata": {},
   "outputs": [
    {
     "name": "stdout",
     "output_type": "stream",
     "text": [
      "[]\n"
     ]
    }
   ],
   "source": [
    "lista1=['manzana','kiwi','limon','uva']\n",
    "lista1.clear()\n",
    "print(lista1)"
   ]
  }
 ],
 "metadata": {
  "kernelspec": {
   "display_name": "Python 3",
   "language": "python",
   "name": "python3"
  },
  "language_info": {
   "codemirror_mode": {
    "name": "ipython",
    "version": 3
   },
   "file_extension": ".py",
   "mimetype": "text/x-python",
   "name": "python",
   "nbconvert_exporter": "python",
   "pygments_lexer": "ipython3",
   "version": "3.11.2"
  },
  "orig_nbformat": 4
 },
 "nbformat": 4,
 "nbformat_minor": 2
}
