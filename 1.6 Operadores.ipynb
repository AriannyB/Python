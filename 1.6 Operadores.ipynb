{
 "cells": [
  {
   "attachments": {},
   "cell_type": "markdown",
   "metadata": {},
   "source": [
    "### Operadores\n",
    "Los operadores se utilizan para realizar operaciones con variables y valores.\n",
    "\n",
    "- aritméticos\n",
    "- de asignación\n",
    "- de comparación\n",
    "- lógicos\n",
    "- de identidad\n",
    "- de pertenencia\n",
    "- bit a bit\n"
   ]
  },
  {
   "attachments": {},
   "cell_type": "markdown",
   "metadata": {},
   "source": [
    "### Operadores ariméticos\n",
    "- `\\+` suma\n",
    "- `\\-` resta\n",
    "- `\\*` multiplicación\n",
    "- `/` division\n",
    "- `%` módulo\n",
    "- `**` exponencial\n",
    "- `//` divison entera\n"
   ]
  },
  {
   "cell_type": "code",
   "execution_count": 18,
   "metadata": {},
   "outputs": [
    {
     "name": "stdout",
     "output_type": "stream",
     "text": [
      "15\n",
      "5\n",
      "50\n",
      "5\n",
      "125\n",
      "1\n",
      "1.8\n"
     ]
    }
   ],
   "source": [
    "print(10+5)\n",
    "print(10-5)\n",
    "print(10*5)\n",
    "print(5%10) #devuelve el resto \"lo que sobra de la división\"\n",
    "print(5**3) #multiplica 5x5x5\n",
    "print(9//5)\n"
   ]
  },
  {
   "attachments": {},
   "cell_type": "markdown",
   "metadata": {},
   "source": [
    "### Operadores de asignación \n",
    "se utilizan para asignar valores a variables:\n",
    "- `= `\n",
    "- `+=`\n",
    "- `-=`\n",
    "- `*=`\n",
    "- `/=`\n",
    "- `%=`\n",
    "- `//=`\n",
    "- `**=`\n",
    "- `&=`\n",
    "- `!=`\n",
    "- `^=`\n",
    "- `\\>>=`\n",
    "- `<<=`\n",
    "\n"
   ]
  },
  {
   "cell_type": "code",
   "execution_count": 22,
   "metadata": {},
   "outputs": [
    {
     "name": "stdout",
     "output_type": "stream",
     "text": [
      "11\n"
     ]
    }
   ],
   "source": [
    "x= 5  \n",
    "x+= 3 #acá lo que hace es que le suma 3 a x que ERA = a 5 y ahora X es = a 8\n",
    "x= x+3\n",
    "print(x)\n"
   ]
  },
  {
   "attachments": {},
   "cell_type": "markdown",
   "metadata": {},
   "source": [
    "### Operadores de comparación\n",
    "- `==` igual\n",
    "- `!=` no igual\n",
    "- ` \\>`  mayor a\n",
    "- ` \\>=`  menor a\n",
    "- `<=` menor o igual a\n"
   ]
  },
  {
   "attachments": {},
   "cell_type": "markdown",
   "metadata": {},
   "source": [
    "### Operadores lógicos\n",
    "- `and`  devuelve `True` si ambas expresiones son `True`\n",
    "- `or` devuelve `True` si una de las expresiones son `True`\n",
    "- `not` invierte la expresión/valor, devuelve `False` si la expresión/valor es `True`\n"
   ]
  },
  {
   "attachments": {},
   "cell_type": "markdown",
   "metadata": {},
   "source": [
    "### Operadores de identidad\n",
    "- `is` devuelve True si ambas variables son el mismo objeto\n",
    "- `is not` devuelve True si ambas variables NO son el mismo objeto"
   ]
  },
  {
   "cell_type": "code",
   "execution_count": 10,
   "metadata": {},
   "outputs": [
    {
     "name": "stdout",
     "output_type": "stream",
     "text": [
      "True\n",
      "False\n",
      "True\n"
     ]
    }
   ],
   "source": [
    "x= ['manzana','pera']\n",
    "y= ['manzana','pera']\n",
    "z= x\n",
    "print(x is z ) # esto devuele True porque z es el mismo objeto que x\n",
    "print (y is z) # esto devuelve False porque y no es el mismo objeto que z ya que z es = a x\n",
    "\n",
    "print(x==y) #esto devuelve True porque estoy evaluando si x y y tienen lo mismos valores. \n"
   ]
  },
  {
   "attachments": {},
   "cell_type": "markdown",
   "metadata": {},
   "source": [
    "### Operadores de pertenencia\n",
    " Se utilizan para comprobar si una secuencia está presente en un objeto.\n",
    "- `in`\n",
    "- `not in`"
   ]
  },
  {
   "cell_type": "code",
   "execution_count": 14,
   "metadata": {},
   "outputs": [
    {
     "name": "stdout",
     "output_type": "stream",
     "text": [
      "True\n",
      "False\n"
     ]
    }
   ],
   "source": [
    "x= ['gatito','perrito']\n",
    "print('gatito' in x) # devuelve True porque 'gatito' está dentro de x, o sea, una lista.\n",
    "\n",
    "z= ['vaso','plato']\n",
    "print ('comida' in z) # devuelve False porque 'comida' no está dentro de z"
   ]
  },
  {
   "attachments": {},
   "cell_type": "markdown",
   "metadata": {},
   "source": [
    "### Precendecia de los operadores\n",
    "- Describe el orden en que se realizan las operaciones\n",
    "- Los paréntesis tienen la presendencia más alta, lo que significa que las expresiones dentro de los paréntsis\n",
    "deben evaluarse primero."
   ]
  },
  {
   "cell_type": "code",
   "execution_count": 15,
   "metadata": {},
   "outputs": [
    {
     "name": "stdout",
     "output_type": "stream",
     "text": [
      "0\n"
     ]
    }
   ],
   "source": [
    "print((6+3)-(6+3))"
   ]
  },
  {
   "attachments": {},
   "cell_type": "markdown",
   "metadata": {},
   "source": [
    "- La múltiplicación tiene mayor presedencia que la suma por lo que las multiplicaciones se evalúan primero\n",
    "que la suma"
   ]
  },
  {
   "cell_type": "code",
   "execution_count": 16,
   "metadata": {},
   "outputs": [
    {
     "name": "stdout",
     "output_type": "stream",
     "text": [
      "115\n"
     ]
    }
   ],
   "source": [
    "print(100 + 3 * 5) # 3 x 5 + 100"
   ]
  }
 ],
 "metadata": {
  "kernelspec": {
   "display_name": "Python 3",
   "language": "python",
   "name": "python3"
  },
  "language_info": {
   "codemirror_mode": {
    "name": "ipython",
    "version": 3
   },
   "file_extension": ".py",
   "mimetype": "text/x-python",
   "name": "python",
   "nbconvert_exporter": "python",
   "pygments_lexer": "ipython3",
   "version": "3.11.2"
  },
  "orig_nbformat": 4
 },
 "nbformat": 4,
 "nbformat_minor": 2
}
