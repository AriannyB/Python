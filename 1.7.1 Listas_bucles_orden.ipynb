{
 "cells": [
  {
   "attachments": {},
   "cell_type": "markdown",
   "metadata": {},
   "source": [
    "### Bucle en listas\n",
    "- Con `for` podemos recorrer una lista"
   ]
  },
  {
   "cell_type": "code",
   "execution_count": 2,
   "metadata": {},
   "outputs": [
    {
     "name": "stdout",
     "output_type": "stream",
     "text": [
      "manzana\n",
      "uva\n",
      "naranja\n",
      "pera\n",
      "melon\n"
     ]
    }
   ],
   "source": [
    "lista1=['manzana','uva','naranja','pera','melon']\n",
    "for i in lista1:\n",
    "    print(i)"
   ]
  },
  {
   "attachments": {},
   "cell_type": "markdown",
   "metadata": {},
   "source": [
    "- También podemos recorrer los elementos de la lista consultando su número de índice\n",
    "- funciones `range()` y `len()`"
   ]
  },
  {
   "cell_type": "code",
   "execution_count": 6,
   "metadata": {},
   "outputs": [
    {
     "name": "stdout",
     "output_type": "stream",
     "text": [
      "manzana\n",
      "uva\n",
      "naranaja\n",
      "pera\n"
     ]
    }
   ],
   "source": [
    "#Imprimiremos todos los items de la lista haciendo referencia a su índice\n",
    "lista1=['manzana','uva','naranaja','pera']\n",
    "for x in range(len(lista1)):\n",
    "    print(lista1[x])"
   ]
  },
  {
   "attachments": {},
   "cell_type": "markdown",
   "metadata": {},
   "source": [
    "### `while`\n",
    "- Podemos recorrer elementos de la lista utilizando este bucle\n",
    "- Utilizando la función `len()` podemos determinar la longitud de la lista.\n",
    "- Comenzamos en 0 y recorremos los elementos de la lista consultando sus índices\n",
    "- Recordemos aumentar el índice en 1 después de cada iteración"
   ]
  },
  {
   "cell_type": "code",
   "execution_count": 7,
   "metadata": {},
   "outputs": [
    {
     "name": "stdout",
     "output_type": "stream",
     "text": [
      "manzana\n",
      "limon\n",
      "pera\n"
     ]
    }
   ],
   "source": [
    "miLista= ['manzana','limon','pera']\n",
    "i= 0\n",
    "while i < len(miLista):\n",
    "    print(miLista[i])\n",
    "    i= i + 1"
   ]
  },
  {
   "attachments": {},
   "cell_type": "markdown",
   "metadata": {},
   "source": [
    "### Bucles con **List Comprehension**\n",
    "- Esto es una forma concisa de crear listas desde listas ya creadas.\n",
    "- Ofrece una sintaxis corta para realizar bucles en listas\n",
    "- Es una construcción sintática, lo veremos más adelante. \n"
   ]
  },
  {
   "cell_type": "code",
   "execution_count": 9,
   "metadata": {},
   "outputs": [
    {
     "name": "stdout",
     "output_type": "stream",
     "text": [
      "manzana\n",
      "pera\n",
      "uva\n"
     ]
    },
    {
     "data": {
      "text/plain": [
       "[None, None, None]"
      ]
     },
     "execution_count": 9,
     "metadata": {},
     "output_type": "execute_result"
    }
   ],
   "source": [
    "#Esto es un bucle for abreviado que imprimirá todos los elementos de una lista\n",
    "lista1=['manzana','pera','uva']\n",
    "[print(x) for x in lista1]"
   ]
  },
  {
   "attachments": {},
   "cell_type": "markdown",
   "metadata": {},
   "source": [
    "### Sintaxis\n",
    "El valor que devuelve es una nueva lista, dejando la anterior sin cambios."
   ]
  },
  {
   "cell_type": "code",
   "execution_count": null,
   "metadata": {},
   "outputs": [],
   "source": [
    "#nuevLista= [expresion for item in iterable if condicion == True]"
   ]
  },
  {
   "attachments": {},
   "cell_type": "markdown",
   "metadata": {},
   "source": [
    "### Condicion\n",
    "- Es como un filtro que sólo acepta valores que son True"
   ]
  },
  {
   "cell_type": "code",
   "execution_count": 3,
   "metadata": {},
   "outputs": [
    {
     "name": "stdout",
     "output_type": "stream",
     "text": [
      "['pera', 'uva', 'limon']\n"
     ]
    }
   ],
   "source": [
    "lista1=['manzana','pera','uva','limon']\n",
    "lista2=[x for x in lista1 if x != 'manzana'] #solo itera elementos/items que son 'manzana'\n",
    "print (lista2)"
   ]
  },
  {
   "attachments": {},
   "cell_type": "markdown",
   "metadata": {},
   "source": [
    "- la condición `if x != 'manzana'` devolverá `True` por todos los elementos que no sean `'manzana'`. Creando una nueva lista con todos los elementos excepto `'manzana'`"
   ]
  },
  {
   "attachments": {},
   "cell_type": "markdown",
   "metadata": {},
   "source": [
    "- la condición es opcional y podemos omitirla"
   ]
  },
  {
   "cell_type": "code",
   "execution_count": 4,
   "metadata": {},
   "outputs": [
    {
     "name": "stdout",
     "output_type": "stream",
     "text": [
      "['manzana', 'lima', 'melon', 'pera']\n"
     ]
    }
   ],
   "source": [
    "frutas=['manzana','lima','melon','pera']\n",
    "nuevasFrutas= [ x for x in frutas]\n",
    "print (nuevasFrutas)"
   ]
  },
  {
   "attachments": {},
   "cell_type": "markdown",
   "metadata": {},
   "source": [
    "### Iterable\n",
    "- el iterable puede ser cualquier objeto iterable: listas, tuplas, sets, etc.\n",
    "- podemos usar `range()` para crear un iterable\n"
   ]
  },
  {
   "cell_type": "code",
   "execution_count": 5,
   "metadata": {},
   "outputs": [
    {
     "name": "stdout",
     "output_type": "stream",
     "text": [
      "[0, 1, 2, 3, 4, 5, 6, 7, 8, 9]\n"
     ]
    }
   ],
   "source": [
    "lista1= [x for x in range(10)]\n",
    "print (lista1)"
   ]
  },
  {
   "attachments": {},
   "cell_type": "markdown",
   "metadata": {},
   "source": [
    "- mismo ejemplo pero con la condición\n",
    "- itera solo números que sean MENOR que 4"
   ]
  },
  {
   "cell_type": "code",
   "execution_count": 7,
   "metadata": {},
   "outputs": [
    {
     "name": "stdout",
     "output_type": "stream",
     "text": [
      "[0, 1, 2, 3, 4]\n"
     ]
    }
   ],
   "source": [
    "lista1= [x for x in range(10) if x < 5]\n",
    "print(lista1) #va a ITERAR sólo los elementos que sean menor que cinco"
   ]
  },
  {
   "attachments": {},
   "cell_type": "markdown",
   "metadata": {},
   "source": [
    "- la expresión es el elemento actual en la iteracion así como también es el resultado.\n",
    "- con esto podemos manipularlo antes de que termine un como elemento de lista en la nueva lista."
   ]
  },
  {
   "cell_type": "code",
   "execution_count": 8,
   "metadata": {},
   "outputs": [
    {
     "name": "stdout",
     "output_type": "stream",
     "text": [
      "['MANZANA', 'PERA', 'LISTA', 'UVA', 'LIMON']\n"
     ]
    }
   ],
   "source": [
    "frutas=['manzana','pera','lista','uva','limon']\n",
    "nuevasFrutas=[x.upper() for x in frutas]\n",
    "print(nuevasFrutas)"
   ]
  },
  {
   "attachments": {},
   "cell_type": "markdown",
   "metadata": {},
   "source": [
    "- Establece todos los valores en una nueva lista como `'hola'`"
   ]
  },
  {
   "cell_type": "code",
   "execution_count": 9,
   "metadata": {},
   "outputs": [
    {
     "name": "stdout",
     "output_type": "stream",
     "text": [
      "['hola', 'hola', 'hola', 'hola']\n"
     ]
    }
   ],
   "source": [
    "frutas=['manza','pera','limon','melon']\n",
    "nuevaLista=['hola' for x in frutas]\n",
    "print(nuevaLista)"
   ]
  },
  {
   "attachments": {},
   "cell_type": "markdown",
   "metadata": {},
   "source": [
    "- devuelve `'naranja'` en lugar de `'banana'`"
   ]
  },
  {
   "cell_type": "code",
   "execution_count": 15,
   "metadata": {},
   "outputs": [
    {
     "name": "stdout",
     "output_type": "stream",
     "text": [
      "['banana', 'pera', 'limon', 'melon']\n"
     ]
    }
   ],
   "source": [
    "frutas=['naranja','pera','limon','melon',]\n",
    "nuevaLista= [x if x != 'naranja' else 'banana' for x in frutas]\n",
    "print(nuevaLista)"
   ]
  },
  {
   "attachments": {},
   "cell_type": "markdown",
   "metadata": {},
   "source": [
    "### Ordenar lista alfanumericamente\n",
    "Las listas tienen el método `sort()` que ordena una lista de manera alphanumerica de forma ascendente."
   ]
  },
  {
   "cell_type": "code",
   "execution_count": 16,
   "metadata": {},
   "outputs": [
    {
     "name": "stdout",
     "output_type": "stream",
     "text": [
      "['limon', 'melon', 'naranja', 'pera', 'sandia', 'uva']\n"
     ]
    }
   ],
   "source": [
    "frutas=['naranja','limon','uva','pera','melon','sandia']\n",
    "frutas.sort()\n",
    "print(frutas)"
   ]
  },
  {
   "attachments": {},
   "cell_type": "markdown",
   "metadata": {},
   "source": [
    "- ordena la lista de manera numerica"
   ]
  },
  {
   "cell_type": "code",
   "execution_count": 17,
   "metadata": {},
   "outputs": [
    {
     "name": "stdout",
     "output_type": "stream",
     "text": [
      "[15, 100, 200, 345, 435]\n"
     ]
    }
   ],
   "source": [
    "listaNumeros=[100,200,15,345,435]\n",
    "listaNumeros.sort()\n",
    "print(listaNumeros)"
   ]
  },
  {
   "attachments": {},
   "cell_type": "markdown",
   "metadata": {},
   "source": [
    "- ordena de manera DESCENDENTE con: `sort(reverse= True)`"
   ]
  },
  {
   "cell_type": "code",
   "execution_count": 20,
   "metadata": {},
   "outputs": [
    {
     "name": "stdout",
     "output_type": "stream",
     "text": [
      "[435, 345, 200, 100, 15]\n",
      "['uva', 'sandia', 'pera', 'naranja', 'melon', 'limon']\n"
     ]
    }
   ],
   "source": [
    "listaNumeros=[100,200,15,345,435]\n",
    "listaNumeros.sort(reverse= True)\n",
    "print(listaNumeros)\n",
    "\n",
    "frutas=['naranja','limon','uva','pera','melon','sandia']\n",
    "frutas.sort(reverse= True)\n",
    "print(frutas)"
   ]
  },
  {
   "attachments": {},
   "cell_type": "markdown",
   "metadata": {},
   "source": [
    "### Customizar Sort Function\n",
    "- También podemos personalizar nuestra propia función utilizando la keyword con argumento `key= funcion`\n",
    "- La función devolverá un numero que se utilizará para ordenar la lista (el número mas bajo será el primero)\n"
   ]
  },
  {
   "cell_type": "code",
   "execution_count": 22,
   "metadata": {},
   "outputs": [
    {
     "name": "stdout",
     "output_type": "stream",
     "text": [
      "[50, 23, 100, 300, 454]\n"
     ]
    }
   ],
   "source": [
    "#ordenamos la lista en función de lo cerca que esté del número 50\n",
    "\n",
    "def miFuncion(n):\n",
    "    return abs(n - 50)\n",
    "listaNumeros=[100,50,300,23,454]\n",
    "listaNumeros.sort(key= miFuncion)\n",
    "print(listaNumeros)"
   ]
  },
  {
   "attachments": {},
   "cell_type": "markdown",
   "metadata": {},
   "source": [
    "- por defecto, el método ```sort()``` distingue entre mayúsculas y minúsculas, por lo que las mayúsculas se orden primero que las minúsculas.\n"
   ]
  },
  {
   "cell_type": "code",
   "execution_count": 23,
   "metadata": {},
   "outputs": [
    {
     "name": "stdout",
     "output_type": "stream",
     "text": [
      "['Kiwi', 'Manzana', 'limon', 'pera']\n"
     ]
    }
   ],
   "source": [
    "frutas= ['Manzana','pera','Kiwi','limon']\n",
    "frutas.sort()\n",
    "print(frutas)"
   ]
  },
  {
   "attachments": {},
   "cell_type": "markdown",
   "metadata": {},
   "source": [
    "- podemos utilizar funciones incorporadas como funcion clave para ordenar una lista.\n",
    "- si deseamos que una lista se ordene de manera que no distinga entre mayúsculas y minúsculas, utilizamos `str.lower` como función clave."
   ]
  },
  {
   "cell_type": "code",
   "execution_count": 25,
   "metadata": {},
   "outputs": [
    {
     "name": "stdout",
     "output_type": "stream",
     "text": [
      "['Kiwi', 'limon', 'Manzana', 'pera']\n"
     ]
    }
   ],
   "source": [
    "frutas= ['Manzana','pera','Kiwi','limon']\n",
    "frutas.sort(key= str.lower)\n",
    "print(frutas)"
   ]
  },
  {
   "attachments": {},
   "cell_type": "markdown",
   "metadata": {},
   "source": [
    "- `reverse()` si queremos ordenar una lista independientemente de su orden alfabetico \n",
    "- invierte el orden actual de los elementos"
   ]
  },
  {
   "cell_type": "code",
   "execution_count": 27,
   "metadata": {},
   "outputs": [
    {
     "name": "stdout",
     "output_type": "stream",
     "text": [
      "['limon', 'Kiwi', 'pera', 'Manzana']\n"
     ]
    }
   ],
   "source": [
    "frutas= ['Manzana','pera','Kiwi','limon']\n",
    "frutas.reverse()\n",
    "print(frutas)"
   ]
  }
 ],
 "metadata": {
  "kernelspec": {
   "display_name": "Python 3",
   "language": "python",
   "name": "python3"
  },
  "language_info": {
   "codemirror_mode": {
    "name": "ipython",
    "version": 3
   },
   "file_extension": ".py",
   "mimetype": "text/x-python",
   "name": "python",
   "nbconvert_exporter": "python",
   "pygments_lexer": "ipython3",
   "version": "3.11.2"
  },
  "orig_nbformat": 4
 },
 "nbformat": 4,
 "nbformat_minor": 2
}
