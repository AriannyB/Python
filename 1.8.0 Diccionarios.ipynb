{
 "cells": [
  {
   "attachments": {},
   "cell_type": "markdown",
   "metadata": {},
   "source": [
    "### Diccionarios\n",
    "- Los diccionarios se utilizan para almacenar valores de datos en pares de clave:valor\n",
    "- Un diccionario es una coleccion ordenada, modificable y que no admite duplicados.\n",
    "- se escriben entre llaves y tienen claves y valores.\n"
   ]
  },
  {
   "cell_type": "code",
   "execution_count": 1,
   "metadata": {},
   "outputs": [
    {
     "name": "stdout",
     "output_type": "stream",
     "text": [
      "{'nombre': 'Arianny', 'edad': '31', 'color': 'Azul'}\n"
     ]
    }
   ],
   "source": [
    "unDiccionario= {\n",
    "    'nombre': 'Arianny',\n",
    "    'edad' : '31',\n",
    "    'color': 'Azul'\n",
    "}\n",
    "\n",
    "print(unDiccionario)"
   ]
  },
  {
   "attachments": {},
   "cell_type": "markdown",
   "metadata": {},
   "source": [
    "Podemos acceder a un valor desde la clave."
   ]
  },
  {
   "cell_type": "code",
   "execution_count": 1,
   "metadata": {},
   "outputs": [
    {
     "name": "stdout",
     "output_type": "stream",
     "text": [
      "Arianny\n"
     ]
    }
   ],
   "source": [
    "unDiccionario= {\n",
    "    'nombre': 'Arianny',\n",
    "    'edad' : '31',\n",
    "    'color': 'Azul'\n",
    "}\n",
    "\n",
    "print(unDiccionario['nombre'])"
   ]
  },
  {
   "attachments": {},
   "cell_type": "markdown",
   "metadata": {},
   "source": [
    "- Tienen un orden definido y ese orden no cambiará.\n",
    "- Son modificables, podemos cambiar, añadir o eliminar elementos una vez creado el diccionario. "
   ]
  },
  {
   "attachments": {},
   "cell_type": "markdown",
   "metadata": {},
   "source": [
    "Los valores duplicados sobrescribirán los existentes."
   ]
  },
  {
   "cell_type": "code",
   "execution_count": 2,
   "metadata": {},
   "outputs": [
    {
     "name": "stdout",
     "output_type": "stream",
     "text": [
      "{'nombre': 'Arianny', 'edad': '33', 'color': 'Azul'}\n"
     ]
    }
   ],
   "source": [
    "unDiccionario= {\n",
    "    'nombre': 'Arianny',\n",
    "    'edad' : '31',\n",
    "    'edad':'33',\n",
    "    'color': 'Azul'\n",
    "}\n",
    "\n",
    "print(unDiccionario)"
   ]
  },
  {
   "attachments": {},
   "cell_type": "markdown",
   "metadata": {},
   "source": [
    "funcion `len()` para detenerminar cuántos items tiene un diccionario"
   ]
  },
  {
   "cell_type": "code",
   "execution_count": 3,
   "metadata": {},
   "outputs": [
    {
     "name": "stdout",
     "output_type": "stream",
     "text": [
      "3\n"
     ]
    }
   ],
   "source": [
    "unDiccionario= {\n",
    "    'nombre': 'Arianny',\n",
    "    'edad' : '31',\n",
    "    'edad':'33',\n",
    "    'color': 'Azul'\n",
    "}\n",
    "\n",
    "print(len(unDiccionario))"
   ]
  },
  {
   "attachments": {},
   "cell_type": "markdown",
   "metadata": {},
   "source": [
    "Los valores en los diccionarios pueden ser cualquier tipo de dato."
   ]
  },
  {
   "cell_type": "code",
   "execution_count": 4,
   "metadata": {},
   "outputs": [
    {
     "name": "stdout",
     "output_type": "stream",
     "text": [
      "{'nombre': 'Arianny', 'edad': 31, 'humano': False, 'colores': ['rosa', 'azul']}\n"
     ]
    }
   ],
   "source": [
    "otroDiccionario={\n",
    "    'nombre': 'Arianny',\n",
    "    'edad': 31,\n",
    "    'humano': False,\n",
    "    'colores': ['rosa','azul']\n",
    "}\n",
    "print(otroDiccionario)"
   ]
  },
  {
   "attachments": {},
   "cell_type": "markdown",
   "metadata": {},
   "source": [
    "Python define a los diccionarios como objetos con el tipo de data `'dict'`"
   ]
  },
  {
   "cell_type": "code",
   "execution_count": 5,
   "metadata": {},
   "outputs": [
    {
     "name": "stdout",
     "output_type": "stream",
     "text": [
      "<class 'dict'>\n"
     ]
    }
   ],
   "source": [
    "unDiccionario= {\n",
    "    'nombre': 'Arianny',\n",
    "    'edad' : '31',\n",
    "    'edad':'33',\n",
    "    'color': 'Azul'\n",
    "}\n",
    "\n",
    "print(type(unDiccionario))"
   ]
  },
  {
   "attachments": {},
   "cell_type": "markdown",
   "metadata": {},
   "source": [
    "Podemos utilizar el constructor `dict()` para crear un diccionario."
   ]
  },
  {
   "cell_type": "code",
   "execution_count": 6,
   "metadata": {},
   "outputs": [
    {
     "name": "stdout",
     "output_type": "stream",
     "text": [
      "{'edad': 31, 'nombre': 'Ary', 'pais': 'Argentina'}\n"
     ]
    }
   ],
   "source": [
    "items= dict(edad= 31, nombre= 'Ary', pais= 'Argentina')\n",
    "print(items)"
   ]
  },
  {
   "attachments": {},
   "cell_type": "markdown",
   "metadata": {},
   "source": [
    "### Acceder a elementos \n",
    "Podemos acceder a los elementos de un diccionario por su llave entre corchetes."
   ]
  },
  {
   "cell_type": "code",
   "execution_count": 7,
   "metadata": {},
   "outputs": [
    {
     "name": "stdout",
     "output_type": "stream",
     "text": [
      "Azul\n"
     ]
    }
   ],
   "source": [
    "unDiccionario= {\n",
    "    'nombre': 'Arianny',\n",
    "    'edad' : '31',\n",
    "    'edad':'33',\n",
    "    'color': 'Azul'\n",
    "}\n",
    "\n",
    "print(unDiccionario['color'])"
   ]
  },
  {
   "attachments": {},
   "cell_type": "markdown",
   "metadata": {},
   "source": [
    "También podemos acceder con el método `get()`"
   ]
  },
  {
   "cell_type": "code",
   "execution_count": 8,
   "metadata": {},
   "outputs": [
    {
     "name": "stdout",
     "output_type": "stream",
     "text": [
      "33\n"
     ]
    }
   ],
   "source": [
    "unDiccionario= {\n",
    "    'nombre': 'Arianny',\n",
    "    'edad' : '31',\n",
    "    'color': 'Azul'\n",
    "}\n",
    "print(unDiccionario.get('edad'))"
   ]
  },
  {
   "attachments": {},
   "cell_type": "markdown",
   "metadata": {},
   "source": [
    "El método `keys()` va a devolver una lista con todas las keys en el diccionario."
   ]
  },
  {
   "cell_type": "code",
   "execution_count": 9,
   "metadata": {},
   "outputs": [
    {
     "name": "stdout",
     "output_type": "stream",
     "text": [
      "dict_keys(['nombre', 'edad', 'color'])\n"
     ]
    }
   ],
   "source": [
    "unDiccionario= {\n",
    "    'nombre': 'Arianny',\n",
    "    'edad' : '31',\n",
    "    'color': 'Azul'\n",
    "}\n",
    "print(unDiccionario.keys())"
   ]
  },
  {
   "attachments": {},
   "cell_type": "markdown",
   "metadata": {},
   "source": [
    "La lista de las claves es una vista del diccionario. Cualquier cambio realizado en el diccionario se verá refelejado en la lista de las claves."
   ]
  },
  {
   "cell_type": "code",
   "execution_count": 12,
   "metadata": {},
   "outputs": [
    {
     "name": "stdout",
     "output_type": "stream",
     "text": [
      "dict_keys(['nombre', 'edad', 'color'])\n",
      "dict_keys(['nombre', 'edad', 'color', 'pais'])\n"
     ]
    }
   ],
   "source": [
    "unDiccionario= {\n",
    "    'nombre': 'Arianny',\n",
    "    'edad' : '31',\n",
    "    'color': 'Azul'\n",
    "}\n",
    "x= unDiccionario.keys()\n",
    "print(x)\n",
    "\n",
    "unDiccionario['pais']= 'Argentina'\n",
    "\n",
    "print(x)"
   ]
  },
  {
   "attachments": {},
   "cell_type": "markdown",
   "metadata": {},
   "source": [
    "El método `values()` devolverá una lista con los valores de un diccionario."
   ]
  },
  {
   "cell_type": "code",
   "execution_count": 13,
   "metadata": {},
   "outputs": [
    {
     "name": "stdout",
     "output_type": "stream",
     "text": [
      "dict_values(['Arianny', '31', 'Azul'])\n"
     ]
    }
   ],
   "source": [
    "unDiccionario= {\n",
    "    'nombre': 'Arianny',\n",
    "    'edad' : '31',\n",
    "    'color': 'Azul'\n",
    "}\n",
    "print(unDiccionario.values())"
   ]
  },
  {
   "attachments": {},
   "cell_type": "markdown",
   "metadata": {},
   "source": [
    "La lista de los valores es un vista del diccionario. Cualquier cambio que realicemos se verá reflejado en la lista de valores del diccionario."
   ]
  },
  {
   "cell_type": "code",
   "execution_count": 14,
   "metadata": {},
   "outputs": [
    {
     "name": "stdout",
     "output_type": "stream",
     "text": [
      "dict_values(['Arianny', '31', 'Azul'])\n",
      "dict_values(['Arianny', '31', 'verde'])\n"
     ]
    }
   ],
   "source": [
    "unDiccionario= {\n",
    "    'nombre': 'Arianny',\n",
    "    'edad' : '31',\n",
    "    'color': 'Azul'\n",
    "} \n",
    "x= unDiccionario.values()\n",
    "print(x)\n",
    "\n",
    "unDiccionario['color']='verde'\n",
    "print(x)"
   ]
  },
  {
   "attachments": {},
   "cell_type": "markdown",
   "metadata": {},
   "source": [
    "Agregamos un nuevo elemento al diccionario y veamos como la lista de valores cambia."
   ]
  },
  {
   "cell_type": "code",
   "execution_count": 16,
   "metadata": {},
   "outputs": [
    {
     "name": "stdout",
     "output_type": "stream",
     "text": [
      "{'nombre': 'Arianny', 'edad': '31', 'color': 'Azul'}\n",
      "{'nombre': 'Arianny', 'edad': '31', 'color': 'Azul', 'animal': 'gato'}\n"
     ]
    }
   ],
   "source": [
    "unDiccionario= {\n",
    "    'nombre': 'Arianny',\n",
    "    'edad' : '31',\n",
    "    'color': 'Azul',\n",
    "} \n",
    "x= unDiccionario\n",
    "print(x) #antes de agregar el nuevo elemento\n",
    "unDiccionario['animal']='gato' #aca agregamos el nuevo elemento\n",
    "print(x)#después de agregar el nuevo elemento"
   ]
  },
  {
   "attachments": {},
   "cell_type": "markdown",
   "metadata": {},
   "source": [
    "El método `items()` devolverá todos los elementos del diccionario como tupla en una lista"
   ]
  },
  {
   "cell_type": "code",
   "execution_count": 17,
   "metadata": {},
   "outputs": [
    {
     "name": "stdout",
     "output_type": "stream",
     "text": [
      "dict_items([('nombre', 'Arianny'), ('edad', '31'), ('color', 'Azul')])\n"
     ]
    }
   ],
   "source": [
    "unDiccionario= {\n",
    "    'nombre': 'Arianny',\n",
    "    'edad' : '31',\n",
    "    'color': 'Azul',\n",
    "}\n",
    "x= unDiccionario.items()\n",
    "print(x)"
   ]
  },
  {
   "attachments": {},
   "cell_type": "markdown",
   "metadata": {},
   "source": [
    "La lista devuelta es una vista de los elementos del diccionario. Cualquier cambio realizado en el diccionario se verá reflejeado en la lista de los elementos. Sea agregar un elemento nuevo o modificar alguno existente."
   ]
  },
  {
   "cell_type": "code",
   "execution_count": 24,
   "metadata": {},
   "outputs": [
    {
     "name": "stdout",
     "output_type": "stream",
     "text": [
      "{'nombre': 'Arianny', 'edad': '31', 'color': 'Azul'}\n",
      "{'nombre': 'Arianny', 'edad': '31', 'color': 'Azul', 'comida': 'milanesa'}\n",
      "{'nombre': 'Arianny', 'edad': '99', 'color': 'Azul', 'comida': 'milanesa'}\n"
     ]
    }
   ],
   "source": [
    "unDiccionario= {\n",
    "    'nombre': 'Arianny',\n",
    "    'edad' : '31',\n",
    "    'color': 'Azul',\n",
    "}\n",
    "x= unDiccionario\n",
    "print(x)\n",
    "unDiccionario['comida']='milanesa' #acá agregamos un nuevo elemento\n",
    "print(x)\n",
    "unDiccionario['edad']='99' #acá modificamos un elemento ya existente.\n",
    "print(x)"
   ]
  },
  {
   "attachments": {},
   "cell_type": "markdown",
   "metadata": {},
   "source": [
    "Con `in` verificamos si está presente una llave (key) especifica en el diccionario"
   ]
  },
  {
   "cell_type": "code",
   "execution_count": 23,
   "metadata": {},
   "outputs": [
    {
     "name": "stdout",
     "output_type": "stream",
     "text": [
      "Sí, \"nombre\" es una de las llaves en este diccionario\n"
     ]
    }
   ],
   "source": [
    "unDiccionario= {\n",
    "    'nombre': 'Arianny',\n",
    "    'edad' : '31',\n",
    "    'color': 'Azul',\n",
    "} \n",
    "if 'nombre' in unDiccionario:\n",
    "    print('Sí, \"nombre\" es una de las llaves en este diccionario')"
   ]
  },
  {
   "attachments": {},
   "cell_type": "markdown",
   "metadata": {},
   "source": [
    "### Cambiar valores\n",
    "Podemos cambiar el valor de un elemento especifico haciendo referencia a su nombre clave.\n"
   ]
  },
  {
   "cell_type": "code",
   "execution_count": 25,
   "metadata": {},
   "outputs": [
    {
     "name": "stdout",
     "output_type": "stream",
     "text": [
      "{'nombre': 'Arianny', 'edad': '31', 'color': 'rosa'}\n"
     ]
    }
   ],
   "source": [
    "unDiccionario= {\n",
    "    'nombre': 'Arianny',\n",
    "    'edad' : '31',\n",
    "    'color': 'Azul',\n",
    "}\n",
    "unDiccionario['color']='rosa'\n",
    "print(unDiccionario)"
   ]
  },
  {
   "attachments": {},
   "cell_type": "markdown",
   "metadata": {},
   "source": [
    "- El método `update()` actualizará el diccionario con los elementos del argumento dado. \n",
    "- El argumento debe ser un diccionario o un objeto iterable con pares de clave:valor."
   ]
  },
  {
   "cell_type": "code",
   "execution_count": 27,
   "metadata": {},
   "outputs": [
    {
     "name": "stdout",
     "output_type": "stream",
     "text": [
      "{'nombre': 'Arianny', 'edad': '33', 'color': 'Azul'}\n"
     ]
    }
   ],
   "source": [
    "unDiccionario= {\n",
    "    'nombre': 'Arianny',\n",
    "    'edad' : '31',\n",
    "    'color': 'Azul',\n",
    "}\n",
    "unDiccionario.update({'edad':'33'})\n",
    "\n",
    "print(unDiccionario)"
   ]
  },
  {
   "attachments": {},
   "cell_type": "markdown",
   "metadata": {},
   "source": [
    "### Agrega elementos\n",
    "Para añadir un elemento nuevo al diccionario, usamos una clave como índice y se le asigna un valor."
   ]
  },
  {
   "cell_type": "code",
   "execution_count": 28,
   "metadata": {},
   "outputs": [
    {
     "name": "stdout",
     "output_type": "stream",
     "text": [
      "{'nombre': 'Arianny', 'edad': '31', 'color': 'Azul', 'pais': 'Argentina'}\n"
     ]
    }
   ],
   "source": [
    "unDiccionario= {\n",
    "    'nombre': 'Arianny',\n",
    "    'edad' : '31',\n",
    "    'color': 'Azul',\n",
    "}\n",
    "\n",
    "unDiccionario['pais']='Argentina'\n",
    "print(unDiccionario)"
   ]
  },
  {
   "attachments": {},
   "cell_type": "markdown",
   "metadata": {},
   "source": [
    "El método `update()` actualizará el diccionario con el elemento dado como argumento. \n",
    "- El argumento debe ser un diccionario o un objeto iterable con pares clave:valor"
   ]
  },
  {
   "cell_type": "code",
   "execution_count": 29,
   "metadata": {},
   "outputs": [
    {
     "name": "stdout",
     "output_type": "stream",
     "text": [
      "{'nombre': 'Arianny', 'edad': '31', 'color': 'Azul', 'pais': 'Argentina'}\n"
     ]
    }
   ],
   "source": [
    "unDiccionario= {\n",
    "    'nombre': 'Arianny',\n",
    "    'edad' : '31',\n",
    "    'color': 'Azul',\n",
    "}\n",
    "\n",
    "unDiccionario.update({'pais':'Argentina'})\n",
    "print(unDiccionario)"
   ]
  },
  {
   "attachments": {},
   "cell_type": "markdown",
   "metadata": {},
   "source": [
    "### Remover items. \n",
    "Existen varios métodos para eliminar elementos de un diccionario. \n",
    "- el método `pop()` elimina el elemento con el nombre de clave especificado."
   ]
  },
  {
   "cell_type": "code",
   "execution_count": 30,
   "metadata": {},
   "outputs": [
    {
     "name": "stdout",
     "output_type": "stream",
     "text": [
      "{'edad': '31', 'color': 'Azul'}\n"
     ]
    }
   ],
   "source": [
    "unDiccionario= {\n",
    "    'nombre': 'Arianny',\n",
    "    'edad' : '31',\n",
    "    'color': 'Azul',\n",
    "}\n",
    "unDiccionario.pop('nombre')\n",
    "print(unDiccionario)"
   ]
  },
  {
   "attachments": {},
   "cell_type": "markdown",
   "metadata": {},
   "source": [
    "- El método `popitem()` elimina el último elemento insertado."
   ]
  },
  {
   "cell_type": "code",
   "execution_count": 32,
   "metadata": {},
   "outputs": [
    {
     "name": "stdout",
     "output_type": "stream",
     "text": [
      "{'nombre': 'Arianny', 'edad': '31', 'color': 'Azul'}\n"
     ]
    }
   ],
   "source": [
    "unDiccionario= {\n",
    "    'nombre': 'Arianny',\n",
    "    'edad' : '31',\n",
    "    'color': 'Azul',\n",
    "    'pais':'Argentina'\n",
    "}\n",
    "unDiccionario.popitem()\n",
    "print(unDiccionario)"
   ]
  },
  {
   "attachments": {},
   "cell_type": "markdown",
   "metadata": {},
   "source": [
    "La palabra clave `del` remueve el elemento especifico por su llave."
   ]
  },
  {
   "cell_type": "code",
   "execution_count": 34,
   "metadata": {},
   "outputs": [
    {
     "name": "stdout",
     "output_type": "stream",
     "text": [
      "{'nombre': 'Arianny', 'edad': '31', 'pais': 'Argentina'}\n"
     ]
    }
   ],
   "source": [
    "unDiccionario= {\n",
    "    'nombre': 'Arianny',\n",
    "    'edad' : '31',\n",
    "    'color': 'Azul',\n",
    "    'pais':'Argentina'\n",
    "} \n",
    "del unDiccionario['color']\n",
    "print (unDiccionario)"
   ]
  },
  {
   "attachments": {},
   "cell_type": "markdown",
   "metadata": {},
   "source": [
    "La palabra clave `del` también puede eliminar el diccionario por completo."
   ]
  },
  {
   "cell_type": "code",
   "execution_count": 36,
   "metadata": {},
   "outputs": [
    {
     "ename": "NameError",
     "evalue": "name 'unDiccionario' is not defined",
     "output_type": "error",
     "traceback": [
      "\u001b[1;31m---------------------------------------------------------------------------\u001b[0m",
      "\u001b[1;31mNameError\u001b[0m                                 Traceback (most recent call last)",
      "Cell \u001b[1;32mIn[36], line 8\u001b[0m\n\u001b[0;32m      1\u001b[0m unDiccionario\u001b[39m=\u001b[39m {\n\u001b[0;32m      2\u001b[0m     \u001b[39m'\u001b[39m\u001b[39mnombre\u001b[39m\u001b[39m'\u001b[39m: \u001b[39m'\u001b[39m\u001b[39mArianny\u001b[39m\u001b[39m'\u001b[39m,\n\u001b[0;32m      3\u001b[0m     \u001b[39m'\u001b[39m\u001b[39medad\u001b[39m\u001b[39m'\u001b[39m : \u001b[39m'\u001b[39m\u001b[39m31\u001b[39m\u001b[39m'\u001b[39m,\n\u001b[0;32m      4\u001b[0m     \u001b[39m'\u001b[39m\u001b[39mcolor\u001b[39m\u001b[39m'\u001b[39m: \u001b[39m'\u001b[39m\u001b[39mAzul\u001b[39m\u001b[39m'\u001b[39m,\n\u001b[0;32m      5\u001b[0m     \u001b[39m'\u001b[39m\u001b[39mpais\u001b[39m\u001b[39m'\u001b[39m:\u001b[39m'\u001b[39m\u001b[39mArgentina\u001b[39m\u001b[39m'\u001b[39m\n\u001b[0;32m      6\u001b[0m } \n\u001b[0;32m      7\u001b[0m \u001b[39mdel\u001b[39;00m unDiccionario\n\u001b[1;32m----> 8\u001b[0m \u001b[39mprint\u001b[39m(unDiccionario) \u001b[39m# esto derá error porque efectivamente el diccionario se eliminó por completo.\u001b[39;00m\n",
      "\u001b[1;31mNameError\u001b[0m: name 'unDiccionario' is not defined"
     ]
    }
   ],
   "source": [
    "unDiccionario= {\n",
    "    'nombre': 'Arianny',\n",
    "    'edad' : '31',\n",
    "    'color': 'Azul',\n",
    "    'pais':'Argentina'\n",
    "} \n",
    "del unDiccionario\n",
    "print(unDiccionario) # esto derá error porque efectivamente el diccionario se eliminó por completo."
   ]
  },
  {
   "attachments": {},
   "cell_type": "markdown",
   "metadata": {},
   "source": [
    "El método `clear()` vacía la lista."
   ]
  },
  {
   "cell_type": "code",
   "execution_count": 38,
   "metadata": {},
   "outputs": [
    {
     "name": "stdout",
     "output_type": "stream",
     "text": [
      "{}\n"
     ]
    }
   ],
   "source": [
    "unDiccionario= {\n",
    "    'nombre': 'Arianny',\n",
    "    'edad' : '31',\n",
    "    'color': 'Azul',\n",
    "    'pais':'Argentina'\n",
    "} \n",
    "unDiccionario.clear()\n",
    "print(unDiccionario)"
   ]
  }
 ],
 "metadata": {
  "kernelspec": {
   "display_name": "Python 3",
   "language": "python",
   "name": "python3"
  },
  "language_info": {
   "codemirror_mode": {
    "name": "ipython",
    "version": 3
   },
   "file_extension": ".py",
   "mimetype": "text/x-python",
   "name": "python",
   "nbconvert_exporter": "python",
   "pygments_lexer": "ipython3",
   "version": "3.11.2"
  },
  "orig_nbformat": 4
 },
 "nbformat": 4,
 "nbformat_minor": 2
}
